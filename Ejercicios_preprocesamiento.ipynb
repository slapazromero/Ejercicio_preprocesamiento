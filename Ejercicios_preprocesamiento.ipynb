{
  "nbformat": 4,
  "nbformat_minor": 0,
  "metadata": {
    "colab": {
      "provenance": [],
      "authorship_tag": "ABX9TyPojudgRSIdgFcjTDeGhpVB",
      "include_colab_link": true
    },
    "kernelspec": {
      "name": "python3",
      "display_name": "Python 3"
    },
    "language_info": {
      "name": "python"
    }
  },
  "cells": [
    {
      "cell_type": "markdown",
      "metadata": {
        "id": "view-in-github",
        "colab_type": "text"
      },
      "source": [
        "<a href=\"https://colab.research.google.com/github/slapazromero/Ejercicio_preprocesamiento/blob/main/Ejercicios_preprocesamiento.ipynb\" target=\"_parent\"><img src=\"https://colab.research.google.com/assets/colab-badge.svg\" alt=\"Open In Colab\"/></a>"
      ]
    },
    {
      "cell_type": "code",
      "source": [
        "import pandas as pd\n",
        "import numpy as np\n",
        "import random\n",
        "import scipy.stats as st\n",
        "from sklearn.preprocessing import MinMaxScaler\n",
        "import matplotlib.pyplot as plt"
      ],
      "metadata": {
        "id": "FTerGlAUozJD"
      },
      "execution_count": 1,
      "outputs": []
    },
    {
      "cell_type": "markdown",
      "source": [
        "### 1. Crea un dataframe (https://pandas.pydata.org/docs/reference/api/pandas.DataFrame.html) con 1000 registros para tres datos con valores aleatorios generados (https://numpy.org/doc/stable/reference/random/generated/numpy.random.rand.html https://numpy.org/doc/stable/reference/random/generated/numpy.random.normal.html)\n",
        "- x → entre 20 y 50\n",
        "- y → entre 50 y 150\n",
        "- z → entre 10000 y 40000"
      ],
      "metadata": {
        "id": "4Vn0J9lRrmc3"
      }
    },
    {
      "cell_type": "code",
      "execution_count": 2,
      "metadata": {
        "id": "S260WbANreCF"
      },
      "outputs": [],
      "source": [
        "data = {\n",
        "    'x': [random.triangular(20, 50) for _ in range(1000)],\n",
        "    'y': [random.triangular(50, 150) for _ in range(1000)],\n",
        "    'z': [random.triangular(10000, 40000) for _ in range(1000)]\n",
        "     }\n",
        "data_frame = pd.DataFrame(data = data)"
      ]
    },
    {
      "cell_type": "code",
      "source": [
        "data_frame"
      ],
      "metadata": {
        "colab": {
          "base_uri": "https://localhost:8080/",
          "height": 424
        },
        "id": "TsmpZd80mzz4",
        "outputId": "82d000bb-9d0e-457d-e872-49433cd6f61e"
      },
      "execution_count": 3,
      "outputs": [
        {
          "output_type": "execute_result",
          "data": {
            "text/plain": [
              "             x           y             z\n",
              "0    31.469366  123.781014  18568.837536\n",
              "1    33.258109  117.775638  26403.123289\n",
              "2    33.631154   98.142042  14428.822609\n",
              "3    29.408192   89.222863  21324.094609\n",
              "4    30.526462   58.656487  30009.012332\n",
              "..         ...         ...           ...\n",
              "995  41.694652  112.731156  18499.042119\n",
              "996  32.472578   64.262792  22183.128313\n",
              "997  36.116495  109.107159  33096.629600\n",
              "998  22.590672  126.069188  34255.593281\n",
              "999  40.703407  118.667963  11209.009007\n",
              "\n",
              "[1000 rows x 3 columns]"
            ],
            "text/html": [
              "\n",
              "  <div id=\"df-7a118b0e-cb29-4aa5-be32-f9308f7065fe\">\n",
              "    <div class=\"colab-df-container\">\n",
              "      <div>\n",
              "<style scoped>\n",
              "    .dataframe tbody tr th:only-of-type {\n",
              "        vertical-align: middle;\n",
              "    }\n",
              "\n",
              "    .dataframe tbody tr th {\n",
              "        vertical-align: top;\n",
              "    }\n",
              "\n",
              "    .dataframe thead th {\n",
              "        text-align: right;\n",
              "    }\n",
              "</style>\n",
              "<table border=\"1\" class=\"dataframe\">\n",
              "  <thead>\n",
              "    <tr style=\"text-align: right;\">\n",
              "      <th></th>\n",
              "      <th>x</th>\n",
              "      <th>y</th>\n",
              "      <th>z</th>\n",
              "    </tr>\n",
              "  </thead>\n",
              "  <tbody>\n",
              "    <tr>\n",
              "      <th>0</th>\n",
              "      <td>31.469366</td>\n",
              "      <td>123.781014</td>\n",
              "      <td>18568.837536</td>\n",
              "    </tr>\n",
              "    <tr>\n",
              "      <th>1</th>\n",
              "      <td>33.258109</td>\n",
              "      <td>117.775638</td>\n",
              "      <td>26403.123289</td>\n",
              "    </tr>\n",
              "    <tr>\n",
              "      <th>2</th>\n",
              "      <td>33.631154</td>\n",
              "      <td>98.142042</td>\n",
              "      <td>14428.822609</td>\n",
              "    </tr>\n",
              "    <tr>\n",
              "      <th>3</th>\n",
              "      <td>29.408192</td>\n",
              "      <td>89.222863</td>\n",
              "      <td>21324.094609</td>\n",
              "    </tr>\n",
              "    <tr>\n",
              "      <th>4</th>\n",
              "      <td>30.526462</td>\n",
              "      <td>58.656487</td>\n",
              "      <td>30009.012332</td>\n",
              "    </tr>\n",
              "    <tr>\n",
              "      <th>...</th>\n",
              "      <td>...</td>\n",
              "      <td>...</td>\n",
              "      <td>...</td>\n",
              "    </tr>\n",
              "    <tr>\n",
              "      <th>995</th>\n",
              "      <td>41.694652</td>\n",
              "      <td>112.731156</td>\n",
              "      <td>18499.042119</td>\n",
              "    </tr>\n",
              "    <tr>\n",
              "      <th>996</th>\n",
              "      <td>32.472578</td>\n",
              "      <td>64.262792</td>\n",
              "      <td>22183.128313</td>\n",
              "    </tr>\n",
              "    <tr>\n",
              "      <th>997</th>\n",
              "      <td>36.116495</td>\n",
              "      <td>109.107159</td>\n",
              "      <td>33096.629600</td>\n",
              "    </tr>\n",
              "    <tr>\n",
              "      <th>998</th>\n",
              "      <td>22.590672</td>\n",
              "      <td>126.069188</td>\n",
              "      <td>34255.593281</td>\n",
              "    </tr>\n",
              "    <tr>\n",
              "      <th>999</th>\n",
              "      <td>40.703407</td>\n",
              "      <td>118.667963</td>\n",
              "      <td>11209.009007</td>\n",
              "    </tr>\n",
              "  </tbody>\n",
              "</table>\n",
              "<p>1000 rows × 3 columns</p>\n",
              "</div>\n",
              "      <button class=\"colab-df-convert\" onclick=\"convertToInteractive('df-7a118b0e-cb29-4aa5-be32-f9308f7065fe')\"\n",
              "              title=\"Convert this dataframe to an interactive table.\"\n",
              "              style=\"display:none;\">\n",
              "        \n",
              "  <svg xmlns=\"http://www.w3.org/2000/svg\" height=\"24px\"viewBox=\"0 0 24 24\"\n",
              "       width=\"24px\">\n",
              "    <path d=\"M0 0h24v24H0V0z\" fill=\"none\"/>\n",
              "    <path d=\"M18.56 5.44l.94 2.06.94-2.06 2.06-.94-2.06-.94-.94-2.06-.94 2.06-2.06.94zm-11 1L8.5 8.5l.94-2.06 2.06-.94-2.06-.94L8.5 2.5l-.94 2.06-2.06.94zm10 10l.94 2.06.94-2.06 2.06-.94-2.06-.94-.94-2.06-.94 2.06-2.06.94z\"/><path d=\"M17.41 7.96l-1.37-1.37c-.4-.4-.92-.59-1.43-.59-.52 0-1.04.2-1.43.59L10.3 9.45l-7.72 7.72c-.78.78-.78 2.05 0 2.83L4 21.41c.39.39.9.59 1.41.59.51 0 1.02-.2 1.41-.59l7.78-7.78 2.81-2.81c.8-.78.8-2.07 0-2.86zM5.41 20L4 18.59l7.72-7.72 1.47 1.35L5.41 20z\"/>\n",
              "  </svg>\n",
              "      </button>\n",
              "      \n",
              "  <style>\n",
              "    .colab-df-container {\n",
              "      display:flex;\n",
              "      flex-wrap:wrap;\n",
              "      gap: 12px;\n",
              "    }\n",
              "\n",
              "    .colab-df-convert {\n",
              "      background-color: #E8F0FE;\n",
              "      border: none;\n",
              "      border-radius: 50%;\n",
              "      cursor: pointer;\n",
              "      display: none;\n",
              "      fill: #1967D2;\n",
              "      height: 32px;\n",
              "      padding: 0 0 0 0;\n",
              "      width: 32px;\n",
              "    }\n",
              "\n",
              "    .colab-df-convert:hover {\n",
              "      background-color: #E2EBFA;\n",
              "      box-shadow: 0px 1px 2px rgba(60, 64, 67, 0.3), 0px 1px 3px 1px rgba(60, 64, 67, 0.15);\n",
              "      fill: #174EA6;\n",
              "    }\n",
              "\n",
              "    [theme=dark] .colab-df-convert {\n",
              "      background-color: #3B4455;\n",
              "      fill: #D2E3FC;\n",
              "    }\n",
              "\n",
              "    [theme=dark] .colab-df-convert:hover {\n",
              "      background-color: #434B5C;\n",
              "      box-shadow: 0px 1px 3px 1px rgba(0, 0, 0, 0.15);\n",
              "      filter: drop-shadow(0px 1px 2px rgba(0, 0, 0, 0.3));\n",
              "      fill: #FFFFFF;\n",
              "    }\n",
              "  </style>\n",
              "\n",
              "      <script>\n",
              "        const buttonEl =\n",
              "          document.querySelector('#df-7a118b0e-cb29-4aa5-be32-f9308f7065fe button.colab-df-convert');\n",
              "        buttonEl.style.display =\n",
              "          google.colab.kernel.accessAllowed ? 'block' : 'none';\n",
              "\n",
              "        async function convertToInteractive(key) {\n",
              "          const element = document.querySelector('#df-7a118b0e-cb29-4aa5-be32-f9308f7065fe');\n",
              "          const dataTable =\n",
              "            await google.colab.kernel.invokeFunction('convertToInteractive',\n",
              "                                                     [key], {});\n",
              "          if (!dataTable) return;\n",
              "\n",
              "          const docLinkHtml = 'Like what you see? Visit the ' +\n",
              "            '<a target=\"_blank\" href=https://colab.research.google.com/notebooks/data_table.ipynb>data table notebook</a>'\n",
              "            + ' to learn more about interactive tables.';\n",
              "          element.innerHTML = '';\n",
              "          dataTable['output_type'] = 'display_data';\n",
              "          await google.colab.output.renderOutput(dataTable, element);\n",
              "          const docLink = document.createElement('div');\n",
              "          docLink.innerHTML = docLinkHtml;\n",
              "          element.appendChild(docLink);\n",
              "        }\n",
              "      </script>\n",
              "    </div>\n",
              "  </div>\n",
              "  "
            ]
          },
          "metadata": {},
          "execution_count": 3
        }
      ]
    },
    {
      "cell_type": "code",
      "source": [
        "plt.hist(data_frame['x'])"
      ],
      "metadata": {
        "colab": {
          "base_uri": "https://localhost:8080/",
          "height": 352
        },
        "id": "ab7hOi5ifDqH",
        "outputId": "46e6db68-59a7-4a4e-93a2-9e0ac81375db"
      },
      "execution_count": 30,
      "outputs": [
        {
          "output_type": "execute_result",
          "data": {
            "text/plain": [
              "(array([ 17.,  68.,  95., 151., 190., 160., 135., 103.,  56.,  25.]),\n",
              " array([20.16968433, 23.141706  , 26.11372767, 29.08574933, 32.057771  ,\n",
              "        35.02979267, 38.00181434, 40.97383601, 43.94585768, 46.91787935,\n",
              "        49.88990102]),\n",
              " <a list of 10 Patch objects>)"
            ]
          },
          "metadata": {},
          "execution_count": 30
        },
        {
          "output_type": "display_data",
          "data": {
            "text/plain": [
              "<Figure size 432x288 with 1 Axes>"
            ],
            "image/png": "[encoded data removed]"
          },
          "metadata": {
            "needs_background": "light"
          }
        }
      ]
    },
    {
      "cell_type": "code",
      "source": [
        "plt.hist(data_frame['y'])"
      ],
      "metadata": {
        "colab": {
          "base_uri": "https://localhost:8080/",
          "height": 352
        },
        "outputId": "1e9be525-350e-4541-8ae9-94a59c990fac",
        "id": "iuaLxAatf89K"
      },
      "execution_count": 31,
      "outputs": [
        {
          "output_type": "execute_result",
          "data": {
            "text/plain": [
              "(array([ 36.,  68.,  89., 127., 177., 186., 129., 100.,  62.,  26.]),\n",
              " array([ 52.72332647,  62.22782002,  71.73231357,  81.23680712,\n",
              "         90.74130067, 100.24579422, 109.75028777, 119.25478132,\n",
              "        128.75927487, 138.26376842, 147.76826197]),\n",
              " <a list of 10 Patch objects>)"
            ]
          },
          "metadata": {},
          "execution_count": 31
        },
        {
          "output_type": "display_data",
          "data": {
            "text/plain": [
              "<Figure size 432x288 with 1 Axes>"
            ],
            "image/png": "[encoded data removed]"
          },
          "metadata": {
            "needs_background": "light"
          }
        }
      ]
    },
    {
      "cell_type": "code",
      "source": [
        "plt.hist(data_frame['z'])"
      ],
      "metadata": {
        "colab": {
          "base_uri": "https://localhost:8080/",
          "height": 352
        },
        "outputId": "a1f81a30-b000-4b5f-c22b-8b7085234018",
        "id": "SCq-SY52f9dK"
      },
      "execution_count": 32,
      "outputs": [
        {
          "output_type": "execute_result",
          "data": {
            "text/plain": [
              "(array([ 35.,  56.,  96., 133., 201., 153., 144.,  88.,  73.,  21.]),\n",
              " array([10886.93264192, 13754.73078663, 16622.52893135, 19490.32707606,\n",
              "        22358.12522077, 25225.92336548, 28093.72151019, 30961.5196549 ,\n",
              "        33829.31779961, 36697.11594433, 39564.91408904]),\n",
              " <a list of 10 Patch objects>)"
            ]
          },
          "metadata": {},
          "execution_count": 32
        },
        {
          "output_type": "display_data",
          "data": {
            "text/plain": [
              "<Figure size 432x288 with 1 Axes>"
            ],
            "image/png": "[encoded data removed]"
          },
          "metadata": {
            "needs_background": "light"
          }
        }
      ]
    },
    {
      "cell_type": "markdown",
      "source": [
        "### 2. Muestra los datos estadísticos de cada variable (media, desviación típica, máx, mín, etc.)\n"
      ],
      "metadata": {
        "id": "qbNnezolVmnk"
      }
    },
    {
      "cell_type": "code",
      "source": [
        "data_frame.describe()"
      ],
      "metadata": {
        "colab": {
          "base_uri": "https://localhost:8080/",
          "height": 300
        },
        "id": "27H26O8gV0R6",
        "outputId": "983b74f4-c279-43a5-f7c7-9a4fea2ffb3c"
      },
      "execution_count": 4,
      "outputs": [
        {
          "output_type": "execute_result",
          "data": {
            "text/plain": [
              "                 x            y             z\n",
              "count  1000.000000  1000.000000   1000.000000\n",
              "mean     34.926347    99.818799  25139.741925\n",
              "std       6.150012    20.497557   6049.261231\n",
              "min      20.169684    52.723326  10886.932642\n",
              "25%      30.698559    85.430365  20871.962246\n",
              "50%      34.707518   100.437271  24975.889476\n",
              "75%      39.354616   114.434725  29496.073438\n",
              "max      49.889901   147.768262  39564.914089"
            ],
            "text/html": [
              "\n",
              "  <div id=\"df-be1f8373-9a52-41bc-9eab-a6e9421c3894\">\n",
              "    <div class=\"colab-df-container\">\n",
              "      <div>\n",
              "<style scoped>\n",
              "    .dataframe tbody tr th:only-of-type {\n",
              "        vertical-align: middle;\n",
              "    }\n",
              "\n",
              "    .dataframe tbody tr th {\n",
              "        vertical-align: top;\n",
              "    }\n",
              "\n",
              "    .dataframe thead th {\n",
              "        text-align: right;\n",
              "    }\n",
              "</style>\n",
              "<table border=\"1\" class=\"dataframe\">\n",
              "  <thead>\n",
              "    <tr style=\"text-align: right;\">\n",
              "      <th></th>\n",
              "      <th>x</th>\n",
              "      <th>y</th>\n",
              "      <th>z</th>\n",
              "    </tr>\n",
              "  </thead>\n",
              "  <tbody>\n",
              "    <tr>\n",
              "      <th>count</th>\n",
              "      <td>1000.000000</td>\n",
              "      <td>1000.000000</td>\n",
              "      <td>1000.000000</td>\n",
              "    </tr>\n",
              "    <tr>\n",
              "      <th>mean</th>\n",
              "      <td>34.926347</td>\n",
              "      <td>99.818799</td>\n",
              "      <td>25139.741925</td>\n",
              "    </tr>\n",
              "    <tr>\n",
              "      <th>std</th>\n",
              "      <td>6.150012</td>\n",
              "      <td>20.497557</td>\n",
              "      <td>6049.261231</td>\n",
              "    </tr>\n",
              "    <tr>\n",
              "      <th>min</th>\n",
              "      <td>20.169684</td>\n",
              "      <td>52.723326</td>\n",
              "      <td>10886.932642</td>\n",
              "    </tr>\n",
              "    <tr>\n",
              "      <th>25%</th>\n",
              "      <td>30.698559</td>\n",
              "      <td>85.430365</td>\n",
              "      <td>20871.962246</td>\n",
              "    </tr>\n",
              "    <tr>\n",
              "      <th>50%</th>\n",
              "      <td>34.707518</td>\n",
              "      <td>100.437271</td>\n",
              "      <td>24975.889476</td>\n",
              "    </tr>\n",
              "    <tr>\n",
              "      <th>75%</th>\n",
              "      <td>39.354616</td>\n",
              "      <td>114.434725</td>\n",
              "      <td>29496.073438</td>\n",
              "    </tr>\n",
              "    <tr>\n",
              "      <th>max</th>\n",
              "      <td>49.889901</td>\n",
              "      <td>147.768262</td>\n",
              "      <td>39564.914089</td>\n",
              "    </tr>\n",
              "  </tbody>\n",
              "</table>\n",
              "</div>\n",
              "      <button class=\"colab-df-convert\" onclick=\"convertToInteractive('df-be1f8373-9a52-41bc-9eab-a6e9421c3894')\"\n",
              "              title=\"Convert this dataframe to an interactive table.\"\n",
              "              style=\"display:none;\">\n",
              "        \n",
              "  <svg xmlns=\"http://www.w3.org/2000/svg\" height=\"24px\"viewBox=\"0 0 24 24\"\n",
              "       width=\"24px\">\n",
              "    <path d=\"M0 0h24v24H0V0z\" fill=\"none\"/>\n",
              "    <path d=\"M18.56 5.44l.94 2.06.94-2.06 2.06-.94-2.06-.94-.94-2.06-.94 2.06-2.06.94zm-11 1L8.5 8.5l.94-2.06 2.06-.94-2.06-.94L8.5 2.5l-.94 2.06-2.06.94zm10 10l.94 2.06.94-2.06 2.06-.94-2.06-.94-.94-2.06-.94 2.06-2.06.94z\"/><path d=\"M17.41 7.96l-1.37-1.37c-.4-.4-.92-.59-1.43-.59-.52 0-1.04.2-1.43.59L10.3 9.45l-7.72 7.72c-.78.78-.78 2.05 0 2.83L4 21.41c.39.39.9.59 1.41.59.51 0 1.02-.2 1.41-.59l7.78-7.78 2.81-2.81c.8-.78.8-2.07 0-2.86zM5.41 20L4 18.59l7.72-7.72 1.47 1.35L5.41 20z\"/>\n",
              "  </svg>\n",
              "      </button>\n",
              "      \n",
              "  <style>\n",
              "    .colab-df-container {\n",
              "      display:flex;\n",
              "      flex-wrap:wrap;\n",
              "      gap: 12px;\n",
              "    }\n",
              "\n",
              "    .colab-df-convert {\n",
              "      background-color: #E8F0FE;\n",
              "      border: none;\n",
              "      border-radius: 50%;\n",
              "      cursor: pointer;\n",
              "      display: none;\n",
              "      fill: #1967D2;\n",
              "      height: 32px;\n",
              "      padding: 0 0 0 0;\n",
              "      width: 32px;\n",
              "    }\n",
              "\n",
              "    .colab-df-convert:hover {\n",
              "      background-color: #E2EBFA;\n",
              "      box-shadow: 0px 1px 2px rgba(60, 64, 67, 0.3), 0px 1px 3px 1px rgba(60, 64, 67, 0.15);\n",
              "      fill: #174EA6;\n",
              "    }\n",
              "\n",
              "    [theme=dark] .colab-df-convert {\n",
              "      background-color: #3B4455;\n",
              "      fill: #D2E3FC;\n",
              "    }\n",
              "\n",
              "    [theme=dark] .colab-df-convert:hover {\n",
              "      background-color: #434B5C;\n",
              "      box-shadow: 0px 1px 3px 1px rgba(0, 0, 0, 0.15);\n",
              "      filter: drop-shadow(0px 1px 2px rgba(0, 0, 0, 0.3));\n",
              "      fill: #FFFFFF;\n",
              "    }\n",
              "  </style>\n",
              "\n",
              "      <script>\n",
              "        const buttonEl =\n",
              "          document.querySelector('#df-be1f8373-9a52-41bc-9eab-a6e9421c3894 button.colab-df-convert');\n",
              "        buttonEl.style.display =\n",
              "          google.colab.kernel.accessAllowed ? 'block' : 'none';\n",
              "\n",
              "        async function convertToInteractive(key) {\n",
              "          const element = document.querySelector('#df-be1f8373-9a52-41bc-9eab-a6e9421c3894');\n",
              "          const dataTable =\n",
              "            await google.colab.kernel.invokeFunction('convertToInteractive',\n",
              "                                                     [key], {});\n",
              "          if (!dataTable) return;\n",
              "\n",
              "          const docLinkHtml = 'Like what you see? Visit the ' +\n",
              "            '<a target=\"_blank\" href=https://colab.research.google.com/notebooks/data_table.ipynb>data table notebook</a>'\n",
              "            + ' to learn more about interactive tables.';\n",
              "          element.innerHTML = '';\n",
              "          dataTable['output_type'] = 'display_data';\n",
              "          await google.colab.output.renderOutput(dataTable, element);\n",
              "          const docLink = document.createElement('div');\n",
              "          docLink.innerHTML = docLinkHtml;\n",
              "          element.appendChild(docLink);\n",
              "        }\n",
              "      </script>\n",
              "    </div>\n",
              "  </div>\n",
              "  "
            ]
          },
          "metadata": {},
          "execution_count": 4
        }
      ]
    },
    {
      "cell_type": "markdown",
      "source": [
        "### 3. Usando la distribución normal calcula las siguientes probabilidades\n",
        "- calcula (usando la distribución normal) la probabilidad que el valor **\"y\"** esté entre 55 y 70\n",
        "- calcula (usando la distribución normal) la probabilidad que el valor **\"z\"** esté entre 20000 y 30000"
      ],
      "metadata": {
        "id": "ObkXhgsbWZVa"
      }
    },
    {
      "cell_type": "code",
      "source": [
        "def is_column_name(data_frame, column_name):\n",
        "  if column_name is None:\n",
        "    return data_frame\n",
        "  else:\n",
        "    return data_frame[column_name]\n",
        "\n",
        "def normalization(mu, sigma, value):\n",
        "  return (value - mu) / sigma\n",
        "\n",
        "def calculate_probability(data_frame, point_a, point_b, column_name = None):\n",
        "  \n",
        "  data = is_column_name(data_frame, column_name)\n",
        "\n",
        "  # Media\n",
        "  mu = data.mean()\n",
        "  # Desviación tipica\n",
        "  sigma = data.std()\n",
        "\n",
        "  a = normalization(mu, sigma, point_a)\n",
        "  b = normalization(mu, sigma, point_b)\n",
        "\n",
        "  return st.norm.cdf(b) - st.norm.cdf(a)"
      ],
      "metadata": {
        "id": "RTChHSobWlSY"
      },
      "execution_count": 5,
      "outputs": []
    },
    {
      "cell_type": "code",
      "source": [
        "calculate_probability(data_frame, 55, 70, 'y')"
      ],
      "metadata": {
        "colab": {
          "base_uri": "https://localhost:8080/"
        },
        "id": "GeFXhr0DoEay",
        "outputId": "3fa24a67-e3d6-4129-b3c5-7e9dd60fd465"
      },
      "execution_count": 6,
      "outputs": [
        {
          "output_type": "execute_result",
          "data": {
            "text/plain": [
              "0.05848145470576917"
            ]
          },
          "metadata": {},
          "execution_count": 6
        }
      ]
    },
    {
      "cell_type": "code",
      "source": [
        "calculate_probability(data_frame, 20000, 30000, 'z')"
      ],
      "metadata": {
        "colab": {
          "base_uri": "https://localhost:8080/"
        },
        "id": "rZlTRqw0afj7",
        "outputId": "36854532-2582-44f5-8cb0-2e982c29c3bc"
      },
      "execution_count": 7,
      "outputs": [
        {
          "output_type": "execute_result",
          "data": {
            "text/plain": [
              "0.591381216717474"
            ]
          },
          "metadata": {},
          "execution_count": 7
        }
      ]
    },
    {
      "cell_type": "markdown",
      "source": [
        "### 4. Realiza dos funciones que reciban un dataframe y un nombre de columna y devuelva una tupla con los valores (XL, XN) correspondiente al intervalo al cual si no pertenece un valor puede ser considerado como outlier.\n",
        "- Realiza el método 1 (el que se basa en la distribución normal).\n",
        "  - Esta función además deberá recibir el porcentaje para que un elemento se quede en la banda.\n",
        "- Realiza la función usando el método basado en cuantilies.\n",
        "  - Esta función además deberá recibir otro parámetro (k) que indica si queremos detectar outliers débiles(1.5) o no (k=3).\n"
      ],
      "metadata": {
        "id": "WUj4eqZTbCrt"
      }
    },
    {
      "cell_type": "code",
      "source": [
        "def outlier_normal_dist(data_frame, column_name = None, p_g = 0.95):\n",
        "  \n",
        "  data = is_column_name(data_frame, column_name)\n",
        "\n",
        "  alfa_g = (1 - p_g) / 2\n",
        "  alfa = 1 - ((1 - alfa_g) ** (1 / len(data) ) )\n",
        "  k = st.norm.ppf(1 - alfa / 2)\n",
        "\n",
        "  std = np.std(data)\n",
        "  mean = np.mean(data)\n",
        "\n",
        "  xL = round(mean - k * std, 4)\n",
        "  xU = round(mean + k * std, 4)\n",
        "  return (xL, xU)\n",
        "\n",
        "def outlier_quantiles(data_frame, column_name = None, weak = True):\n",
        "  \n",
        "  data = is_column_name(data_frame, column_name)\n",
        "  \n",
        "  if weak:\n",
        "    k = 1.5\n",
        "  else:\n",
        "    k = 3\n",
        "\n",
        "  Q1 = np.quantile(data, 0.25)\n",
        "  Q3 = np.quantile(data, 0.75)\n",
        "  IQR = Q3 - Q1\n",
        "\n",
        "  xL = Q1 - k * IQR\n",
        "  xU = Q3 + k * IQR\n",
        "  return (xL, xU)"
      ],
      "metadata": {
        "id": "_w46M7edbb1X"
      },
      "execution_count": 8,
      "outputs": []
    },
    {
      "cell_type": "code",
      "source": [
        "outlier_x_n = outlier_normal_dist(data_frame, 'x')\n",
        "outlier_y_n = outlier_normal_dist(data_frame, 'y')\n",
        "outlier_z_n = outlier_normal_dist(data_frame, 'z')\n",
        "print(outlier_x_n, outlier_y_n, outlier_z_n)"
      ],
      "metadata": {
        "colab": {
          "base_uri": "https://localhost:8080/"
        },
        "id": "aXT7K40z9Dmb",
        "outputId": "74ed2ac0-d2ea-44d5-ae5a-63d7f793bf5c"
      },
      "execution_count": 9,
      "outputs": [
        {
          "output_type": "stream",
          "name": "stdout",
          "text": [
            "(9.0358, 60.8169) (13.5273, 186.1103) (-326.705, 50606.1889)\n"
          ]
        }
      ]
    },
    {
      "cell_type": "code",
      "source": [
        "outlier_x_q = outlier_quantiles(data_frame, 'x')\n",
        "outlier_y_q = outlier_quantiles(data_frame, 'y')\n",
        "outlier_z_q = outlier_quantiles(data_frame, 'z')\n",
        "print(outlier_x_q, outlier_y_q, outlier_z_q)"
      ],
      "metadata": {
        "colab": {
          "base_uri": "https://localhost:8080/"
        },
        "id": "14stHGtJ9i2w",
        "outputId": "0548cd7b-b1bd-487c-854b-d2c8735f395c"
      },
      "execution_count": 10,
      "outputs": [
        {
          "output_type": "stream",
          "name": "stdout",
          "text": [
            "(17.714473219072516, 52.33870195555059) (41.92382537750162, 157.94126447652903) (7935.795456346059, 42432.24022773577)\n"
          ]
        }
      ]
    },
    {
      "cell_type": "markdown",
      "source": [
        "### 5. Introduce deliberadamente dos valores fuera de los rangos en alguno de los atributos (x, y, z) y, usando el método jackknife detecte las observaciones influyentes para la media. Haz lo mismo para la mediana. Comenta los resultados obtenidos"
      ],
      "metadata": {
        "id": "DzD3nBNAsFYS"
      }
    },
    {
      "cell_type": "code",
      "source": [
        "def print_mean_median(data_frame, column_name = None):\n",
        "  \n",
        "  data = is_column_name(data_frame, column_name)\n",
        "\n",
        "  print(f'Media: {np.mean(data)}, Mediana: {np.median(data)}')\n",
        "\n",
        "def means_array(data_frame, column_name = None):\n",
        "  \n",
        "  data = is_column_name(data_frame, column_name)\n",
        "\n",
        "  means = np.zeros(len(data))\n",
        "\n",
        "  for i in range(len(data)):\n",
        "    data_not_i = np.delete(np.asarray(data), i)\n",
        "    means[i] = np.mean(data_not_i)\n",
        "  \n",
        "  return means\n",
        "\n",
        "def medians_array(data_frame, column_name = None):\n",
        "  \n",
        "  data = is_column_name(data_frame, column_name)\n",
        "\n",
        "  medians = np.zeros(len(data))\n",
        "  \n",
        "  for i in range(len(data)):\n",
        "    data_not_i = np.delete(np.asarray(data), i)\n",
        "    medians[i] = np.median(data_not_i)\n",
        "  \n",
        "  return medians"
      ],
      "metadata": {
        "id": "uztKdKZt0bPC"
      },
      "execution_count": 11,
      "outputs": []
    },
    {
      "cell_type": "code",
      "source": [
        "data_frame['y'][50] = -25\n",
        "data_frame['y'][70] = 500\n",
        "\n",
        "print_mean_median(data_frame, 'y')\n"
      ],
      "metadata": {
        "id": "mEld-rEYsMg1",
        "colab": {
          "base_uri": "https://localhost:8080/"
        },
        "outputId": "c9c0be79-7998-4f06-bba1-eab4bf68f49c"
      },
      "execution_count": 12,
      "outputs": [
        {
          "output_type": "stream",
          "name": "stdout",
          "text": [
            "Media: 99.50425822622975, Mediana: 99.44175205573879\n"
          ]
        }
      ]
    },
    {
      "cell_type": "code",
      "source": [
        "means = means_array(data_frame, 'y')\n",
        "means"
      ],
      "metadata": {
        "id": "aOWiFhc_AfU7"
      },
      "execution_count": null,
      "outputs": []
    },
    {
      "cell_type": "code",
      "source": [
        "outliers_means = outlier_quantiles(means)\n",
        "outliers_means"
      ],
      "metadata": {
        "colab": {
          "base_uri": "https://localhost:8080/"
        },
        "id": "niWZYYTFvTB_",
        "outputId": "2343d3af-7121-4c3f-f230-ef097f4f94d2"
      },
      "execution_count": 14,
      "outputs": [
        {
          "output_type": "execute_result",
          "data": {
            "text/plain": [
              "(99.44632629992178, 99.56349289890714)"
            ]
          },
          "metadata": {},
          "execution_count": 14
        }
      ]
    },
    {
      "cell_type": "code",
      "source": [
        "for i in range(len(data_frame['y'])):\n",
        "  if means[i] < outliers_means[0] or means[i] > outliers_means[1]:\n",
        "    print(f\"La media[{i}] = {means[i]} es influyente\")"
      ],
      "metadata": {
        "colab": {
          "base_uri": "https://localhost:8080/"
        },
        "id": "clfzEq9MyHBe",
        "outputId": "d7eb3186-0091-42c3-cc22-0f8d6098e645"
      },
      "execution_count": 15,
      "outputs": [
        {
          "output_type": "stream",
          "name": "stdout",
          "text": [
            "La media[50] = 99.6288871133431 es influyente\n",
            "La media[70] = 99.10336158781757 es influyente\n"
          ]
        }
      ]
    },
    {
      "cell_type": "code",
      "source": [
        "medians = medians_array(data_frame, 'y')\n",
        "medians"
      ],
      "metadata": {
        "id": "07juk4ThEdgr"
      },
      "execution_count": null,
      "outputs": []
    },
    {
      "cell_type": "code",
      "source": [
        "outliers_medians = outlier_quantiles(medians)\n",
        "outliers_medians"
      ],
      "metadata": {
        "colab": {
          "base_uri": "https://localhost:8080/"
        },
        "id": "YnFdnEsDJlsb",
        "outputId": "792fe533-26c0-4416-f48b-27b483b2c48e"
      },
      "execution_count": 17,
      "outputs": [
        {
          "output_type": "execute_result",
          "data": {
            "text/plain": [
              "(99.22547893370594, 99.65802517777163)"
            ]
          },
          "metadata": {},
          "execution_count": 17
        }
      ]
    },
    {
      "cell_type": "code",
      "source": [
        "for i in range(len(data_frame['y'])):\n",
        "  if medians[i] < outliers_medians[0] or medians[i] > outliers_medians[1]:\n",
        "    print(f\"La mediana[{i}] = {medians[i]} es influyente\")"
      ],
      "metadata": {
        "id": "cKsxKeT1Jk8-"
      },
      "execution_count": 18,
      "outputs": []
    },
    {
      "cell_type": "markdown",
      "source": [
        "### 6. Utiliza MinMaxScaler para realizar un escalado del dataframe creado en el ejercicio 1. Muestra los resultados y comenta que ha sucedido."
      ],
      "metadata": {
        "id": "ht8f7BymsM0l"
      }
    },
    {
      "cell_type": "code",
      "source": [
        "scaler = MinMaxScaler()"
      ],
      "metadata": {
        "id": "uZl61pu1sQ7g"
      },
      "execution_count": 12,
      "outputs": []
    },
    {
      "cell_type": "markdown",
      "source": [
        "La funcion fit calcula el maximo y el minimo que se utilizara para despues escalar los datos entre 0 y 1"
      ],
      "metadata": {
        "id": "D_OEmMQnIJok"
      }
    },
    {
      "cell_type": "code",
      "source": [
        "scaler.fit(data_frame)"
      ],
      "metadata": {
        "colab": {
          "base_uri": "https://localhost:8080/"
        },
        "id": "WkHlC8k4L5ke",
        "outputId": "9e43d3cd-4ac6-4bd3-9aad-d775abca9723"
      },
      "execution_count": 13,
      "outputs": [
        {
          "output_type": "execute_result",
          "data": {
            "text/plain": [
              "MinMaxScaler()"
            ]
          },
          "metadata": {},
          "execution_count": 13
        }
      ]
    },
    {
      "cell_type": "markdown",
      "source": [
        "Te muestra los datos mas grandes del data frame."
      ],
      "metadata": {
        "id": "SJk_xX-HeFvF"
      }
    },
    {
      "cell_type": "code",
      "source": [
        "scaler.data_max_"
      ],
      "metadata": {
        "colab": {
          "base_uri": "https://localhost:8080/"
        },
        "id": "MDUuQXJZMLlS",
        "outputId": "a6128e41-1531-41e6-9d2f-496d10e790d1"
      },
      "execution_count": 14,
      "outputs": [
        {
          "output_type": "execute_result",
          "data": {
            "text/plain": [
              "array([   49.88990102,   147.76826197, 39564.91408904])"
            ]
          },
          "metadata": {},
          "execution_count": 14
        }
      ]
    },
    {
      "cell_type": "markdown",
      "source": [
        "Te muestra los datos mas pequeños del data frame."
      ],
      "metadata": {
        "id": "Q16hjkN4eK0O"
      }
    },
    {
      "cell_type": "code",
      "source": [
        "scaler.data_min_"
      ],
      "metadata": {
        "colab": {
          "base_uri": "https://localhost:8080/"
        },
        "id": "r7aaPGhAMWFD",
        "outputId": "1dc7e2d5-f618-49fc-ad92-6f0fb0368c70"
      },
      "execution_count": 15,
      "outputs": [
        {
          "output_type": "execute_result",
          "data": {
            "text/plain": [
              "array([   20.16968433,    52.72332647, 10886.93264192])"
            ]
          },
          "metadata": {},
          "execution_count": 15
        }
      ]
    },
    {
      "cell_type": "markdown",
      "source": [
        "Scala los datos deacuerdo al rango que se haya calculado en este caso entre 0 y 1"
      ],
      "metadata": {
        "id": "QxJbd3s9eZMk"
      }
    },
    {
      "cell_type": "code",
      "source": [
        "data_transform = scaler.transform(data_frame)\n",
        "data_transform"
      ],
      "metadata": {
        "colab": {
          "base_uri": "https://localhost:8080/"
        },
        "id": "i8Yi4OggMdDt",
        "outputId": "b3765588-2ce3-466d-d27d-fbd9297f751b"
      },
      "execution_count": 19,
      "outputs": [
        {
          "output_type": "execute_result",
          "data": {
            "text/plain": [
              "array([[0.38020187, 0.74762203, 0.2678677 ],\n",
              "       [0.44038792, 0.68443743, 0.54104891],\n",
              "       [0.45293982, 0.47786571, 0.12350555],\n",
              "       ...,\n",
              "       [0.53656442, 0.59323343, 0.77445119],\n",
              "       [0.08145929, 0.77169668, 0.81486421],\n",
              "       [0.69090083, 0.69382588, 0.01123079]])"
            ]
          },
          "metadata": {},
          "execution_count": 19
        }
      ]
    },
    {
      "cell_type": "code",
      "source": [
        "data_transform.max()"
      ],
      "metadata": {
        "colab": {
          "base_uri": "https://localhost:8080/"
        },
        "id": "j1Db-rj-ft6W",
        "outputId": "9e96199c-3e8e-4798-e58f-e46f196f6efd"
      },
      "execution_count": 28,
      "outputs": [
        {
          "output_type": "execute_result",
          "data": {
            "text/plain": [
              "1.0"
            ]
          },
          "metadata": {},
          "execution_count": 28
        }
      ]
    },
    {
      "cell_type": "code",
      "source": [
        "data_transform.min()"
      ],
      "metadata": {
        "colab": {
          "base_uri": "https://localhost:8080/"
        },
        "id": "v5urqJBaf6-H",
        "outputId": "a532d0df-fb85-4c64-fd1c-5ad24d3aabc4"
      },
      "execution_count": 29,
      "outputs": [
        {
          "output_type": "execute_result",
          "data": {
            "text/plain": [
              "0.0"
            ]
          },
          "metadata": {},
          "execution_count": 29
        }
      ]
    },
    {
      "cell_type": "markdown",
      "source": [
        "###7. (ampliación) Busca un dataframe de las siguientes urls que contengan al menos dos atributos numéricos reales en distintas escalas.\n",
        "- https://archive.ics.uci.edu/ml/datasets.php\n",
        "-  https://www.kaggle.com/datasets\n",
        "## Una vez encontrado, realiza las siguientes cuestiones.\n",
        "- Importa el dataset como un dataframe de pandas\n",
        "- Selecciona los dos atributos numéricos\n",
        "- Calcula la media y la varianza de esos dos datos numéricos\n",
        "- Realiza un estudio para determinar si contiene outliers o no (en el caso que no encuentres outliers, introduce uno deliberadamente)\n",
        "- Usa el método jackknife para detectar si hay observaciones influyentes para la media en alguno de los atributos.\n",
        "- Escala los atributos usando MinMaxScaler"
      ],
      "metadata": {
        "id": "CV7SZNV5sViS"
      }
    },
    {
      "cell_type": "markdown",
      "source": [
        "#### Importa el dataset como dataframe de pandas."
      ],
      "metadata": {
        "id": "qR8XBo8zqb0-"
      }
    },
    {
      "cell_type": "markdown",
      "source": [
        "https://www.kaggle.com/datasets/akshaydattatraykhare/diabetes-dataset"
      ],
      "metadata": {
        "id": "Vfyuacankrhe"
      }
    },
    {
      "cell_type": "code",
      "source": [
        "diabetes = pd.read_csv('diabetes.csv')\n",
        "diabetes"
      ],
      "metadata": {
        "id": "JXp8P-uisk-A",
        "colab": {
          "base_uri": "https://localhost:8080/",
          "height": 424
        },
        "outputId": "c2996431-e221-4d08-c9b0-603336518c6b"
      },
      "execution_count": 33,
      "outputs": [
        {
          "output_type": "execute_result",
          "data": {
            "text/plain": [
              "     Pregnancies  Glucose  BloodPressure  SkinThickness  Insulin   BMI  \\\n",
              "0              6      148             72             35        0  33.6   \n",
              "1              1       85             66             29        0  26.6   \n",
              "2              8      183             64              0        0  23.3   \n",
              "3              1       89             66             23       94  28.1   \n",
              "4              0      137             40             35      168  43.1   \n",
              "..           ...      ...            ...            ...      ...   ...   \n",
              "763           10      101             76             48      180  32.9   \n",
              "764            2      122             70             27        0  36.8   \n",
              "765            5      121             72             23      112  26.2   \n",
              "766            1      126             60              0        0  30.1   \n",
              "767            1       93             70             31        0  30.4   \n",
              "\n",
              "     DiabetesPedigreeFunction  Age  Outcome  \n",
              "0                       0.627   50        1  \n",
              "1                       0.351   31        0  \n",
              "2                       0.672   32        1  \n",
              "3                       0.167   21        0  \n",
              "4                       2.288   33        1  \n",
              "..                        ...  ...      ...  \n",
              "763                     0.171   63        0  \n",
              "764                     0.340   27        0  \n",
              "765                     0.245   30        0  \n",
              "766                     0.349   47        1  \n",
              "767                     0.315   23        0  \n",
              "\n",
              "[768 rows x 9 columns]"
            ],
            "text/html": [
              "\n",
              "  <div id=\"df-97ad4ed3-6dd2-45ea-80c0-cb7f7bee7e6a\">\n",
              "    <div class=\"colab-df-container\">\n",
              "      <div>\n",
              "<style scoped>\n",
              "    .dataframe tbody tr th:only-of-type {\n",
              "        vertical-align: middle;\n",
              "    }\n",
              "\n",
              "    .dataframe tbody tr th {\n",
              "        vertical-align: top;\n",
              "    }\n",
              "\n",
              "    .dataframe thead th {\n",
              "        text-align: right;\n",
              "    }\n",
              "</style>\n",
              "<table border=\"1\" class=\"dataframe\">\n",
              "  <thead>\n",
              "    <tr style=\"text-align: right;\">\n",
              "      <th></th>\n",
              "      <th>Pregnancies</th>\n",
              "      <th>Glucose</th>\n",
              "      <th>BloodPressure</th>\n",
              "      <th>SkinThickness</th>\n",
              "      <th>Insulin</th>\n",
              "      <th>BMI</th>\n",
              "      <th>DiabetesPedigreeFunction</th>\n",
              "      <th>Age</th>\n",
              "      <th>Outcome</th>\n",
              "    </tr>\n",
              "  </thead>\n",
              "  <tbody>\n",
              "    <tr>\n",
              "      <th>0</th>\n",
              "      <td>6</td>\n",
              "      <td>148</td>\n",
              "      <td>72</td>\n",
              "      <td>35</td>\n",
              "      <td>0</td>\n",
              "      <td>33.6</td>\n",
              "      <td>0.627</td>\n",
              "      <td>50</td>\n",
              "      <td>1</td>\n",
              "    </tr>\n",
              "    <tr>\n",
              "      <th>1</th>\n",
              "      <td>1</td>\n",
              "      <td>85</td>\n",
              "      <td>66</td>\n",
              "      <td>29</td>\n",
              "      <td>0</td>\n",
              "      <td>26.6</td>\n",
              "      <td>0.351</td>\n",
              "      <td>31</td>\n",
              "      <td>0</td>\n",
              "    </tr>\n",
              "    <tr>\n",
              "      <th>2</th>\n",
              "      <td>8</td>\n",
              "      <td>183</td>\n",
              "      <td>64</td>\n",
              "      <td>0</td>\n",
              "      <td>0</td>\n",
              "      <td>23.3</td>\n",
              "      <td>0.672</td>\n",
              "      <td>32</td>\n",
              "      <td>1</td>\n",
              "    </tr>\n",
              "    <tr>\n",
              "      <th>3</th>\n",
              "      <td>1</td>\n",
              "      <td>89</td>\n",
              "      <td>66</td>\n",
              "      <td>23</td>\n",
              "      <td>94</td>\n",
              "      <td>28.1</td>\n",
              "      <td>0.167</td>\n",
              "      <td>21</td>\n",
              "      <td>0</td>\n",
              "    </tr>\n",
              "    <tr>\n",
              "      <th>4</th>\n",
              "      <td>0</td>\n",
              "      <td>137</td>\n",
              "      <td>40</td>\n",
              "      <td>35</td>\n",
              "      <td>168</td>\n",
              "      <td>43.1</td>\n",
              "      <td>2.288</td>\n",
              "      <td>33</td>\n",
              "      <td>1</td>\n",
              "    </tr>\n",
              "    <tr>\n",
              "      <th>...</th>\n",
              "      <td>...</td>\n",
              "      <td>...</td>\n",
              "      <td>...</td>\n",
              "      <td>...</td>\n",
              "      <td>...</td>\n",
              "      <td>...</td>\n",
              "      <td>...</td>\n",
              "      <td>...</td>\n",
              "      <td>...</td>\n",
              "    </tr>\n",
              "    <tr>\n",
              "      <th>763</th>\n",
              "      <td>10</td>\n",
              "      <td>101</td>\n",
              "      <td>76</td>\n",
              "      <td>48</td>\n",
              "      <td>180</td>\n",
              "      <td>32.9</td>\n",
              "      <td>0.171</td>\n",
              "      <td>63</td>\n",
              "      <td>0</td>\n",
              "    </tr>\n",
              "    <tr>\n",
              "      <th>764</th>\n",
              "      <td>2</td>\n",
              "      <td>122</td>\n",
              "      <td>70</td>\n",
              "      <td>27</td>\n",
              "      <td>0</td>\n",
              "      <td>36.8</td>\n",
              "      <td>0.340</td>\n",
              "      <td>27</td>\n",
              "      <td>0</td>\n",
              "    </tr>\n",
              "    <tr>\n",
              "      <th>765</th>\n",
              "      <td>5</td>\n",
              "      <td>121</td>\n",
              "      <td>72</td>\n",
              "      <td>23</td>\n",
              "      <td>112</td>\n",
              "      <td>26.2</td>\n",
              "      <td>0.245</td>\n",
              "      <td>30</td>\n",
              "      <td>0</td>\n",
              "    </tr>\n",
              "    <tr>\n",
              "      <th>766</th>\n",
              "      <td>1</td>\n",
              "      <td>126</td>\n",
              "      <td>60</td>\n",
              "      <td>0</td>\n",
              "      <td>0</td>\n",
              "      <td>30.1</td>\n",
              "      <td>0.349</td>\n",
              "      <td>47</td>\n",
              "      <td>1</td>\n",
              "    </tr>\n",
              "    <tr>\n",
              "      <th>767</th>\n",
              "      <td>1</td>\n",
              "      <td>93</td>\n",
              "      <td>70</td>\n",
              "      <td>31</td>\n",
              "      <td>0</td>\n",
              "      <td>30.4</td>\n",
              "      <td>0.315</td>\n",
              "      <td>23</td>\n",
              "      <td>0</td>\n",
              "    </tr>\n",
              "  </tbody>\n",
              "</table>\n",
              "<p>768 rows × 9 columns</p>\n",
              "</div>\n",
              "      <button class=\"colab-df-convert\" onclick=\"convertToInteractive('df-97ad4ed3-6dd2-45ea-80c0-cb7f7bee7e6a')\"\n",
              "              title=\"Convert this dataframe to an interactive table.\"\n",
              "              style=\"display:none;\">\n",
              "        \n",
              "  <svg xmlns=\"http://www.w3.org/2000/svg\" height=\"24px\"viewBox=\"0 0 24 24\"\n",
              "       width=\"24px\">\n",
              "    <path d=\"M0 0h24v24H0V0z\" fill=\"none\"/>\n",
              "    <path d=\"M18.56 5.44l.94 2.06.94-2.06 2.06-.94-2.06-.94-.94-2.06-.94 2.06-2.06.94zm-11 1L8.5 8.5l.94-2.06 2.06-.94-2.06-.94L8.5 2.5l-.94 2.06-2.06.94zm10 10l.94 2.06.94-2.06 2.06-.94-2.06-.94-.94-2.06-.94 2.06-2.06.94z\"/><path d=\"M17.41 7.96l-1.37-1.37c-.4-.4-.92-.59-1.43-.59-.52 0-1.04.2-1.43.59L10.3 9.45l-7.72 7.72c-.78.78-.78 2.05 0 2.83L4 21.41c.39.39.9.59 1.41.59.51 0 1.02-.2 1.41-.59l7.78-7.78 2.81-2.81c.8-.78.8-2.07 0-2.86zM5.41 20L4 18.59l7.72-7.72 1.47 1.35L5.41 20z\"/>\n",
              "  </svg>\n",
              "      </button>\n",
              "      \n",
              "  <style>\n",
              "    .colab-df-container {\n",
              "      display:flex;\n",
              "      flex-wrap:wrap;\n",
              "      gap: 12px;\n",
              "    }\n",
              "\n",
              "    .colab-df-convert {\n",
              "      background-color: #E8F0FE;\n",
              "      border: none;\n",
              "      border-radius: 50%;\n",
              "      cursor: pointer;\n",
              "      display: none;\n",
              "      fill: #1967D2;\n",
              "      height: 32px;\n",
              "      padding: 0 0 0 0;\n",
              "      width: 32px;\n",
              "    }\n",
              "\n",
              "    .colab-df-convert:hover {\n",
              "      background-color: #E2EBFA;\n",
              "      box-shadow: 0px 1px 2px rgba(60, 64, 67, 0.3), 0px 1px 3px 1px rgba(60, 64, 67, 0.15);\n",
              "      fill: #174EA6;\n",
              "    }\n",
              "\n",
              "    [theme=dark] .colab-df-convert {\n",
              "      background-color: #3B4455;\n",
              "      fill: #D2E3FC;\n",
              "    }\n",
              "\n",
              "    [theme=dark] .colab-df-convert:hover {\n",
              "      background-color: #434B5C;\n",
              "      box-shadow: 0px 1px 3px 1px rgba(0, 0, 0, 0.15);\n",
              "      filter: drop-shadow(0px 1px 2px rgba(0, 0, 0, 0.3));\n",
              "      fill: #FFFFFF;\n",
              "    }\n",
              "  </style>\n",
              "\n",
              "      <script>\n",
              "        const buttonEl =\n",
              "          document.querySelector('#df-97ad4ed3-6dd2-45ea-80c0-cb7f7bee7e6a button.colab-df-convert');\n",
              "        buttonEl.style.display =\n",
              "          google.colab.kernel.accessAllowed ? 'block' : 'none';\n",
              "\n",
              "        async function convertToInteractive(key) {\n",
              "          const element = document.querySelector('#df-97ad4ed3-6dd2-45ea-80c0-cb7f7bee7e6a');\n",
              "          const dataTable =\n",
              "            await google.colab.kernel.invokeFunction('convertToInteractive',\n",
              "                                                     [key], {});\n",
              "          if (!dataTable) return;\n",
              "\n",
              "          const docLinkHtml = 'Like what you see? Visit the ' +\n",
              "            '<a target=\"_blank\" href=https://colab.research.google.com/notebooks/data_table.ipynb>data table notebook</a>'\n",
              "            + ' to learn more about interactive tables.';\n",
              "          element.innerHTML = '';\n",
              "          dataTable['output_type'] = 'display_data';\n",
              "          await google.colab.output.renderOutput(dataTable, element);\n",
              "          const docLink = document.createElement('div');\n",
              "          docLink.innerHTML = docLinkHtml;\n",
              "          element.appendChild(docLink);\n",
              "        }\n",
              "      </script>\n",
              "    </div>\n",
              "  </div>\n",
              "  "
            ]
          },
          "metadata": {},
          "execution_count": 33
        }
      ]
    },
    {
      "cell_type": "markdown",
      "source": [
        "#### Selecciona los dos atributos numéricos"
      ],
      "metadata": {
        "id": "Y3cOcntFqn4Z"
      }
    },
    {
      "cell_type": "code",
      "source": [
        "plt.hist(diabetes['Glucose'])"
      ],
      "metadata": {
        "colab": {
          "base_uri": "https://localhost:8080/",
          "height": 334
        },
        "id": "4KrOEkl_oq14",
        "outputId": "49bbb2b5-175a-4629-dda7-a407dfe9cb0b"
      },
      "execution_count": 34,
      "outputs": [
        {
          "output_type": "execute_result",
          "data": {
            "text/plain": [
              "(array([  5.,   0.,   4.,  32., 156., 211., 163.,  95.,  56.,  46.]),\n",
              " array([  0. ,  19.9,  39.8,  59.7,  79.6,  99.5, 119.4, 139.3, 159.2,\n",
              "        179.1, 199. ]),\n",
              " <a list of 10 Patch objects>)"
            ]
          },
          "metadata": {},
          "execution_count": 34
        },
        {
          "output_type": "display_data",
          "data": {
            "text/plain": [
              "<Figure size 432x288 with 1 Axes>"
            ],
            "image/png": "[encoded data removed]"
          },
          "metadata": {
            "needs_background": "light"
          }
        }
      ]
    },
    {
      "cell_type": "code",
      "source": [
        "plt.hist(diabetes['BMI'])"
      ],
      "metadata": {
        "colab": {
          "base_uri": "https://localhost:8080/",
          "height": 334
        },
        "id": "WtIbXq5do1dk",
        "outputId": "7254d394-c873-4079-ce65-30c04a5e97af"
      },
      "execution_count": 35,
      "outputs": [
        {
          "output_type": "execute_result",
          "data": {
            "text/plain": [
              "(array([ 11.,   0.,  15., 156., 268., 224.,  78.,  12.,   3.,   1.]),\n",
              " array([ 0.  ,  6.71, 13.42, 20.13, 26.84, 33.55, 40.26, 46.97, 53.68,\n",
              "        60.39, 67.1 ]),\n",
              " <a list of 10 Patch objects>)"
            ]
          },
          "metadata": {},
          "execution_count": 35
        },
        {
          "output_type": "display_data",
          "data": {
            "text/plain": [
              "<Figure size 432x288 with 1 Axes>"
            ],
            "image/png": "[encoded data removed]"
          },
          "metadata": {
            "needs_background": "light"
          }
        }
      ]
    },
    {
      "cell_type": "markdown",
      "source": [
        "#### Calcula la media y la varianza de esos dos datos numéricos"
      ],
      "metadata": {
        "id": "2saUeak_qxiz"
      }
    },
    {
      "cell_type": "code",
      "source": [
        "print(np.mean(diabetes['Glucose']))\n",
        "print(np.var(diabetes['Glucose']))\n",
        "print(np.mean(diabetes['BMI']))\n",
        "print(np.var(diabetes['BMI']))"
      ],
      "metadata": {
        "colab": {
          "base_uri": "https://localhost:8080/"
        },
        "id": "vtFIk7m4pMq4",
        "outputId": "1dff0204-1372-446a-ef98-d168c7815c78"
      },
      "execution_count": 37,
      "outputs": [
        {
          "output_type": "stream",
          "name": "stdout",
          "text": [
            "120.89453125\n",
            "1020.9172617594401\n",
            "31.992578124999998\n",
            "62.079046478271486\n"
          ]
        }
      ]
    },
    {
      "cell_type": "markdown",
      "source": [
        "#### Realiza un estudio para determinar si contiene outliers o no (en el caso que no encuentres outliers, introduce uno deliberadamente)\n"
      ],
      "metadata": {
        "id": "Yb5Wm8nTq24D"
      }
    },
    {
      "cell_type": "code",
      "source": [
        "# Outliers de los datos Glucose\n",
        "# Metodo construccion de bandas\n",
        "outliers_glucose_n = outlier_normal_dist(diabetes, 'Glucose')\n",
        "# Metodo quartiles\n",
        "outliers_glucose_q = outlier_quantiles(diabetes, 'Glucose')\n",
        "\n",
        "print(outliers_glucose_n, outliers_glucose_q)"
      ],
      "metadata": {
        "colab": {
          "base_uri": "https://localhost:8080/"
        },
        "id": "BSuzT4FKpwvh",
        "outputId": "0acf41a3-2e39-454f-92a0-e34e5e0021af"
      },
      "execution_count": 41,
      "outputs": [
        {
          "output_type": "stream",
          "name": "stdout",
          "text": [
            "(-11.7677, 253.5568) (37.125, 202.125)\n"
          ]
        }
      ]
    },
    {
      "cell_type": "code",
      "source": [
        "# Outliers de los datos BMI\n",
        "# Metodo construccion de bandas\n",
        "outliers_bmi_n = outlier_normal_dist(diabetes, 'BMI')\n",
        "# Metodo quartiles\n",
        "outliers_bmi_q = outlier_quantiles(diabetes, 'BMI')\n",
        "\n",
        "print(outliers_bmi_n, outliers_bmi_q)"
      ],
      "metadata": {
        "colab": {
          "base_uri": "https://localhost:8080/"
        },
        "id": "YaXb1hS-sQTu",
        "outputId": "82b1a0ec-0ea6-46f8-9d1e-9ad2f3048be0"
      },
      "execution_count": 42,
      "outputs": [
        {
          "output_type": "stream",
          "name": "stdout",
          "text": [
            "(-0.7207, 64.7059) (13.35, 50.550000000000004)\n"
          ]
        }
      ]
    },
    {
      "cell_type": "code",
      "source": [
        "# Metodo de contruccion de bandas con el dato Glucose\n",
        "for i in range(len(diabetes['Glucose'])):\n",
        "  if diabetes['Glucose'][i] < outliers_glucose_n[0] or diabetes['Glucose'][i] > outliers_glucose_n[1]:\n",
        "    print(f\"El dato[{i}] = {diabetes['Glucose'][i]} es un outlier\")"
      ],
      "metadata": {
        "id": "pCXVXK3-s9ca"
      },
      "execution_count": 45,
      "outputs": []
    },
    {
      "cell_type": "code",
      "source": [
        "# Metodo de los Quartiles con el dato Glucose\n",
        "for i in range(len(diabetes['Glucose'])):\n",
        "  if diabetes['Glucose'][i] < outliers_glucose_q[0] or diabetes['Glucose'][i] > outliers_glucose_q[1]:\n",
        "    print(f\"El dato[{i}] = {diabetes['Glucose'][i]} es un outlier\")"
      ],
      "metadata": {
        "colab": {
          "base_uri": "https://localhost:8080/"
        },
        "id": "QaG83UA8tamU",
        "outputId": "9f4b61d9-4b6b-4e8b-f9e0-fc4e334cc400"
      },
      "execution_count": 46,
      "outputs": [
        {
          "output_type": "stream",
          "name": "stdout",
          "text": [
            "El dato[75] = 0 es un outlier\n",
            "El dato[182] = 0 es un outlier\n",
            "El dato[342] = 0 es un outlier\n",
            "El dato[349] = 0 es un outlier\n",
            "El dato[502] = 0 es un outlier\n"
          ]
        }
      ]
    },
    {
      "cell_type": "code",
      "source": [
        "# Metodo de contruccion de bandas con el dato BMI\n",
        "for i in range(len(diabetes['BMI'])):\n",
        "  if diabetes['Glucose'][i] < outliers_bmi_n[0] or diabetes['Glucose'][i] > outliers_bmi_n[1]:\n",
        "    print(f\"El dato[{i}] = {diabetes['BMI'][i]} es un outlier\")"
      ],
      "metadata": {
        "colab": {
          "base_uri": "https://localhost:8080/"
        },
        "id": "b8-uWc4ItrgG",
        "outputId": "965a6354-1748-4932-a312-f9e38b465055"
      },
      "execution_count": 47,
      "outputs": [
        {
          "output_type": "stream",
          "name": "stdout",
          "text": [
            "El dato[0] = 33.6 es un outlier\n",
            "El dato[1] = 26.6 es un outlier\n",
            "El dato[2] = 23.3 es un outlier\n",
            "El dato[3] = 28.1 es un outlier\n",
            "El dato[4] = 43.1 es un outlier\n",
            "El dato[5] = 25.6 es un outlier\n",
            "El dato[6] = 31.0 es un outlier\n",
            "El dato[7] = 35.3 es un outlier\n",
            "El dato[8] = 30.5 es un outlier\n",
            "El dato[9] = 0.0 es un outlier\n",
            "El dato[10] = 37.6 es un outlier\n",
            "El dato[11] = 38.0 es un outlier\n",
            "El dato[12] = 27.1 es un outlier\n",
            "El dato[13] = 30.1 es un outlier\n",
            "El dato[14] = 25.8 es un outlier\n",
            "El dato[15] = 30.0 es un outlier\n",
            "El dato[16] = 45.8 es un outlier\n",
            "El dato[17] = 29.6 es un outlier\n",
            "El dato[18] = 43.3 es un outlier\n",
            "El dato[19] = 34.6 es un outlier\n",
            "El dato[20] = 39.3 es un outlier\n",
            "El dato[21] = 35.4 es un outlier\n",
            "El dato[22] = 39.8 es un outlier\n",
            "El dato[23] = 29.0 es un outlier\n",
            "El dato[24] = 36.6 es un outlier\n",
            "El dato[25] = 31.1 es un outlier\n",
            "El dato[26] = 39.4 es un outlier\n",
            "El dato[27] = 23.2 es un outlier\n",
            "El dato[28] = 22.2 es un outlier\n",
            "El dato[29] = 34.1 es un outlier\n",
            "El dato[30] = 36.0 es un outlier\n",
            "El dato[31] = 31.6 es un outlier\n",
            "El dato[32] = 24.8 es un outlier\n",
            "El dato[33] = 19.9 es un outlier\n",
            "El dato[34] = 27.6 es un outlier\n",
            "El dato[35] = 24.0 es un outlier\n",
            "El dato[36] = 33.2 es un outlier\n",
            "El dato[37] = 32.9 es un outlier\n",
            "El dato[38] = 38.2 es un outlier\n",
            "El dato[39] = 37.1 es un outlier\n",
            "El dato[40] = 34.0 es un outlier\n",
            "El dato[41] = 40.2 es un outlier\n",
            "El dato[42] = 22.7 es un outlier\n",
            "El dato[43] = 45.4 es un outlier\n",
            "El dato[44] = 27.4 es un outlier\n",
            "El dato[45] = 42.0 es un outlier\n",
            "El dato[46] = 29.7 es un outlier\n",
            "El dato[47] = 28.0 es un outlier\n",
            "El dato[48] = 39.1 es un outlier\n",
            "El dato[49] = 0.0 es un outlier\n",
            "El dato[50] = 19.4 es un outlier\n",
            "El dato[51] = 24.2 es un outlier\n",
            "El dato[52] = 24.4 es un outlier\n",
            "El dato[53] = 33.7 es un outlier\n",
            "El dato[54] = 34.7 es un outlier\n",
            "El dato[55] = 23.0 es un outlier\n",
            "El dato[56] = 37.7 es un outlier\n",
            "El dato[57] = 46.8 es un outlier\n",
            "El dato[58] = 40.5 es un outlier\n",
            "El dato[59] = 41.5 es un outlier\n",
            "El dato[60] = 0.0 es un outlier\n",
            "El dato[61] = 32.9 es un outlier\n",
            "El dato[63] = 25.4 es un outlier\n",
            "El dato[64] = 32.8 es un outlier\n",
            "El dato[65] = 29.0 es un outlier\n",
            "El dato[66] = 32.5 es un outlier\n",
            "El dato[67] = 42.7 es un outlier\n",
            "El dato[68] = 19.6 es un outlier\n",
            "El dato[69] = 28.9 es un outlier\n",
            "El dato[70] = 32.9 es un outlier\n",
            "El dato[71] = 28.6 es un outlier\n",
            "El dato[72] = 43.4 es un outlier\n",
            "El dato[73] = 35.1 es un outlier\n",
            "El dato[74] = 32.0 es un outlier\n",
            "El dato[77] = 37.7 es un outlier\n",
            "El dato[78] = 43.2 es un outlier\n",
            "El dato[79] = 25.0 es un outlier\n",
            "El dato[80] = 22.4 es un outlier\n",
            "El dato[81] = 0.0 es un outlier\n",
            "El dato[82] = 29.3 es un outlier\n",
            "El dato[83] = 24.6 es un outlier\n",
            "El dato[84] = 48.8 es un outlier\n",
            "El dato[85] = 32.4 es un outlier\n",
            "El dato[86] = 36.6 es un outlier\n",
            "El dato[87] = 38.5 es un outlier\n",
            "El dato[88] = 37.1 es un outlier\n",
            "El dato[89] = 26.5 es un outlier\n",
            "El dato[90] = 19.1 es un outlier\n",
            "El dato[91] = 32.0 es un outlier\n",
            "El dato[92] = 46.7 es un outlier\n",
            "El dato[93] = 23.8 es un outlier\n",
            "El dato[94] = 24.7 es un outlier\n",
            "El dato[95] = 33.9 es un outlier\n",
            "El dato[96] = 31.6 es un outlier\n",
            "El dato[97] = 20.4 es un outlier\n",
            "El dato[98] = 28.7 es un outlier\n",
            "El dato[99] = 49.7 es un outlier\n",
            "El dato[100] = 39.0 es un outlier\n",
            "El dato[101] = 26.1 es un outlier\n",
            "El dato[102] = 22.5 es un outlier\n",
            "El dato[103] = 26.6 es un outlier\n",
            "El dato[104] = 39.6 es un outlier\n",
            "El dato[105] = 28.7 es un outlier\n",
            "El dato[106] = 22.4 es un outlier\n",
            "El dato[107] = 29.5 es un outlier\n",
            "El dato[108] = 34.3 es un outlier\n",
            "El dato[109] = 37.4 es un outlier\n",
            "El dato[110] = 33.3 es un outlier\n",
            "El dato[111] = 34.0 es un outlier\n",
            "El dato[112] = 31.2 es un outlier\n",
            "El dato[113] = 34.0 es un outlier\n",
            "El dato[114] = 30.5 es un outlier\n",
            "El dato[115] = 31.2 es un outlier\n",
            "El dato[116] = 34.0 es un outlier\n",
            "El dato[117] = 33.7 es un outlier\n",
            "El dato[118] = 28.2 es un outlier\n",
            "El dato[119] = 23.2 es un outlier\n",
            "El dato[120] = 53.2 es un outlier\n",
            "El dato[121] = 34.2 es un outlier\n",
            "El dato[122] = 33.6 es un outlier\n",
            "El dato[123] = 26.8 es un outlier\n",
            "El dato[124] = 33.3 es un outlier\n",
            "El dato[125] = 55.0 es un outlier\n",
            "El dato[126] = 42.9 es un outlier\n",
            "El dato[127] = 33.3 es un outlier\n",
            "El dato[128] = 34.5 es un outlier\n",
            "El dato[129] = 27.9 es un outlier\n",
            "El dato[130] = 29.7 es un outlier\n",
            "El dato[131] = 33.3 es un outlier\n",
            "El dato[132] = 34.5 es un outlier\n",
            "El dato[133] = 38.3 es un outlier\n",
            "El dato[134] = 21.1 es un outlier\n",
            "El dato[135] = 33.8 es un outlier\n",
            "El dato[136] = 30.8 es un outlier\n",
            "El dato[137] = 28.7 es un outlier\n",
            "El dato[138] = 31.2 es un outlier\n",
            "El dato[139] = 36.9 es un outlier\n",
            "El dato[140] = 21.1 es un outlier\n",
            "El dato[141] = 39.5 es un outlier\n",
            "El dato[142] = 32.5 es un outlier\n",
            "El dato[143] = 32.4 es un outlier\n",
            "El dato[144] = 32.8 es un outlier\n",
            "El dato[145] = 0.0 es un outlier\n",
            "El dato[147] = 30.5 es un outlier\n",
            "El dato[148] = 33.7 es un outlier\n",
            "El dato[149] = 27.3 es un outlier\n",
            "El dato[150] = 37.4 es un outlier\n",
            "El dato[151] = 21.9 es un outlier\n",
            "El dato[152] = 34.3 es un outlier\n",
            "El dato[153] = 40.6 es un outlier\n",
            "El dato[154] = 47.9 es un outlier\n",
            "El dato[155] = 50.0 es un outlier\n",
            "El dato[156] = 24.6 es un outlier\n",
            "El dato[157] = 25.2 es un outlier\n",
            "El dato[158] = 29.0 es un outlier\n",
            "El dato[159] = 40.9 es un outlier\n",
            "El dato[160] = 29.7 es un outlier\n",
            "El dato[161] = 37.2 es un outlier\n",
            "El dato[162] = 44.2 es un outlier\n",
            "El dato[163] = 29.7 es un outlier\n",
            "El dato[164] = 31.6 es un outlier\n",
            "El dato[165] = 29.9 es un outlier\n",
            "El dato[166] = 32.5 es un outlier\n",
            "El dato[167] = 29.6 es un outlier\n",
            "El dato[168] = 31.9 es un outlier\n",
            "El dato[169] = 28.4 es un outlier\n",
            "El dato[170] = 30.8 es un outlier\n",
            "El dato[171] = 35.4 es un outlier\n",
            "El dato[172] = 28.9 es un outlier\n",
            "El dato[173] = 43.5 es un outlier\n",
            "El dato[174] = 29.7 es un outlier\n",
            "El dato[175] = 32.7 es un outlier\n",
            "El dato[176] = 31.2 es un outlier\n",
            "El dato[177] = 67.1 es un outlier\n",
            "El dato[178] = 45.0 es un outlier\n",
            "El dato[179] = 39.1 es un outlier\n",
            "El dato[180] = 23.2 es un outlier\n",
            "El dato[181] = 34.9 es un outlier\n",
            "El dato[183] = 26.8 es un outlier\n",
            "El dato[184] = 27.6 es un outlier\n",
            "El dato[185] = 35.9 es un outlier\n",
            "El dato[186] = 30.1 es un outlier\n",
            "El dato[187] = 32.0 es un outlier\n",
            "El dato[188] = 27.9 es un outlier\n",
            "El dato[189] = 31.6 es un outlier\n",
            "El dato[190] = 22.6 es un outlier\n",
            "El dato[191] = 33.1 es un outlier\n",
            "El dato[192] = 30.4 es un outlier\n",
            "El dato[193] = 52.3 es un outlier\n",
            "El dato[194] = 24.4 es un outlier\n",
            "El dato[195] = 39.4 es un outlier\n",
            "El dato[196] = 24.3 es un outlier\n",
            "El dato[197] = 22.9 es un outlier\n",
            "El dato[198] = 34.8 es un outlier\n",
            "El dato[199] = 30.9 es un outlier\n",
            "El dato[200] = 31.0 es un outlier\n",
            "El dato[201] = 40.1 es un outlier\n",
            "El dato[202] = 27.3 es un outlier\n",
            "El dato[203] = 20.4 es un outlier\n",
            "El dato[204] = 37.7 es un outlier\n",
            "El dato[205] = 23.9 es un outlier\n",
            "El dato[206] = 37.5 es un outlier\n",
            "El dato[207] = 37.7 es un outlier\n",
            "El dato[208] = 33.2 es un outlier\n",
            "El dato[209] = 35.5 es un outlier\n",
            "El dato[210] = 27.7 es un outlier\n",
            "El dato[211] = 42.8 es un outlier\n",
            "El dato[212] = 34.2 es un outlier\n",
            "El dato[213] = 42.6 es un outlier\n",
            "El dato[214] = 34.2 es un outlier\n",
            "El dato[215] = 41.8 es un outlier\n",
            "El dato[216] = 35.8 es un outlier\n",
            "El dato[217] = 30.0 es un outlier\n",
            "El dato[218] = 29.0 es un outlier\n",
            "El dato[219] = 37.8 es un outlier\n",
            "El dato[220] = 34.6 es un outlier\n",
            "El dato[221] = 31.6 es un outlier\n",
            "El dato[222] = 25.2 es un outlier\n",
            "El dato[223] = 28.8 es un outlier\n",
            "El dato[224] = 23.6 es un outlier\n",
            "El dato[225] = 34.6 es un outlier\n",
            "El dato[226] = 35.7 es un outlier\n",
            "El dato[227] = 37.2 es un outlier\n",
            "El dato[228] = 36.7 es un outlier\n",
            "El dato[229] = 45.2 es un outlier\n",
            "El dato[230] = 44.0 es un outlier\n",
            "El dato[231] = 46.2 es un outlier\n",
            "El dato[232] = 25.4 es un outlier\n",
            "El dato[233] = 35.0 es un outlier\n",
            "El dato[234] = 29.7 es un outlier\n",
            "El dato[235] = 43.6 es un outlier\n",
            "El dato[236] = 35.9 es un outlier\n",
            "El dato[237] = 44.1 es un outlier\n",
            "El dato[238] = 30.8 es un outlier\n",
            "El dato[239] = 18.4 es un outlier\n",
            "El dato[240] = 29.2 es un outlier\n",
            "El dato[241] = 33.1 es un outlier\n",
            "El dato[242] = 25.6 es un outlier\n",
            "El dato[243] = 27.1 es un outlier\n",
            "El dato[244] = 38.2 es un outlier\n",
            "El dato[245] = 30.0 es un outlier\n",
            "El dato[246] = 31.2 es un outlier\n",
            "El dato[247] = 52.3 es un outlier\n",
            "El dato[248] = 35.4 es un outlier\n",
            "El dato[249] = 30.1 es un outlier\n",
            "El dato[250] = 31.2 es un outlier\n",
            "El dato[251] = 28.0 es un outlier\n",
            "El dato[252] = 24.4 es un outlier\n",
            "El dato[253] = 35.8 es un outlier\n",
            "El dato[254] = 27.6 es un outlier\n",
            "El dato[255] = 33.6 es un outlier\n",
            "El dato[256] = 30.1 es un outlier\n",
            "El dato[257] = 28.7 es un outlier\n",
            "El dato[258] = 25.9 es un outlier\n",
            "El dato[259] = 33.3 es un outlier\n",
            "El dato[260] = 30.9 es un outlier\n",
            "El dato[261] = 30.0 es un outlier\n",
            "El dato[262] = 32.1 es un outlier\n",
            "El dato[263] = 32.4 es un outlier\n",
            "El dato[264] = 32.0 es un outlier\n",
            "El dato[265] = 33.6 es un outlier\n",
            "El dato[266] = 36.3 es un outlier\n",
            "El dato[267] = 40.0 es un outlier\n",
            "El dato[268] = 25.1 es un outlier\n",
            "El dato[269] = 27.5 es un outlier\n",
            "El dato[270] = 45.6 es un outlier\n",
            "El dato[271] = 25.2 es un outlier\n",
            "El dato[272] = 23.0 es un outlier\n",
            "El dato[273] = 33.2 es un outlier\n",
            "El dato[274] = 34.2 es un outlier\n",
            "El dato[275] = 40.5 es un outlier\n",
            "El dato[276] = 26.5 es un outlier\n",
            "El dato[277] = 27.8 es un outlier\n",
            "El dato[278] = 24.9 es un outlier\n",
            "El dato[279] = 25.3 es un outlier\n",
            "El dato[280] = 37.9 es un outlier\n",
            "El dato[281] = 35.9 es un outlier\n",
            "El dato[282] = 32.4 es un outlier\n",
            "El dato[283] = 30.4 es un outlier\n",
            "El dato[284] = 27.0 es un outlier\n",
            "El dato[285] = 26.0 es un outlier\n",
            "El dato[286] = 38.7 es un outlier\n",
            "El dato[287] = 45.6 es un outlier\n",
            "El dato[288] = 20.8 es un outlier\n",
            "El dato[289] = 36.1 es un outlier\n",
            "El dato[290] = 36.9 es un outlier\n",
            "El dato[291] = 36.6 es un outlier\n",
            "El dato[292] = 43.3 es un outlier\n",
            "El dato[293] = 40.5 es un outlier\n",
            "El dato[294] = 21.9 es un outlier\n",
            "El dato[295] = 35.5 es un outlier\n",
            "El dato[296] = 28.0 es un outlier\n",
            "El dato[297] = 30.7 es un outlier\n",
            "El dato[298] = 36.6 es un outlier\n",
            "El dato[299] = 23.6 es un outlier\n",
            "El dato[300] = 32.3 es un outlier\n",
            "El dato[301] = 31.6 es un outlier\n",
            "El dato[302] = 35.8 es un outlier\n",
            "El dato[303] = 52.9 es un outlier\n",
            "El dato[304] = 21.0 es un outlier\n",
            "El dato[305] = 39.7 es un outlier\n",
            "El dato[306] = 25.5 es un outlier\n",
            "El dato[307] = 24.8 es un outlier\n",
            "El dato[308] = 30.5 es un outlier\n",
            "El dato[309] = 32.9 es un outlier\n",
            "El dato[310] = 26.2 es un outlier\n",
            "El dato[311] = 39.4 es un outlier\n",
            "El dato[312] = 26.6 es un outlier\n",
            "El dato[313] = 29.5 es un outlier\n",
            "El dato[314] = 35.9 es un outlier\n",
            "El dato[315] = 34.1 es un outlier\n",
            "El dato[316] = 19.3 es un outlier\n",
            "El dato[317] = 30.5 es un outlier\n",
            "El dato[318] = 38.1 es un outlier\n",
            "El dato[319] = 23.5 es un outlier\n",
            "El dato[320] = 27.5 es un outlier\n",
            "El dato[321] = 31.6 es un outlier\n",
            "El dato[322] = 27.4 es un outlier\n",
            "El dato[323] = 26.8 es un outlier\n",
            "El dato[324] = 35.7 es un outlier\n",
            "El dato[325] = 25.6 es un outlier\n",
            "El dato[326] = 35.1 es un outlier\n",
            "El dato[327] = 35.1 es un outlier\n",
            "El dato[328] = 45.5 es un outlier\n",
            "El dato[329] = 30.8 es un outlier\n",
            "El dato[330] = 23.1 es un outlier\n",
            "El dato[331] = 32.7 es un outlier\n",
            "El dato[332] = 43.3 es un outlier\n",
            "El dato[333] = 23.6 es un outlier\n",
            "El dato[334] = 23.9 es un outlier\n",
            "El dato[335] = 47.9 es un outlier\n",
            "El dato[336] = 33.8 es un outlier\n",
            "El dato[337] = 31.2 es un outlier\n",
            "El dato[338] = 34.2 es un outlier\n",
            "El dato[339] = 39.9 es un outlier\n",
            "El dato[340] = 25.9 es un outlier\n",
            "El dato[341] = 25.9 es un outlier\n",
            "El dato[343] = 34.7 es un outlier\n",
            "El dato[344] = 36.8 es un outlier\n",
            "El dato[345] = 38.5 es un outlier\n",
            "El dato[346] = 28.7 es un outlier\n",
            "El dato[347] = 23.5 es un outlier\n",
            "El dato[348] = 21.8 es un outlier\n",
            "El dato[350] = 42.2 es un outlier\n",
            "El dato[351] = 31.2 es un outlier\n",
            "El dato[353] = 27.2 es un outlier\n",
            "El dato[354] = 42.7 es un outlier\n",
            "El dato[355] = 30.4 es un outlier\n",
            "El dato[356] = 33.3 es un outlier\n",
            "El dato[357] = 39.9 es un outlier\n",
            "El dato[358] = 35.3 es un outlier\n",
            "El dato[359] = 36.5 es un outlier\n",
            "El dato[360] = 31.2 es un outlier\n",
            "El dato[361] = 29.8 es un outlier\n",
            "El dato[362] = 39.2 es un outlier\n",
            "El dato[363] = 38.5 es un outlier\n",
            "El dato[364] = 34.9 es un outlier\n",
            "El dato[365] = 34.0 es un outlier\n",
            "El dato[366] = 27.6 es un outlier\n",
            "El dato[367] = 21.0 es un outlier\n",
            "El dato[368] = 27.5 es un outlier\n",
            "El dato[369] = 32.8 es un outlier\n",
            "El dato[370] = 38.4 es un outlier\n",
            "El dato[371] = 0.0 es un outlier\n",
            "El dato[372] = 35.8 es un outlier\n",
            "El dato[373] = 34.9 es un outlier\n",
            "El dato[374] = 36.2 es un outlier\n",
            "El dato[375] = 39.2 es un outlier\n",
            "El dato[376] = 25.2 es un outlier\n",
            "El dato[377] = 37.2 es un outlier\n",
            "El dato[378] = 48.3 es un outlier\n",
            "El dato[379] = 43.4 es un outlier\n",
            "El dato[380] = 30.8 es un outlier\n",
            "El dato[381] = 20.0 es un outlier\n",
            "El dato[382] = 25.4 es un outlier\n",
            "El dato[383] = 25.1 es un outlier\n",
            "El dato[384] = 24.3 es un outlier\n",
            "El dato[385] = 22.3 es un outlier\n",
            "El dato[386] = 32.3 es un outlier\n",
            "El dato[387] = 43.3 es un outlier\n",
            "El dato[388] = 32.0 es un outlier\n",
            "El dato[389] = 31.6 es un outlier\n",
            "El dato[390] = 32.0 es un outlier\n",
            "El dato[391] = 45.7 es un outlier\n",
            "El dato[392] = 23.7 es un outlier\n",
            "El dato[393] = 22.1 es un outlier\n",
            "El dato[394] = 32.9 es un outlier\n",
            "El dato[395] = 27.7 es un outlier\n",
            "El dato[396] = 24.7 es un outlier\n",
            "El dato[397] = 34.3 es un outlier\n",
            "El dato[398] = 21.1 es un outlier\n",
            "El dato[399] = 34.9 es un outlier\n",
            "El dato[400] = 32.0 es un outlier\n",
            "El dato[401] = 24.2 es un outlier\n",
            "El dato[402] = 35.0 es un outlier\n",
            "El dato[403] = 31.6 es un outlier\n",
            "El dato[404] = 32.9 es un outlier\n",
            "El dato[405] = 42.1 es un outlier\n",
            "El dato[406] = 28.9 es un outlier\n",
            "El dato[407] = 21.9 es un outlier\n",
            "El dato[408] = 25.9 es un outlier\n",
            "El dato[409] = 42.4 es un outlier\n",
            "El dato[410] = 35.7 es un outlier\n",
            "El dato[411] = 34.4 es un outlier\n",
            "El dato[412] = 42.4 es un outlier\n",
            "El dato[413] = 26.2 es un outlier\n",
            "El dato[414] = 34.6 es un outlier\n",
            "El dato[415] = 35.7 es un outlier\n",
            "El dato[416] = 27.2 es un outlier\n",
            "El dato[417] = 38.5 es un outlier\n",
            "El dato[418] = 18.2 es un outlier\n",
            "El dato[419] = 26.4 es un outlier\n",
            "El dato[420] = 45.3 es un outlier\n",
            "El dato[421] = 26.0 es un outlier\n",
            "El dato[422] = 40.6 es un outlier\n",
            "El dato[423] = 30.8 es un outlier\n",
            "El dato[424] = 42.9 es un outlier\n",
            "El dato[425] = 37.0 es un outlier\n",
            "El dato[426] = 0.0 es un outlier\n",
            "El dato[427] = 34.1 es un outlier\n",
            "El dato[428] = 40.6 es un outlier\n",
            "El dato[429] = 35.0 es un outlier\n",
            "El dato[430] = 22.2 es un outlier\n",
            "El dato[431] = 30.4 es un outlier\n",
            "El dato[432] = 30.0 es un outlier\n",
            "El dato[433] = 25.6 es un outlier\n",
            "El dato[434] = 24.5 es un outlier\n",
            "El dato[435] = 42.4 es un outlier\n",
            "El dato[436] = 37.4 es un outlier\n",
            "El dato[437] = 29.9 es un outlier\n",
            "El dato[438] = 18.2 es un outlier\n",
            "El dato[439] = 36.8 es un outlier\n",
            "El dato[440] = 34.3 es un outlier\n",
            "El dato[441] = 32.2 es un outlier\n",
            "El dato[442] = 33.2 es un outlier\n",
            "El dato[443] = 30.5 es un outlier\n",
            "El dato[444] = 29.7 es un outlier\n",
            "El dato[445] = 59.4 es un outlier\n",
            "El dato[446] = 25.3 es un outlier\n",
            "El dato[447] = 36.5 es un outlier\n",
            "El dato[448] = 33.6 es un outlier\n",
            "El dato[449] = 30.5 es un outlier\n",
            "El dato[450] = 21.2 es un outlier\n",
            "El dato[451] = 28.9 es un outlier\n",
            "El dato[452] = 39.9 es un outlier\n",
            "El dato[453] = 19.6 es un outlier\n",
            "El dato[454] = 37.8 es un outlier\n",
            "El dato[455] = 33.6 es un outlier\n",
            "El dato[456] = 26.7 es un outlier\n",
            "El dato[457] = 30.2 es un outlier\n",
            "El dato[458] = 37.6 es un outlier\n",
            "El dato[459] = 25.9 es un outlier\n",
            "El dato[460] = 20.8 es un outlier\n",
            "El dato[461] = 21.8 es un outlier\n",
            "El dato[462] = 35.3 es un outlier\n",
            "El dato[463] = 27.6 es un outlier\n",
            "El dato[464] = 24.0 es un outlier\n",
            "El dato[465] = 21.8 es un outlier\n",
            "El dato[466] = 27.8 es un outlier\n",
            "El dato[467] = 36.8 es un outlier\n",
            "El dato[468] = 30.0 es un outlier\n",
            "El dato[469] = 46.1 es un outlier\n",
            "El dato[470] = 41.3 es un outlier\n",
            "El dato[471] = 33.2 es un outlier\n",
            "El dato[472] = 38.8 es un outlier\n",
            "El dato[473] = 29.9 es un outlier\n",
            "El dato[474] = 28.9 es un outlier\n",
            "El dato[475] = 27.3 es un outlier\n",
            "El dato[476] = 33.7 es un outlier\n",
            "El dato[477] = 23.8 es un outlier\n",
            "El dato[478] = 25.9 es un outlier\n",
            "El dato[479] = 28.0 es un outlier\n",
            "El dato[480] = 35.5 es un outlier\n",
            "El dato[481] = 35.2 es un outlier\n",
            "El dato[482] = 27.8 es un outlier\n",
            "El dato[483] = 38.2 es un outlier\n",
            "El dato[484] = 44.2 es un outlier\n",
            "El dato[485] = 42.3 es un outlier\n",
            "El dato[486] = 40.7 es un outlier\n",
            "El dato[487] = 46.5 es un outlier\n",
            "El dato[488] = 25.6 es un outlier\n",
            "El dato[489] = 26.1 es un outlier\n",
            "El dato[490] = 36.8 es un outlier\n",
            "El dato[491] = 33.5 es un outlier\n",
            "El dato[492] = 32.8 es un outlier\n",
            "El dato[493] = 28.9 es un outlier\n",
            "El dato[494] = 0.0 es un outlier\n",
            "El dato[495] = 26.6 es un outlier\n",
            "El dato[496] = 26.0 es un outlier\n",
            "El dato[497] = 30.1 es un outlier\n",
            "El dato[498] = 25.1 es un outlier\n",
            "El dato[499] = 29.3 es un outlier\n",
            "El dato[500] = 25.2 es un outlier\n",
            "El dato[501] = 37.2 es un outlier\n",
            "El dato[503] = 33.3 es un outlier\n",
            "El dato[504] = 37.3 es un outlier\n",
            "El dato[505] = 33.3 es un outlier\n",
            "El dato[506] = 36.5 es un outlier\n",
            "El dato[507] = 28.6 es un outlier\n",
            "El dato[508] = 30.4 es un outlier\n",
            "El dato[509] = 25.0 es un outlier\n",
            "El dato[510] = 29.7 es un outlier\n",
            "El dato[511] = 22.1 es un outlier\n",
            "El dato[512] = 24.2 es un outlier\n",
            "El dato[513] = 27.3 es un outlier\n",
            "El dato[514] = 25.6 es un outlier\n",
            "El dato[515] = 31.6 es un outlier\n",
            "El dato[516] = 30.3 es un outlier\n",
            "El dato[517] = 37.6 es un outlier\n",
            "El dato[518] = 32.8 es un outlier\n",
            "El dato[519] = 19.6 es un outlier\n",
            "El dato[520] = 25.0 es un outlier\n",
            "El dato[521] = 33.2 es un outlier\n",
            "El dato[522] = 0.0 es un outlier\n",
            "El dato[523] = 34.2 es un outlier\n",
            "El dato[524] = 31.6 es un outlier\n",
            "El dato[525] = 21.8 es un outlier\n",
            "El dato[526] = 18.2 es un outlier\n",
            "El dato[527] = 26.3 es un outlier\n",
            "El dato[528] = 30.8 es un outlier\n",
            "El dato[529] = 24.6 es un outlier\n",
            "El dato[530] = 29.8 es un outlier\n",
            "El dato[531] = 45.3 es un outlier\n",
            "El dato[532] = 41.3 es un outlier\n",
            "El dato[533] = 29.8 es un outlier\n",
            "El dato[534] = 33.3 es un outlier\n",
            "El dato[535] = 32.9 es un outlier\n",
            "El dato[536] = 29.6 es un outlier\n",
            "El dato[538] = 36.3 es un outlier\n",
            "El dato[539] = 36.4 es un outlier\n",
            "El dato[540] = 39.4 es un outlier\n",
            "El dato[541] = 32.4 es un outlier\n",
            "El dato[542] = 34.9 es un outlier\n",
            "El dato[543] = 39.5 es un outlier\n",
            "El dato[544] = 32.0 es un outlier\n",
            "El dato[545] = 34.5 es un outlier\n",
            "El dato[546] = 43.6 es un outlier\n",
            "El dato[547] = 33.1 es un outlier\n",
            "El dato[548] = 32.8 es un outlier\n",
            "El dato[549] = 28.5 es un outlier\n",
            "El dato[550] = 27.4 es un outlier\n",
            "El dato[551] = 31.9 es un outlier\n",
            "El dato[552] = 27.8 es un outlier\n",
            "El dato[553] = 29.9 es un outlier\n",
            "El dato[554] = 36.9 es un outlier\n",
            "El dato[555] = 25.5 es un outlier\n",
            "El dato[556] = 38.1 es un outlier\n",
            "El dato[557] = 27.8 es un outlier\n",
            "El dato[558] = 46.2 es un outlier\n",
            "El dato[559] = 30.1 es un outlier\n",
            "El dato[560] = 33.8 es un outlier\n",
            "El dato[561] = 41.3 es un outlier\n",
            "El dato[562] = 37.6 es un outlier\n",
            "El dato[563] = 26.9 es un outlier\n",
            "El dato[564] = 32.4 es un outlier\n",
            "El dato[565] = 26.1 es un outlier\n",
            "El dato[566] = 38.6 es un outlier\n",
            "El dato[567] = 32.0 es un outlier\n",
            "El dato[568] = 31.3 es un outlier\n",
            "El dato[569] = 34.3 es un outlier\n",
            "El dato[570] = 32.5 es un outlier\n",
            "El dato[571] = 22.6 es un outlier\n",
            "El dato[572] = 29.5 es un outlier\n",
            "El dato[573] = 34.7 es un outlier\n",
            "El dato[574] = 30.1 es un outlier\n",
            "El dato[575] = 35.5 es un outlier\n",
            "El dato[576] = 24.0 es un outlier\n",
            "El dato[577] = 42.9 es un outlier\n",
            "El dato[578] = 27.0 es un outlier\n",
            "El dato[579] = 34.7 es un outlier\n",
            "El dato[580] = 42.1 es un outlier\n",
            "El dato[581] = 25.0 es un outlier\n",
            "El dato[582] = 26.5 es un outlier\n",
            "El dato[583] = 38.7 es un outlier\n",
            "El dato[584] = 28.7 es un outlier\n",
            "El dato[585] = 22.5 es un outlier\n",
            "El dato[586] = 34.9 es un outlier\n",
            "El dato[587] = 24.3 es un outlier\n",
            "El dato[588] = 33.3 es un outlier\n",
            "El dato[589] = 21.1 es un outlier\n",
            "El dato[590] = 46.8 es un outlier\n",
            "El dato[591] = 39.4 es un outlier\n",
            "El dato[592] = 34.4 es un outlier\n",
            "El dato[593] = 28.5 es un outlier\n",
            "El dato[594] = 33.6 es un outlier\n",
            "El dato[595] = 32.0 es un outlier\n",
            "El dato[596] = 45.3 es un outlier\n",
            "El dato[597] = 27.8 es un outlier\n",
            "El dato[598] = 36.8 es un outlier\n",
            "El dato[599] = 23.1 es un outlier\n",
            "El dato[600] = 27.1 es un outlier\n",
            "El dato[601] = 23.7 es un outlier\n",
            "El dato[602] = 27.8 es un outlier\n",
            "El dato[603] = 35.2 es un outlier\n",
            "El dato[604] = 28.4 es un outlier\n",
            "El dato[605] = 35.8 es un outlier\n",
            "El dato[606] = 40.0 es un outlier\n",
            "El dato[607] = 19.5 es un outlier\n",
            "El dato[608] = 41.5 es un outlier\n",
            "El dato[609] = 24.0 es un outlier\n",
            "El dato[610] = 30.9 es un outlier\n",
            "El dato[611] = 32.9 es un outlier\n",
            "El dato[612] = 38.2 es un outlier\n",
            "El dato[613] = 32.5 es un outlier\n",
            "El dato[614] = 36.1 es un outlier\n",
            "El dato[615] = 25.8 es un outlier\n",
            "El dato[616] = 28.7 es un outlier\n",
            "El dato[617] = 20.1 es un outlier\n",
            "El dato[618] = 28.2 es un outlier\n",
            "El dato[619] = 32.4 es un outlier\n",
            "El dato[620] = 38.4 es un outlier\n",
            "El dato[621] = 24.2 es un outlier\n",
            "El dato[622] = 40.8 es un outlier\n",
            "El dato[623] = 43.5 es un outlier\n",
            "El dato[624] = 30.8 es un outlier\n",
            "El dato[625] = 37.7 es un outlier\n",
            "El dato[626] = 24.7 es un outlier\n",
            "El dato[627] = 32.4 es un outlier\n",
            "El dato[628] = 34.6 es un outlier\n",
            "El dato[629] = 24.7 es un outlier\n",
            "El dato[630] = 27.4 es un outlier\n",
            "El dato[631] = 34.5 es un outlier\n",
            "El dato[632] = 26.2 es un outlier\n",
            "El dato[633] = 27.5 es un outlier\n",
            "El dato[634] = 25.9 es un outlier\n",
            "El dato[635] = 31.2 es un outlier\n",
            "El dato[636] = 28.8 es un outlier\n",
            "El dato[637] = 31.6 es un outlier\n",
            "El dato[638] = 40.9 es un outlier\n",
            "El dato[639] = 19.5 es un outlier\n",
            "El dato[640] = 29.3 es un outlier\n",
            "El dato[641] = 34.3 es un outlier\n",
            "El dato[642] = 29.5 es un outlier\n",
            "El dato[643] = 28.0 es un outlier\n",
            "El dato[644] = 27.6 es un outlier\n",
            "El dato[645] = 39.4 es un outlier\n",
            "El dato[646] = 23.4 es un outlier\n",
            "El dato[647] = 37.8 es un outlier\n",
            "El dato[648] = 28.3 es un outlier\n",
            "El dato[649] = 26.4 es un outlier\n",
            "El dato[650] = 25.2 es un outlier\n",
            "El dato[651] = 33.8 es un outlier\n",
            "El dato[652] = 34.1 es un outlier\n",
            "El dato[653] = 26.8 es un outlier\n",
            "El dato[654] = 34.2 es un outlier\n",
            "El dato[655] = 38.7 es un outlier\n",
            "El dato[656] = 21.8 es un outlier\n",
            "El dato[657] = 38.9 es un outlier\n",
            "El dato[658] = 39.0 es un outlier\n",
            "El dato[659] = 34.2 es un outlier\n",
            "El dato[660] = 27.7 es un outlier\n",
            "El dato[661] = 42.9 es un outlier\n",
            "El dato[662] = 37.6 es un outlier\n",
            "El dato[663] = 37.9 es un outlier\n",
            "El dato[664] = 33.7 es un outlier\n",
            "El dato[665] = 34.8 es un outlier\n",
            "El dato[666] = 32.5 es un outlier\n",
            "El dato[667] = 27.5 es un outlier\n",
            "El dato[668] = 34.0 es un outlier\n",
            "El dato[669] = 30.9 es un outlier\n",
            "El dato[670] = 33.6 es un outlier\n",
            "El dato[671] = 25.4 es un outlier\n",
            "El dato[672] = 35.5 es un outlier\n",
            "El dato[673] = 57.3 es un outlier\n",
            "El dato[674] = 35.6 es un outlier\n",
            "El dato[675] = 30.9 es un outlier\n",
            "El dato[676] = 24.8 es un outlier\n",
            "El dato[677] = 35.3 es un outlier\n",
            "El dato[678] = 36.0 es un outlier\n",
            "El dato[679] = 24.2 es un outlier\n",
            "El dato[681] = 49.6 es un outlier\n",
            "El dato[682] = 44.6 es un outlier\n",
            "El dato[683] = 32.3 es un outlier\n",
            "El dato[684] = 0.0 es un outlier\n",
            "El dato[685] = 33.2 es un outlier\n",
            "El dato[686] = 23.1 es un outlier\n",
            "El dato[687] = 28.3 es un outlier\n",
            "El dato[688] = 24.1 es un outlier\n",
            "El dato[689] = 46.1 es un outlier\n",
            "El dato[690] = 24.6 es un outlier\n",
            "El dato[691] = 42.3 es un outlier\n",
            "El dato[692] = 39.1 es un outlier\n",
            "El dato[693] = 38.5 es un outlier\n",
            "El dato[694] = 23.5 es un outlier\n",
            "El dato[695] = 30.4 es un outlier\n",
            "El dato[696] = 29.9 es un outlier\n",
            "El dato[697] = 25.0 es un outlier\n",
            "El dato[698] = 34.5 es un outlier\n",
            "El dato[699] = 44.5 es un outlier\n",
            "El dato[700] = 35.9 es un outlier\n",
            "El dato[701] = 27.6 es un outlier\n",
            "El dato[702] = 35.0 es un outlier\n",
            "El dato[703] = 38.5 es un outlier\n",
            "El dato[704] = 28.4 es un outlier\n",
            "El dato[705] = 39.8 es un outlier\n",
            "El dato[706] = 0.0 es un outlier\n",
            "El dato[707] = 34.4 es un outlier\n",
            "El dato[708] = 32.8 es un outlier\n",
            "El dato[709] = 38.0 es un outlier\n",
            "El dato[710] = 31.2 es un outlier\n",
            "El dato[711] = 29.6 es un outlier\n",
            "El dato[712] = 41.2 es un outlier\n",
            "El dato[713] = 26.4 es un outlier\n",
            "El dato[714] = 29.5 es un outlier\n",
            "El dato[715] = 33.9 es un outlier\n",
            "El dato[716] = 33.8 es un outlier\n",
            "El dato[717] = 23.1 es un outlier\n",
            "El dato[718] = 35.5 es un outlier\n",
            "El dato[719] = 35.6 es un outlier\n",
            "El dato[720] = 29.3 es un outlier\n",
            "El dato[721] = 38.1 es un outlier\n",
            "El dato[722] = 29.3 es un outlier\n",
            "El dato[723] = 39.1 es un outlier\n",
            "El dato[724] = 32.8 es un outlier\n",
            "El dato[725] = 39.4 es un outlier\n",
            "El dato[726] = 36.1 es un outlier\n",
            "El dato[727] = 32.4 es un outlier\n",
            "El dato[728] = 22.9 es un outlier\n",
            "El dato[729] = 30.1 es un outlier\n",
            "El dato[730] = 28.4 es un outlier\n",
            "El dato[731] = 28.4 es un outlier\n",
            "El dato[732] = 44.5 es un outlier\n",
            "El dato[733] = 29.0 es un outlier\n",
            "El dato[734] = 23.3 es un outlier\n",
            "El dato[735] = 35.4 es un outlier\n",
            "El dato[736] = 27.4 es un outlier\n",
            "El dato[737] = 32.0 es un outlier\n",
            "El dato[738] = 36.6 es un outlier\n",
            "El dato[739] = 39.5 es un outlier\n",
            "El dato[740] = 42.3 es un outlier\n",
            "El dato[741] = 30.8 es un outlier\n",
            "El dato[742] = 28.5 es un outlier\n",
            "El dato[743] = 32.7 es un outlier\n",
            "El dato[744] = 40.6 es un outlier\n",
            "El dato[745] = 30.0 es un outlier\n",
            "El dato[746] = 49.3 es un outlier\n",
            "El dato[747] = 46.3 es un outlier\n",
            "El dato[748] = 36.4 es un outlier\n",
            "El dato[749] = 24.3 es un outlier\n",
            "El dato[750] = 31.2 es un outlier\n",
            "El dato[751] = 39.0 es un outlier\n",
            "El dato[752] = 26.0 es un outlier\n",
            "El dato[753] = 43.3 es un outlier\n",
            "El dato[754] = 32.4 es un outlier\n",
            "El dato[755] = 36.5 es un outlier\n",
            "El dato[756] = 32.0 es un outlier\n",
            "El dato[757] = 36.3 es un outlier\n",
            "El dato[758] = 37.5 es un outlier\n",
            "El dato[759] = 35.5 es un outlier\n",
            "El dato[760] = 28.4 es un outlier\n",
            "El dato[761] = 44.0 es un outlier\n",
            "El dato[762] = 22.5 es un outlier\n",
            "El dato[763] = 32.9 es un outlier\n",
            "El dato[764] = 36.8 es un outlier\n",
            "El dato[765] = 26.2 es un outlier\n",
            "El dato[766] = 30.1 es un outlier\n",
            "El dato[767] = 30.4 es un outlier\n"
          ]
        }
      ]
    },
    {
      "cell_type": "code",
      "source": [
        "# Metodo de los Quartiles con el dato BMI\n",
        "for i in range(len(diabetes['BMI'])):\n",
        "  if diabetes['BMI'][i] < outliers_bmi_q[0] or diabetes['BMI'][i] > outliers_bmi_q[1]:\n",
        "    print(f\"El dato[{i}] = {diabetes['BMI'][i]} es un outlier\")"
      ],
      "metadata": {
        "colab": {
          "base_uri": "https://localhost:8080/"
        },
        "id": "1Zw5-_fjtq6F",
        "outputId": "f650e863-7cc6-4a39-8415-f1e82ea7258a"
      },
      "execution_count": 48,
      "outputs": [
        {
          "output_type": "stream",
          "name": "stdout",
          "text": [
            "El dato[9] = 0.0 es un outlier\n",
            "El dato[49] = 0.0 es un outlier\n",
            "El dato[60] = 0.0 es un outlier\n",
            "El dato[81] = 0.0 es un outlier\n",
            "El dato[120] = 53.2 es un outlier\n",
            "El dato[125] = 55.0 es un outlier\n",
            "El dato[145] = 0.0 es un outlier\n",
            "El dato[177] = 67.1 es un outlier\n",
            "El dato[193] = 52.3 es un outlier\n",
            "El dato[247] = 52.3 es un outlier\n",
            "El dato[303] = 52.9 es un outlier\n",
            "El dato[371] = 0.0 es un outlier\n",
            "El dato[426] = 0.0 es un outlier\n",
            "El dato[445] = 59.4 es un outlier\n",
            "El dato[494] = 0.0 es un outlier\n",
            "El dato[522] = 0.0 es un outlier\n",
            "El dato[673] = 57.3 es un outlier\n",
            "El dato[684] = 0.0 es un outlier\n",
            "El dato[706] = 0.0 es un outlier\n"
          ]
        }
      ]
    },
    {
      "cell_type": "markdown",
      "source": [
        "#### Usa el método jackknife para detectar si hay observaciones influyentes para la media en alguno de los atributos.\n"
      ],
      "metadata": {
        "id": "qBH0XT_WvErx"
      }
    },
    {
      "cell_type": "code",
      "source": [
        "glucose_means = means_array(diabetes, 'Glucose')\n",
        "glucose_means"
      ],
      "metadata": {
        "id": "OK0KvACxu6ud"
      },
      "execution_count": null,
      "outputs": []
    },
    {
      "cell_type": "code",
      "source": [
        "outliers_glucose_means = outlier_quantiles(glucose_means)\n",
        "outliers_glucose_means"
      ],
      "metadata": {
        "colab": {
          "base_uri": "https://localhost:8080/"
        },
        "id": "lx7jACVNv-RA",
        "outputId": "d9cfe621-a2ad-4763-d1dc-fd646292d482"
      },
      "execution_count": 58,
      "outputs": [
        {
          "output_type": "execute_result",
          "data": {
            "text/plain": [
              "(120.78862451108215, 121.00374837027378)"
            ]
          },
          "metadata": {},
          "execution_count": 58
        }
      ]
    },
    {
      "cell_type": "code",
      "source": [
        "for i in range(len(diabetes['Glucose'])):\n",
        "  if glucose_means[i] < outliers_glucose_means[0] or glucose_means[i] > outliers_glucose_means[1]:\n",
        "    print(f\"La mediana[{i}] = {glucose_means[i]} es influyente\")"
      ],
      "metadata": {
        "colab": {
          "base_uri": "https://localhost:8080/"
        },
        "id": "RmOoqTbXwU3g",
        "outputId": "151482dd-124e-4f2f-a818-005764992c43"
      },
      "execution_count": 59,
      "outputs": [
        {
          "output_type": "stream",
          "name": "stdout",
          "text": [
            "La mediana[75] = 121.05215123859192 es influyente\n",
            "La mediana[182] = 121.05215123859192 es influyente\n",
            "La mediana[342] = 121.05215123859192 es influyente\n",
            "La mediana[349] = 121.05215123859192 es influyente\n",
            "La mediana[502] = 121.05215123859192 es influyente\n"
          ]
        }
      ]
    },
    {
      "cell_type": "code",
      "source": [
        "bmi_means = means_array(diabetes, 'BMI')\n",
        "bmi_means"
      ],
      "metadata": {
        "id": "qlYdbEltvqyk"
      },
      "execution_count": null,
      "outputs": []
    },
    {
      "cell_type": "code",
      "source": [
        "outliers_bmi_means = outlier_quantiles(bmi_means)\n",
        "outliers_bmi_means"
      ],
      "metadata": {
        "colab": {
          "base_uri": "https://localhost:8080/"
        },
        "id": "dR1TtoyswFhX",
        "outputId": "ea46ca29-539f-440d-96fc-2e0bfe0737a8"
      },
      "execution_count": 63,
      "outputs": [
        {
          "output_type": "execute_result",
          "data": {
            "text/plain": [
              "(31.968383311603645, 32.01688396349414)"
            ]
          },
          "metadata": {},
          "execution_count": 63
        }
      ]
    },
    {
      "cell_type": "code",
      "source": [
        "for i in range(len(diabetes['BMI'])):\n",
        "  if bmi_means[i] < outliers_bmi_means[0] or bmi_means[i] > outliers_bmi_means[1]:\n",
        "    print(f\"La mediana[{i}] = {bmi_means[i]} es influyente\")"
      ],
      "metadata": {
        "colab": {
          "base_uri": "https://localhost:8080/"
        },
        "id": "v-sJvVTywSjR",
        "outputId": "48d5a3d7-8ca7-40fe-f44d-813c30e5fde3"
      },
      "execution_count": 64,
      "outputs": [
        {
          "output_type": "stream",
          "name": "stdout",
          "text": [
            "La mediana[9] = 32.034289439374184 es influyente\n",
            "La mediana[49] = 32.034289439374184 es influyente\n",
            "La mediana[60] = 32.034289439374184 es influyente\n",
            "La mediana[81] = 32.034289439374184 es influyente\n",
            "La mediana[120] = 31.964928292046935 es influyente\n",
            "La mediana[125] = 31.9625814863103 es influyente\n",
            "La mediana[145] = 32.034289439374184 es influyente\n",
            "La mediana[177] = 31.946805736636243 es influyente\n",
            "La mediana[193] = 31.966101694915253 es influyente\n",
            "La mediana[247] = 31.966101694915253 es influyente\n",
            "La mediana[303] = 31.96531942633637 es influyente\n",
            "La mediana[371] = 32.034289439374184 es influyente\n",
            "La mediana[426] = 32.03428943937418 es influyente\n",
            "La mediana[445] = 31.956844850065185 es influyente\n",
            "La mediana[494] = 32.034289439374184 es influyente\n",
            "La mediana[522] = 32.034289439374184 es influyente\n",
            "La mediana[673] = 31.959582790091265 es influyente\n",
            "La mediana[684] = 32.034289439374184 es influyente\n",
            "La mediana[706] = 32.034289439374184 es influyente\n"
          ]
        }
      ]
    },
    {
      "cell_type": "markdown",
      "source": [
        "#### Escala los atributos usando MinMaxScaler"
      ],
      "metadata": {
        "id": "5DOSMsezvKco"
      }
    },
    {
      "cell_type": "code",
      "source": [
        "scaler.fit(diabetes)"
      ],
      "metadata": {
        "colab": {
          "base_uri": "https://localhost:8080/"
        },
        "id": "hpbeqHfCxc-L",
        "outputId": "685b21a6-9931-4b25-ef4e-eafa8ee2bf05"
      },
      "execution_count": 72,
      "outputs": [
        {
          "output_type": "execute_result",
          "data": {
            "text/plain": [
              "MinMaxScaler()"
            ]
          },
          "metadata": {},
          "execution_count": 72
        }
      ]
    },
    {
      "cell_type": "code",
      "source": [
        "scaler.data_max_"
      ],
      "metadata": {
        "colab": {
          "base_uri": "https://localhost:8080/"
        },
        "id": "tqY8QrVLxx9o",
        "outputId": "f0c5957b-8a31-44c2-cbb4-29d3bfe5961d"
      },
      "execution_count": 70,
      "outputs": [
        {
          "output_type": "execute_result",
          "data": {
            "text/plain": [
              "array([ 17.  , 199.  , 122.  ,  99.  , 846.  ,  67.1 ,   2.42,  81.  ,\n",
              "         1.  ])"
            ]
          },
          "metadata": {},
          "execution_count": 70
        }
      ]
    },
    {
      "cell_type": "code",
      "source": [
        "scaler.data_min_"
      ],
      "metadata": {
        "colab": {
          "base_uri": "https://localhost:8080/"
        },
        "id": "182fic4Ox6Sg",
        "outputId": "afaf6d69-c40b-4b9c-ebb5-25c0f7352d10"
      },
      "execution_count": 68,
      "outputs": [
        {
          "output_type": "execute_result",
          "data": {
            "text/plain": [
              "array([ 0.   ,  0.   ,  0.   ,  0.   ,  0.   ,  0.   ,  0.078, 21.   ,\n",
              "        0.   ])"
            ]
          },
          "metadata": {},
          "execution_count": 68
        }
      ]
    },
    {
      "cell_type": "code",
      "source": [
        "diabetes_transform = scaler.transform(diabetes)\n",
        "diabetes_transform"
      ],
      "metadata": {
        "colab": {
          "base_uri": "https://localhost:8080/"
        },
        "id": "1CLahgoQyCUZ",
        "outputId": "f4344ef4-49c4-4449-9f57-58d68d309a48"
      },
      "execution_count": 75,
      "outputs": [
        {
          "output_type": "execute_result",
          "data": {
            "text/plain": [
              "array([[0.35294118, 0.74371859, 0.59016393, ..., 0.23441503, 0.48333333,\n",
              "        1.        ],\n",
              "       [0.05882353, 0.42713568, 0.54098361, ..., 0.11656704, 0.16666667,\n",
              "        0.        ],\n",
              "       [0.47058824, 0.91959799, 0.52459016, ..., 0.25362938, 0.18333333,\n",
              "        1.        ],\n",
              "       ...,\n",
              "       [0.29411765, 0.6080402 , 0.59016393, ..., 0.07130658, 0.15      ,\n",
              "        0.        ],\n",
              "       [0.05882353, 0.63316583, 0.49180328, ..., 0.11571307, 0.43333333,\n",
              "        1.        ],\n",
              "       [0.05882353, 0.46733668, 0.57377049, ..., 0.10119556, 0.03333333,\n",
              "        0.        ]])"
            ]
          },
          "metadata": {},
          "execution_count": 75
        }
      ]
    }
  ]
}