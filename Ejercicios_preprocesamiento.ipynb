{
  "nbformat": 4,
  "nbformat_minor": 0,
  "metadata": {
    "colab": {
      "provenance": [],
      "authorship_tag": "ABX9TyMnAsGSCQwd4W2z6P11byi9",
      "include_colab_link": true
    },
    "kernelspec": {
      "name": "python3",
      "display_name": "Python 3"
    },
    "language_info": {
      "name": "python"
    }
  },
  "cells": [
    {
      "cell_type": "markdown",
      "metadata": {
        "id": "view-in-github",
        "colab_type": "text"
      },
      "source": [
        "<a href=\"https://colab.research.google.com/github/slapazromero/Ejercicio_preprocesamiento/blob/main/Ejercicios_preprocesamiento.ipynb\" target=\"_parent\"><img src=\"https://colab.research.google.com/assets/colab-badge.svg\" alt=\"Open In Colab\"/></a>"
      ]
    },
    {
      "cell_type": "code",
      "source": [
        "import pandas as pd\n",
        "import numpy as np\n",
        "import random\n",
        "import scipy.stats as st\n",
        "from sklearn.preprocessing import MinMaxScaler\n",
        "import matplotlib.pyplot as plt"
      ],
      "metadata": {
        "id": "FTerGlAUozJD"
      },
      "execution_count": 1,
      "outputs": []
    },
    {
      "cell_type": "markdown",
      "source": [
        "### 1. Crea un dataframe (https://pandas.pydata.org/docs/reference/api/pandas.DataFrame.html) con 1000 registros para tres datos con valores aleatorios generados (https://numpy.org/doc/stable/reference/random/generated/numpy.random.rand.html https://numpy.org/doc/stable/reference/random/generated/numpy.random.normal.html)\n",
        "- x → entre 20 y 50\n",
        "- y → entre 50 y 150\n",
        "- z → entre 10000 y 40000"
      ],
      "metadata": {
        "id": "4Vn0J9lRrmc3"
      }
    },
    {
      "cell_type": "code",
      "execution_count": 2,
      "metadata": {
        "id": "S260WbANreCF"
      },
      "outputs": [],
      "source": [
        "data = {\n",
        "    'x': [random.triangular(20, 50) for _ in range(1000)],\n",
        "    'y': [random.triangular(50, 150) for _ in range(1000)],\n",
        "    'z': [random.triangular(10000, 40000) for _ in range(1000)]\n",
        "     }\n",
        "data_frame = pd.DataFrame(data = data)"
      ]
    },
    {
      "cell_type": "code",
      "source": [
        "data_frame"
      ],
      "metadata": {
        "colab": {
          "base_uri": "https://localhost:8080/",
          "height": 424
        },
        "id": "TsmpZd80mzz4",
        "outputId": "b2b40d7f-6c89-4d50-f60a-d3313500de3a"
      },
      "execution_count": 3,
      "outputs": [
        {
          "output_type": "execute_result",
          "data": {
            "text/plain": [
              "             x           y             z\n",
              "0    34.530163   92.442540  24250.339061\n",
              "1    27.690047   95.906021  25709.121401\n",
              "2    29.429499  105.849153  18276.305579\n",
              "3    32.486102   78.213431  17915.059540\n",
              "4    37.599165   76.896480  19757.305252\n",
              "..         ...         ...           ...\n",
              "995  47.561138  100.211179  23985.599898\n",
              "996  25.147383  119.901069  20277.778227\n",
              "997  26.754616  108.784498  14922.974514\n",
              "998  30.688290   77.111643  35293.334543\n",
              "999  30.128348   90.050457  14512.734471\n",
              "\n",
              "[1000 rows x 3 columns]"
            ],
            "text/html": [
              "\n",
              "  <div id=\"df-aeafecb0-35cc-4d71-9bb4-96b2a0a14bf1\">\n",
              "    <div class=\"colab-df-container\">\n",
              "      <div>\n",
              "<style scoped>\n",
              "    .dataframe tbody tr th:only-of-type {\n",
              "        vertical-align: middle;\n",
              "    }\n",
              "\n",
              "    .dataframe tbody tr th {\n",
              "        vertical-align: top;\n",
              "    }\n",
              "\n",
              "    .dataframe thead th {\n",
              "        text-align: right;\n",
              "    }\n",
              "</style>\n",
              "<table border=\"1\" class=\"dataframe\">\n",
              "  <thead>\n",
              "    <tr style=\"text-align: right;\">\n",
              "      <th></th>\n",
              "      <th>x</th>\n",
              "      <th>y</th>\n",
              "      <th>z</th>\n",
              "    </tr>\n",
              "  </thead>\n",
              "  <tbody>\n",
              "    <tr>\n",
              "      <th>0</th>\n",
              "      <td>34.530163</td>\n",
              "      <td>92.442540</td>\n",
              "      <td>24250.339061</td>\n",
              "    </tr>\n",
              "    <tr>\n",
              "      <th>1</th>\n",
              "      <td>27.690047</td>\n",
              "      <td>95.906021</td>\n",
              "      <td>25709.121401</td>\n",
              "    </tr>\n",
              "    <tr>\n",
              "      <th>2</th>\n",
              "      <td>29.429499</td>\n",
              "      <td>105.849153</td>\n",
              "      <td>18276.305579</td>\n",
              "    </tr>\n",
              "    <tr>\n",
              "      <th>3</th>\n",
              "      <td>32.486102</td>\n",
              "      <td>78.213431</td>\n",
              "      <td>17915.059540</td>\n",
              "    </tr>\n",
              "    <tr>\n",
              "      <th>4</th>\n",
              "      <td>37.599165</td>\n",
              "      <td>76.896480</td>\n",
              "      <td>19757.305252</td>\n",
              "    </tr>\n",
              "    <tr>\n",
              "      <th>...</th>\n",
              "      <td>...</td>\n",
              "      <td>...</td>\n",
              "      <td>...</td>\n",
              "    </tr>\n",
              "    <tr>\n",
              "      <th>995</th>\n",
              "      <td>47.561138</td>\n",
              "      <td>100.211179</td>\n",
              "      <td>23985.599898</td>\n",
              "    </tr>\n",
              "    <tr>\n",
              "      <th>996</th>\n",
              "      <td>25.147383</td>\n",
              "      <td>119.901069</td>\n",
              "      <td>20277.778227</td>\n",
              "    </tr>\n",
              "    <tr>\n",
              "      <th>997</th>\n",
              "      <td>26.754616</td>\n",
              "      <td>108.784498</td>\n",
              "      <td>14922.974514</td>\n",
              "    </tr>\n",
              "    <tr>\n",
              "      <th>998</th>\n",
              "      <td>30.688290</td>\n",
              "      <td>77.111643</td>\n",
              "      <td>35293.334543</td>\n",
              "    </tr>\n",
              "    <tr>\n",
              "      <th>999</th>\n",
              "      <td>30.128348</td>\n",
              "      <td>90.050457</td>\n",
              "      <td>14512.734471</td>\n",
              "    </tr>\n",
              "  </tbody>\n",
              "</table>\n",
              "<p>1000 rows × 3 columns</p>\n",
              "</div>\n",
              "      <button class=\"colab-df-convert\" onclick=\"convertToInteractive('df-aeafecb0-35cc-4d71-9bb4-96b2a0a14bf1')\"\n",
              "              title=\"Convert this dataframe to an interactive table.\"\n",
              "              style=\"display:none;\">\n",
              "        \n",
              "  <svg xmlns=\"http://www.w3.org/2000/svg\" height=\"24px\"viewBox=\"0 0 24 24\"\n",
              "       width=\"24px\">\n",
              "    <path d=\"M0 0h24v24H0V0z\" fill=\"none\"/>\n",
              "    <path d=\"M18.56 5.44l.94 2.06.94-2.06 2.06-.94-2.06-.94-.94-2.06-.94 2.06-2.06.94zm-11 1L8.5 8.5l.94-2.06 2.06-.94-2.06-.94L8.5 2.5l-.94 2.06-2.06.94zm10 10l.94 2.06.94-2.06 2.06-.94-2.06-.94-.94-2.06-.94 2.06-2.06.94z\"/><path d=\"M17.41 7.96l-1.37-1.37c-.4-.4-.92-.59-1.43-.59-.52 0-1.04.2-1.43.59L10.3 9.45l-7.72 7.72c-.78.78-.78 2.05 0 2.83L4 21.41c.39.39.9.59 1.41.59.51 0 1.02-.2 1.41-.59l7.78-7.78 2.81-2.81c.8-.78.8-2.07 0-2.86zM5.41 20L4 18.59l7.72-7.72 1.47 1.35L5.41 20z\"/>\n",
              "  </svg>\n",
              "      </button>\n",
              "      \n",
              "  <style>\n",
              "    .colab-df-container {\n",
              "      display:flex;\n",
              "      flex-wrap:wrap;\n",
              "      gap: 12px;\n",
              "    }\n",
              "\n",
              "    .colab-df-convert {\n",
              "      background-color: #E8F0FE;\n",
              "      border: none;\n",
              "      border-radius: 50%;\n",
              "      cursor: pointer;\n",
              "      display: none;\n",
              "      fill: #1967D2;\n",
              "      height: 32px;\n",
              "      padding: 0 0 0 0;\n",
              "      width: 32px;\n",
              "    }\n",
              "\n",
              "    .colab-df-convert:hover {\n",
              "      background-color: #E2EBFA;\n",
              "      box-shadow: 0px 1px 2px rgba(60, 64, 67, 0.3), 0px 1px 3px 1px rgba(60, 64, 67, 0.15);\n",
              "      fill: #174EA6;\n",
              "    }\n",
              "\n",
              "    [theme=dark] .colab-df-convert {\n",
              "      background-color: #3B4455;\n",
              "      fill: #D2E3FC;\n",
              "    }\n",
              "\n",
              "    [theme=dark] .colab-df-convert:hover {\n",
              "      background-color: #434B5C;\n",
              "      box-shadow: 0px 1px 3px 1px rgba(0, 0, 0, 0.15);\n",
              "      filter: drop-shadow(0px 1px 2px rgba(0, 0, 0, 0.3));\n",
              "      fill: #FFFFFF;\n",
              "    }\n",
              "  </style>\n",
              "\n",
              "      <script>\n",
              "        const buttonEl =\n",
              "          document.querySelector('#df-aeafecb0-35cc-4d71-9bb4-96b2a0a14bf1 button.colab-df-convert');\n",
              "        buttonEl.style.display =\n",
              "          google.colab.kernel.accessAllowed ? 'block' : 'none';\n",
              "\n",
              "        async function convertToInteractive(key) {\n",
              "          const element = document.querySelector('#df-aeafecb0-35cc-4d71-9bb4-96b2a0a14bf1');\n",
              "          const dataTable =\n",
              "            await google.colab.kernel.invokeFunction('convertToInteractive',\n",
              "                                                     [key], {});\n",
              "          if (!dataTable) return;\n",
              "\n",
              "          const docLinkHtml = 'Like what you see? Visit the ' +\n",
              "            '<a target=\"_blank\" href=https://colab.research.google.com/notebooks/data_table.ipynb>data table notebook</a>'\n",
              "            + ' to learn more about interactive tables.';\n",
              "          element.innerHTML = '';\n",
              "          dataTable['output_type'] = 'display_data';\n",
              "          await google.colab.output.renderOutput(dataTable, element);\n",
              "          const docLink = document.createElement('div');\n",
              "          docLink.innerHTML = docLinkHtml;\n",
              "          element.appendChild(docLink);\n",
              "        }\n",
              "      </script>\n",
              "    </div>\n",
              "  </div>\n",
              "  "
            ]
          },
          "metadata": {},
          "execution_count": 3
        }
      ]
    },
    {
      "cell_type": "code",
      "source": [
        "plt.hist(data_frame['x'])"
      ],
      "metadata": {
        "colab": {
          "base_uri": "https://localhost:8080/",
          "height": 352
        },
        "id": "ab7hOi5ifDqH",
        "outputId": "b1cb0db0-7cd3-47e0-84f0-7bd5c3d2c3d3"
      },
      "execution_count": 4,
      "outputs": [
        {
          "output_type": "execute_result",
          "data": {
            "text/plain": [
              "(array([ 30.,  62., 105., 147., 168., 149., 135., 116.,  53.,  35.]),\n",
              " array([20.9979936 , 23.81742092, 26.63684824, 29.45627556, 32.27570289,\n",
              "        35.09513021, 37.91455753, 40.73398485, 43.55341217, 46.3728395 ,\n",
              "        49.19226682]),\n",
              " <a list of 10 Patch objects>)"
            ]
          },
          "metadata": {},
          "execution_count": 4
        },
        {
          "output_type": "display_data",
          "data": {
            "text/plain": [
              "<Figure size 432x288 with 1 Axes>"
            ],
            "image/png": "[encoded data removed]"
          },
          "metadata": {
            "needs_background": "light"
          }
        }
      ]
    },
    {
      "cell_type": "code",
      "source": [
        "plt.hist(data_frame['y'])"
      ],
      "metadata": {
        "colab": {
          "base_uri": "https://localhost:8080/",
          "height": 352
        },
        "outputId": "1a7c8327-6ebd-4ee5-eb66-af5fdcf3859f",
        "id": "iuaLxAatf89K"
      },
      "execution_count": 5,
      "outputs": [
        {
          "output_type": "execute_result",
          "data": {
            "text/plain": [
              "(array([ 37.,  76., 104., 115., 189., 164., 124., 101.,  53.,  37.]),\n",
              " array([ 53.40430667,  62.83388404,  72.26346142,  81.6930388 ,\n",
              "         91.12261617, 100.55219355, 109.98177093, 119.41134831,\n",
              "        128.84092568, 138.27050306, 147.70008044]),\n",
              " <a list of 10 Patch objects>)"
            ]
          },
          "metadata": {},
          "execution_count": 5
        },
        {
          "output_type": "display_data",
          "data": {
            "text/plain": [
              "<Figure size 432x288 with 1 Axes>"
            ],
            "image/png": "[encoded data removed]"
          },
          "metadata": {
            "needs_background": "light"
          }
        }
      ]
    },
    {
      "cell_type": "code",
      "source": [
        "plt.hist(data_frame['z'])"
      ],
      "metadata": {
        "colab": {
          "base_uri": "https://localhost:8080/",
          "height": 352
        },
        "outputId": "302cbfd4-d55b-4bda-903d-ddc0b007f544",
        "id": "SCq-SY52f9dK"
      },
      "execution_count": 6,
      "outputs": [
        {
          "output_type": "execute_result",
          "data": {
            "text/plain": [
              "(array([ 22.,  52., 106., 135., 149., 167., 149., 106.,  75.,  39.]),\n",
              " array([10489.8749305 , 13342.3902963 , 16194.9056621 , 19047.4210279 ,\n",
              "        21899.93639369, 24752.45175949, 27604.96712529, 30457.48249109,\n",
              "        33309.99785688, 36162.51322268, 39015.02858848]),\n",
              " <a list of 10 Patch objects>)"
            ]
          },
          "metadata": {},
          "execution_count": 6
        },
        {
          "output_type": "display_data",
          "data": {
            "text/plain": [
              "<Figure size 432x288 with 1 Axes>"
            ],
            "image/png": "[encoded data removed]"
          },
          "metadata": {
            "needs_background": "light"
          }
        }
      ]
    },
    {
      "cell_type": "markdown",
      "source": [
        "### 2. Muestra los datos estadísticos de cada variable (media, desviación típica, máx, mín, etc.)\n"
      ],
      "metadata": {
        "id": "qbNnezolVmnk"
      }
    },
    {
      "cell_type": "code",
      "source": [
        "data_frame.describe()"
      ],
      "metadata": {
        "colab": {
          "base_uri": "https://localhost:8080/",
          "height": 300
        },
        "id": "27H26O8gV0R6",
        "outputId": "fd5d86ab-43c2-4112-b943-53bd4212473b"
      },
      "execution_count": 7,
      "outputs": [
        {
          "output_type": "execute_result",
          "data": {
            "text/plain": [
              "                 x            y             z\n",
              "count  1000.000000  1000.000000   1000.000000\n",
              "mean     35.015064    99.512593  25255.465459\n",
              "std       6.172713    20.927653   6184.252348\n",
              "min      20.997994    53.404307  10489.874931\n",
              "25%      30.409779    84.749572  20591.390779\n",
              "50%      34.938541    99.282742  25255.308914\n",
              "75%      39.423228   114.127176  29950.517058\n",
              "max      49.192267   147.700080  39015.028588"
            ],
            "text/html": [
              "\n",
              "  <div id=\"df-7981abde-acf3-474a-8c80-4b8c81a41ab9\">\n",
              "    <div class=\"colab-df-container\">\n",
              "      <div>\n",
              "<style scoped>\n",
              "    .dataframe tbody tr th:only-of-type {\n",
              "        vertical-align: middle;\n",
              "    }\n",
              "\n",
              "    .dataframe tbody tr th {\n",
              "        vertical-align: top;\n",
              "    }\n",
              "\n",
              "    .dataframe thead th {\n",
              "        text-align: right;\n",
              "    }\n",
              "</style>\n",
              "<table border=\"1\" class=\"dataframe\">\n",
              "  <thead>\n",
              "    <tr style=\"text-align: right;\">\n",
              "      <th></th>\n",
              "      <th>x</th>\n",
              "      <th>y</th>\n",
              "      <th>z</th>\n",
              "    </tr>\n",
              "  </thead>\n",
              "  <tbody>\n",
              "    <tr>\n",
              "      <th>count</th>\n",
              "      <td>1000.000000</td>\n",
              "      <td>1000.000000</td>\n",
              "      <td>1000.000000</td>\n",
              "    </tr>\n",
              "    <tr>\n",
              "      <th>mean</th>\n",
              "      <td>35.015064</td>\n",
              "      <td>99.512593</td>\n",
              "      <td>25255.465459</td>\n",
              "    </tr>\n",
              "    <tr>\n",
              "      <th>std</th>\n",
              "      <td>6.172713</td>\n",
              "      <td>20.927653</td>\n",
              "      <td>6184.252348</td>\n",
              "    </tr>\n",
              "    <tr>\n",
              "      <th>min</th>\n",
              "      <td>20.997994</td>\n",
              "      <td>53.404307</td>\n",
              "      <td>10489.874931</td>\n",
              "    </tr>\n",
              "    <tr>\n",
              "      <th>25%</th>\n",
              "      <td>30.409779</td>\n",
              "      <td>84.749572</td>\n",
              "      <td>20591.390779</td>\n",
              "    </tr>\n",
              "    <tr>\n",
              "      <th>50%</th>\n",
              "      <td>34.938541</td>\n",
              "      <td>99.282742</td>\n",
              "      <td>25255.308914</td>\n",
              "    </tr>\n",
              "    <tr>\n",
              "      <th>75%</th>\n",
              "      <td>39.423228</td>\n",
              "      <td>114.127176</td>\n",
              "      <td>29950.517058</td>\n",
              "    </tr>\n",
              "    <tr>\n",
              "      <th>max</th>\n",
              "      <td>49.192267</td>\n",
              "      <td>147.700080</td>\n",
              "      <td>39015.028588</td>\n",
              "    </tr>\n",
              "  </tbody>\n",
              "</table>\n",
              "</div>\n",
              "      <button class=\"colab-df-convert\" onclick=\"convertToInteractive('df-7981abde-acf3-474a-8c80-4b8c81a41ab9')\"\n",
              "              title=\"Convert this dataframe to an interactive table.\"\n",
              "              style=\"display:none;\">\n",
              "        \n",
              "  <svg xmlns=\"http://www.w3.org/2000/svg\" height=\"24px\"viewBox=\"0 0 24 24\"\n",
              "       width=\"24px\">\n",
              "    <path d=\"M0 0h24v24H0V0z\" fill=\"none\"/>\n",
              "    <path d=\"M18.56 5.44l.94 2.06.94-2.06 2.06-.94-2.06-.94-.94-2.06-.94 2.06-2.06.94zm-11 1L8.5 8.5l.94-2.06 2.06-.94-2.06-.94L8.5 2.5l-.94 2.06-2.06.94zm10 10l.94 2.06.94-2.06 2.06-.94-2.06-.94-.94-2.06-.94 2.06-2.06.94z\"/><path d=\"M17.41 7.96l-1.37-1.37c-.4-.4-.92-.59-1.43-.59-.52 0-1.04.2-1.43.59L10.3 9.45l-7.72 7.72c-.78.78-.78 2.05 0 2.83L4 21.41c.39.39.9.59 1.41.59.51 0 1.02-.2 1.41-.59l7.78-7.78 2.81-2.81c.8-.78.8-2.07 0-2.86zM5.41 20L4 18.59l7.72-7.72 1.47 1.35L5.41 20z\"/>\n",
              "  </svg>\n",
              "      </button>\n",
              "      \n",
              "  <style>\n",
              "    .colab-df-container {\n",
              "      display:flex;\n",
              "      flex-wrap:wrap;\n",
              "      gap: 12px;\n",
              "    }\n",
              "\n",
              "    .colab-df-convert {\n",
              "      background-color: #E8F0FE;\n",
              "      border: none;\n",
              "      border-radius: 50%;\n",
              "      cursor: pointer;\n",
              "      display: none;\n",
              "      fill: #1967D2;\n",
              "      height: 32px;\n",
              "      padding: 0 0 0 0;\n",
              "      width: 32px;\n",
              "    }\n",
              "\n",
              "    .colab-df-convert:hover {\n",
              "      background-color: #E2EBFA;\n",
              "      box-shadow: 0px 1px 2px rgba(60, 64, 67, 0.3), 0px 1px 3px 1px rgba(60, 64, 67, 0.15);\n",
              "      fill: #174EA6;\n",
              "    }\n",
              "\n",
              "    [theme=dark] .colab-df-convert {\n",
              "      background-color: #3B4455;\n",
              "      fill: #D2E3FC;\n",
              "    }\n",
              "\n",
              "    [theme=dark] .colab-df-convert:hover {\n",
              "      background-color: #434B5C;\n",
              "      box-shadow: 0px 1px 3px 1px rgba(0, 0, 0, 0.15);\n",
              "      filter: drop-shadow(0px 1px 2px rgba(0, 0, 0, 0.3));\n",
              "      fill: #FFFFFF;\n",
              "    }\n",
              "  </style>\n",
              "\n",
              "      <script>\n",
              "        const buttonEl =\n",
              "          document.querySelector('#df-7981abde-acf3-474a-8c80-4b8c81a41ab9 button.colab-df-convert');\n",
              "        buttonEl.style.display =\n",
              "          google.colab.kernel.accessAllowed ? 'block' : 'none';\n",
              "\n",
              "        async function convertToInteractive(key) {\n",
              "          const element = document.querySelector('#df-7981abde-acf3-474a-8c80-4b8c81a41ab9');\n",
              "          const dataTable =\n",
              "            await google.colab.kernel.invokeFunction('convertToInteractive',\n",
              "                                                     [key], {});\n",
              "          if (!dataTable) return;\n",
              "\n",
              "          const docLinkHtml = 'Like what you see? Visit the ' +\n",
              "            '<a target=\"_blank\" href=https://colab.research.google.com/notebooks/data_table.ipynb>data table notebook</a>'\n",
              "            + ' to learn more about interactive tables.';\n",
              "          element.innerHTML = '';\n",
              "          dataTable['output_type'] = 'display_data';\n",
              "          await google.colab.output.renderOutput(dataTable, element);\n",
              "          const docLink = document.createElement('div');\n",
              "          docLink.innerHTML = docLinkHtml;\n",
              "          element.appendChild(docLink);\n",
              "        }\n",
              "      </script>\n",
              "    </div>\n",
              "  </div>\n",
              "  "
            ]
          },
          "metadata": {},
          "execution_count": 7
        }
      ]
    },
    {
      "cell_type": "markdown",
      "source": [
        "### 3. Usando la distribución normal calcula las siguientes probabilidades\n",
        "- calcula (usando la distribución normal) la probabilidad que el valor **\"y\"** esté entre 55 y 70\n",
        "- calcula (usando la distribución normal) la probabilidad que el valor **\"z\"** esté entre 20000 y 30000"
      ],
      "metadata": {
        "id": "ObkXhgsbWZVa"
      }
    },
    {
      "cell_type": "code",
      "source": [
        "def is_column_name(data_frame, column_name):\n",
        "  if column_name is None:\n",
        "    return data_frame\n",
        "  else:\n",
        "    return data_frame[column_name]\n",
        "\n",
        "def normalization(mu, sigma, value):\n",
        "  return (value - mu) / sigma\n",
        "\n",
        "def calculate_probability(data_frame, point_a, point_b, column_name = None):\n",
        "  \n",
        "  data = is_column_name(data_frame, column_name)\n",
        "\n",
        "  # Media\n",
        "  mu = data.mean()\n",
        "  # Desviación tipica\n",
        "  sigma = data.std()\n",
        "\n",
        "  a = normalization(mu, sigma, point_a)\n",
        "  b = normalization(mu, sigma, point_b)\n",
        "\n",
        "  return st.norm.cdf(b) - st.norm.cdf(a)"
      ],
      "metadata": {
        "id": "RTChHSobWlSY"
      },
      "execution_count": 8,
      "outputs": []
    },
    {
      "cell_type": "code",
      "source": [
        "calculate_probability(data_frame, 55, 70, 'y')"
      ],
      "metadata": {
        "colab": {
          "base_uri": "https://localhost:8080/"
        },
        "id": "GeFXhr0DoEay",
        "outputId": "f2b6eb13-7d86-43e7-9ace-bc8394974ba7"
      },
      "execution_count": 9,
      "outputs": [
        {
          "output_type": "execute_result",
          "data": {
            "text/plain": [
              "0.06252629607305268"
            ]
          },
          "metadata": {},
          "execution_count": 9
        }
      ]
    },
    {
      "cell_type": "code",
      "source": [
        "calculate_probability(data_frame, 20000, 30000, 'z')"
      ],
      "metadata": {
        "colab": {
          "base_uri": "https://localhost:8080/"
        },
        "id": "rZlTRqw0afj7",
        "outputId": "fdbc5bae-5295-4f3c-87ae-1b7c85f7f79d"
      },
      "execution_count": 10,
      "outputs": [
        {
          "output_type": "execute_result",
          "data": {
            "text/plain": [
              "0.5808033497902874"
            ]
          },
          "metadata": {},
          "execution_count": 10
        }
      ]
    },
    {
      "cell_type": "markdown",
      "source": [
        "### 4. Realiza dos funciones que reciban un dataframe y un nombre de columna y devuelva una tupla con los valores (XL, XN) correspondiente al intervalo al cual si no pertenece un valor puede ser considerado como outlier.\n",
        "- Realiza el método 1 (el que se basa en la distribución normal).\n",
        "  - Esta función además deberá recibir el porcentaje para que un elemento se quede en la banda.\n",
        "- Realiza la función usando el método basado en cuantilies.\n",
        "  - Esta función además deberá recibir otro parámetro (k) que indica si queremos detectar outliers débiles(1.5) o no (k=3).\n"
      ],
      "metadata": {
        "id": "WUj4eqZTbCrt"
      }
    },
    {
      "cell_type": "code",
      "source": [
        "def outlier_normal_dist(data_frame, column_name = None, p_g = 0.95):\n",
        "  \n",
        "  data = is_column_name(data_frame, column_name)\n",
        "\n",
        "  alfa_g = (1 - p_g) / 2\n",
        "  alfa = 1 - ((1 - alfa_g) ** (1 / len(data) ) )\n",
        "  k = st.norm.ppf(1 - alfa / 2)\n",
        "\n",
        "  std = np.std(data)\n",
        "  mean = np.mean(data)\n",
        "\n",
        "  xL = round(mean - k * std, 4)\n",
        "  xU = round(mean + k * std, 4)\n",
        "  return (xL, xU)\n",
        "\n",
        "def outlier_quantiles(data_frame, column_name = None, weak = True):\n",
        "  \n",
        "  data = is_column_name(data_frame, column_name)\n",
        "  \n",
        "  if weak:\n",
        "    k = 1.5\n",
        "  else:\n",
        "    k = 3\n",
        "\n",
        "  Q1 = np.quantile(data, 0.25)\n",
        "  Q3 = np.quantile(data, 0.75)\n",
        "  IQR = Q3 - Q1\n",
        "\n",
        "  xL = Q1 - k * IQR\n",
        "  xU = Q3 + k * IQR\n",
        "  return (xL, xU)"
      ],
      "metadata": {
        "id": "_w46M7edbb1X"
      },
      "execution_count": 11,
      "outputs": []
    },
    {
      "cell_type": "code",
      "source": [
        "outlier_x_n = outlier_normal_dist(data_frame, 'x')\n",
        "outlier_y_n = outlier_normal_dist(data_frame, 'y')\n",
        "outlier_z_n = outlier_normal_dist(data_frame, 'z')\n",
        "print(outlier_x_n, outlier_y_n, outlier_z_n)"
      ],
      "metadata": {
        "colab": {
          "base_uri": "https://localhost:8080/"
        },
        "id": "aXT7K40z9Dmb",
        "outputId": "53ed3087-0284-4390-cdf5-cdfb9f938ebb"
      },
      "execution_count": 12,
      "outputs": [
        {
          "output_type": "stream",
          "name": "stdout",
          "text": [
            "(9.0289, 61.0012) (11.4104, 187.6148) (-779.273, 51290.204)\n"
          ]
        }
      ]
    },
    {
      "cell_type": "code",
      "source": [
        "outlier_x_q = outlier_quantiles(data_frame, 'x')\n",
        "outlier_y_q = outlier_quantiles(data_frame, 'y')\n",
        "outlier_z_q = outlier_quantiles(data_frame, 'z')\n",
        "print(outlier_x_q, outlier_y_q, outlier_z_q)"
      ],
      "metadata": {
        "colab": {
          "base_uri": "https://localhost:8080/"
        },
        "id": "14stHGtJ9i2w",
        "outputId": "65d4c468-3595-4ae0-8f6d-29c0e413d0c7"
      },
      "execution_count": 13,
      "outputs": [
        {
          "output_type": "stream",
          "name": "stdout",
          "text": [
            "(16.889604821800482, 52.94340188706813) (40.68316415278411, 158.1935838019843) (6552.701359764511, 43989.20647744354)\n"
          ]
        }
      ]
    },
    {
      "cell_type": "markdown",
      "source": [
        "### 5. Introduce deliberadamente dos valores fuera de los rangos en alguno de los atributos (x, y, z) y, usando el método jackknife detecte las observaciones influyentes para la media. Haz lo mismo para la mediana. Comenta los resultados obtenidos"
      ],
      "metadata": {
        "id": "DzD3nBNAsFYS"
      }
    },
    {
      "cell_type": "code",
      "source": [
        "def print_mean_median(data_frame, column_name = None):\n",
        "  \n",
        "  data = is_column_name(data_frame, column_name)\n",
        "\n",
        "  print(f'Media: {np.mean(data)}, Mediana: {np.median(data)}')\n",
        "\n",
        "def means_array(data_frame, column_name = None):\n",
        "  \n",
        "  data = is_column_name(data_frame, column_name)\n",
        "\n",
        "  means = np.zeros(len(data))\n",
        "\n",
        "  for i in range(len(data)):\n",
        "    data_not_i = np.delete(np.asarray(data), i)\n",
        "    means[i] = np.mean(data_not_i)\n",
        "  \n",
        "  return means\n",
        "\n",
        "def medians_array(data_frame, column_name = None):\n",
        "  \n",
        "  data = is_column_name(data_frame, column_name)\n",
        "\n",
        "  medians = np.zeros(len(data))\n",
        "  \n",
        "  for i in range(len(data)):\n",
        "    data_not_i = np.delete(np.asarray(data), i)\n",
        "    medians[i] = np.median(data_not_i)\n",
        "  \n",
        "  return medians"
      ],
      "metadata": {
        "id": "uztKdKZt0bPC"
      },
      "execution_count": 14,
      "outputs": []
    },
    {
      "cell_type": "code",
      "source": [
        "data_frame['y'][50] = -25\n",
        "data_frame['y'][70] = 500\n",
        "\n",
        "print_mean_median(data_frame, 'y')\n"
      ],
      "metadata": {
        "id": "mEld-rEYsMg1",
        "colab": {
          "base_uri": "https://localhost:8080/"
        },
        "outputId": "cbe704b2-b30a-4731-ef7c-1d0252c3c41c"
      },
      "execution_count": 15,
      "outputs": [
        {
          "output_type": "stream",
          "name": "stdout",
          "text": [
            "Media: 99.76976348246735, Mediana: 99.26336207160696\n"
          ]
        }
      ]
    },
    {
      "cell_type": "code",
      "source": [
        "means = means_array(data_frame, 'y')\n",
        "means"
      ],
      "metadata": {
        "id": "aOWiFhc_AfU7",
        "colab": {
          "base_uri": "https://localhost:8080/"
        },
        "outputId": "c6536249-8123-4faf-b923-b2d8054d8ae3"
      },
      "execution_count": 16,
      "outputs": [
        {
          "output_type": "execute_result",
          "data": {
            "text/plain": [
              "array([99.77709804, 99.77363109, 99.76367801, 99.79134139, 99.79265966,\n",
              "       99.79240324, 99.77243095, 99.76332989, 99.72178519, 99.77358573,\n",
              "       99.72611695, 99.76148722, 99.74409692, 99.76968974, 99.73198638,\n",
              "       99.81006473, 99.74819375, 99.74725984, 99.77414107, 99.80328001,\n",
              "       99.7442628 , 99.77723711, 99.7566218 , 99.77173225, 99.73836636,\n",
              "       99.77024318, 99.77470907, 99.77419188, 99.78515929, 99.77769064,\n",
              "       99.73087166, 99.78963589, 99.79291106, 99.75860933, 99.75391217,\n",
              "       99.79021862, 99.76810284, 99.7751172 , 99.795747  , 99.75984327,\n",
              "       99.77728774, 99.72258827, 99.78599087, 99.78040762, 99.77028198,\n",
              "       99.75722078, 99.79067694, 99.77724488, 99.79507485, 99.74853426,\n",
              "       99.89465814, 99.76536176, 99.80803746, 99.81582209, 99.8038237 ,\n",
              "       99.76748096, 99.73561965, 99.77913145, 99.77556185, 99.74371764,\n",
              "       99.79922562, 99.81058862, 99.76252241, 99.72898517, 99.74311268,\n",
              "       99.77197731, 99.74456634, 99.77269693, 99.78300034, 99.76833525,\n",
              "       99.36913262, 99.72287867, 99.79664651, 99.75223673, 99.76984245,\n",
              "       99.77569687, 99.77544847, 99.76699779, 99.80232396, 99.7810313 ,\n",
              "       99.74492853, 99.76067197, 99.77144834, 99.79396861, 99.74656963,\n",
              "       99.78033239, 99.7754477 , 99.77817135, 99.76456755, 99.74606882,\n",
              "       99.77165169, 99.79187034, 99.73451968, 99.76044428, 99.76223312,\n",
              "       99.76014247, 99.79680879, 99.75688048, 99.7562762 , 99.80124282,\n",
              "       99.78400996, 99.79536797, 99.78199962, 99.78533834, 99.76010136,\n",
              "       99.75286728, 99.76858649, 99.77992601, 99.73967946, 99.78172368,\n",
              "       99.74935606, 99.78637444, 99.72419051, 99.77768706, 99.76244401,\n",
              "       99.76368528, 99.72941828, 99.79008886, 99.75299223, 99.77344085,\n",
              "       99.79726209, 99.79315085, 99.75545878, 99.7536083 , 99.77721744,\n",
              "       99.77537199, 99.77516225, 99.7577304 , 99.79765148, 99.74022462,\n",
              "       99.80089033, 99.75300849, 99.80993201, 99.7484046 , 99.78443943,\n",
              "       99.76007257, 99.80100473, 99.77777531, 99.74683175, 99.76688425,\n",
              "       99.78774078, 99.76979813, 99.77166924, 99.8011823 , 99.74132438,\n",
              "       99.77142023, 99.73818551, 99.76616138, 99.75070374, 99.74990655,\n",
              "       99.78324951, 99.79754627, 99.79430264, 99.74816258, 99.76810162,\n",
              "       99.80789863, 99.791873  , 99.75641357, 99.76451212, 99.78026078,\n",
              "       99.76011184, 99.8074176 , 99.76846937, 99.72501941, 99.75682624,\n",
              "       99.77032672, 99.7395972 , 99.72892313, 99.79863605, 99.78310752,\n",
              "       99.78070745, 99.77854032, 99.7820013 , 99.74973811, 99.74796137,\n",
              "       99.80523614, 99.7602204 , 99.80564133, 99.74228209, 99.78348545,\n",
              "       99.7720973 , 99.77258415, 99.76514764, 99.74425319, 99.77363931,\n",
              "       99.76872972, 99.73392645, 99.76439207, 99.79825922, 99.76771589,\n",
              "       99.77306961, 99.76811701, 99.77327881, 99.79928133, 99.80850045,\n",
              "       99.7952522 , 99.80873845, 99.75669548, 99.80642691, 99.72232461,\n",
              "       99.76403994, 99.78608561, 99.81583046, 99.80320714, 99.80154221,\n",
              "       99.80575317, 99.73461059, 99.79110557, 99.76758608, 99.75986453,\n",
              "       99.7750589 , 99.79337729, 99.80023765, 99.78085616, 99.74143685,\n",
              "       99.77183328, 99.76925325, 99.79569791, 99.75430159, 99.77520574,\n",
              "       99.78117869, 99.75674407, 99.73660307, 99.7463545 , 99.7405761 ,\n",
              "       99.75524677, 99.75083093, 99.76802216, 99.75940015, 99.74289406,\n",
              "       99.74166957, 99.74656791, 99.78971155, 99.79207392, 99.76711582,\n",
              "       99.8038115 , 99.78672485, 99.73384226, 99.79639709, 99.75373609,\n",
              "       99.76800003, 99.774685  , 99.77276303, 99.73584368, 99.77558176,\n",
              "       99.79849107, 99.75667912, 99.76537045, 99.76055724, 99.80025128,\n",
              "       99.7585529 , 99.72196842, 99.75018579, 99.76775174, 99.74122774,\n",
              "       99.74881498, 99.81093222, 99.76321012, 99.76716743, 99.77057123,\n",
              "       99.79434374, 99.74216859, 99.80514599, 99.74516445, 99.81384316,\n",
              "       99.7786191 , 99.81606449, 99.79668344, 99.7628371 , 99.74250312,\n",
              "       99.76593057, 99.761807  , 99.7299956 , 99.77192825, 99.75705909,\n",
              "       99.74743846, 99.78223929, 99.77047757, 99.7440825 , 99.78075409,\n",
              "       99.77795523, 99.77108616, 99.76610585, 99.74676786, 99.77998056,\n",
              "       99.78236229, 99.74021925, 99.77325753, 99.75714963, 99.73926089,\n",
              "       99.7958458 , 99.79227495, 99.76629198, 99.77187268, 99.81245102,\n",
              "       99.76253591, 99.77751076, 99.79599983, 99.75884429, 99.75173258,\n",
              "       99.7706312 , 99.77366187, 99.74825415, 99.76018648, 99.76717087,\n",
              "       99.7400385 , 99.75493004, 99.77040495, 99.73035838, 99.78331815,\n",
              "       99.79754415, 99.77287764, 99.79258793, 99.78486509, 99.77456747,\n",
              "       99.77222098, 99.76853066, 99.76540861, 99.76976081, 99.77236833,\n",
              "       99.7417003 , 99.76389481, 99.79554134, 99.77626082, 99.76889954,\n",
              "       99.75096729, 99.79046149, 99.76958046, 99.76575769, 99.75061877,\n",
              "       99.80628189, 99.75530887, 99.76913999, 99.78808187, 99.80346315,\n",
              "       99.7558974 , 99.77485347, 99.74036498, 99.77306697, 99.77892198,\n",
              "       99.74962158, 99.75896917, 99.75541931, 99.78611734, 99.76742385,\n",
              "       99.76783107, 99.76475703, 99.76305644, 99.74140047, 99.75717843,\n",
              "       99.78960065, 99.76337637, 99.80411178, 99.76827509, 99.78708236,\n",
              "       99.74879591, 99.73531423, 99.73922802, 99.79867744, 99.76069546,\n",
              "       99.76004033, 99.80733844, 99.7954124 , 99.74545862, 99.7549876 ,\n",
              "       99.76052409, 99.76522785, 99.75724488, 99.7962191 , 99.8022292 ,\n",
              "       99.7943494 , 99.762896  , 99.76840335, 99.79290082, 99.74249856,\n",
              "       99.72959826, 99.77831545, 99.78533139, 99.79188812, 99.78404484,\n",
              "       99.76621733, 99.76053809, 99.80037651, 99.77640795, 99.76713811,\n",
              "       99.77505403, 99.79476952, 99.73055752, 99.80559379, 99.75653222,\n",
              "       99.75809493, 99.77429306, 99.76822635, 99.7737361 , 99.74542585,\n",
              "       99.81120979, 99.78767229, 99.77364278, 99.76778743, 99.7291251 ,\n",
              "       99.74995277, 99.76254926, 99.78472571, 99.75212384, 99.78071942,\n",
              "       99.77413055, 99.79219083, 99.76224554, 99.73031568, 99.80986517,\n",
              "       99.76437929, 99.79001665, 99.75372757, 99.77568431, 99.7703374 ,\n",
              "       99.78087184, 99.76700447, 99.75982101, 99.77754422, 99.74038427,\n",
              "       99.77262012, 99.74601289, 99.72540878, 99.76460665, 99.78891508,\n",
              "       99.76334979, 99.81150669, 99.80262473, 99.73568862, 99.75037453,\n",
              "       99.74947331, 99.74931192, 99.7422556 , 99.77508643, 99.80018981,\n",
              "       99.7886483 , 99.80214533, 99.77883876, 99.75562552, 99.76904222,\n",
              "       99.74973964, 99.73593814, 99.77750298, 99.77937984, 99.76141061,\n",
              "       99.76480812, 99.79461947, 99.7622023 , 99.78094584, 99.7736439 ,\n",
              "       99.77432532, 99.76998061, 99.74959504, 99.78592447, 99.73975862,\n",
              "       99.79079323, 99.77216133, 99.75637279, 99.77815461, 99.79080694,\n",
              "       99.80884401, 99.76926652, 99.75264936, 99.78269907, 99.72647261,\n",
              "       99.80374546, 99.78664159, 99.80512963, 99.79670204, 99.73030101,\n",
              "       99.78969338, 99.7458632 , 99.80417702, 99.75674046, 99.75255921,\n",
              "       99.76158707, 99.77665714, 99.74890857, 99.77800054, 99.73913837,\n",
              "       99.77598467, 99.79174555, 99.80669674, 99.74977513, 99.77711865,\n",
              "       99.73888458, 99.73507962, 99.77825469, 99.7775605 , 99.74984413,\n",
              "       99.75915594, 99.77183075, 99.76754786, 99.78783577, 99.7551096 ,\n",
              "       99.76517621, 99.77327166, 99.77045984, 99.79117587, 99.78025803,\n",
              "       99.77393777, 99.75860169, 99.76889378, 99.75299697, 99.75750278,\n",
              "       99.75731278, 99.75975189, 99.79560975, 99.78478541, 99.74516867,\n",
              "       99.75260818, 99.77749623, 99.75296964, 99.77650554, 99.80606484,\n",
              "       99.7545876 , 99.77225233, 99.77112866, 99.7752624 , 99.77399747,\n",
              "       99.74515136, 99.77785966, 99.78781645, 99.76245876, 99.79038217,\n",
              "       99.75700885, 99.74588453, 99.76462365, 99.77311832, 99.78350675,\n",
              "       99.77735863, 99.79126386, 99.77394574, 99.79249329, 99.77411413,\n",
              "       99.77404814, 99.76043392, 99.77286436, 99.7727323 , 99.77698874,\n",
              "       99.76886395, 99.74543864, 99.75671536, 99.74281504, 99.75690909,\n",
              "       99.7563451 , 99.73340288, 99.79432306, 99.78383946, 99.79587046,\n",
              "       99.7228305 , 99.76058541, 99.7916741 , 99.76217013, 99.76742548,\n",
              "       99.77067438, 99.77824217, 99.79092882, 99.75877787, 99.75784502,\n",
              "       99.79123047, 99.74001582, 99.77817608, 99.78419517, 99.8032258 ,\n",
              "       99.77521965, 99.7992492 , 99.772572  , 99.79113789, 99.76865455,\n",
              "       99.75513104, 99.80625083, 99.76720166, 99.79120014, 99.7797291 ,\n",
              "       99.81475528, 99.75890174, 99.77610729, 99.78483862, 99.73470609,\n",
              "       99.74299506, 99.79864023, 99.73912373, 99.80259177, 99.79272821,\n",
              "       99.73041856, 99.76254304, 99.72805038, 99.77870021, 99.7953623 ,\n",
              "       99.75807284, 99.74774272, 99.77593083, 99.7980032 , 99.777406  ,\n",
              "       99.7857802 , 99.77094785, 99.77935105, 99.77329526, 99.75601133,\n",
              "       99.80566272, 99.76872461, 99.78555268, 99.72917208, 99.79064299,\n",
              "       99.76376484, 99.7799468 , 99.77616691, 99.7633474 , 99.78162765,\n",
              "       99.77966932, 99.77238091, 99.79420154, 99.73904156, 99.77980212,\n",
              "       99.80061296, 99.75949377, 99.7736723 , 99.78086937, 99.77230232,\n",
              "       99.7325812 , 99.78465666, 99.78907116, 99.76925614, 99.75878392,\n",
              "       99.74378495, 99.72592988, 99.75636261, 99.7937206 , 99.74325654,\n",
              "       99.7993222 , 99.77045122, 99.7384354 , 99.76833669, 99.76032491,\n",
              "       99.76618474, 99.81312389, 99.75076694, 99.72923609, 99.76085326,\n",
              "       99.74954691, 99.79087493, 99.77861532, 99.76681614, 99.80687661,\n",
              "       99.77866758, 99.7821749 , 99.78237167, 99.74885517, 99.77895321,\n",
              "       99.77175434, 99.75795655, 99.73943683, 99.80979422, 99.76544124,\n",
              "       99.75430751, 99.78129078, 99.78380446, 99.7517966 , 99.77025881,\n",
              "       99.80051566, 99.77560448, 99.72664966, 99.77772956, 99.78581999,\n",
              "       99.76282695, 99.75830558, 99.77340151, 99.77128109, 99.75295878,\n",
              "       99.75649332, 99.79302358, 99.76682628, 99.75199809, 99.75190235,\n",
              "       99.76864729, 99.79234889, 99.7828716 , 99.75461951, 99.76799589,\n",
              "       99.77708174, 99.76470615, 99.76914387, 99.72849134, 99.79566278,\n",
              "       99.7797992 , 99.7687171 , 99.74813009, 99.7762338 , 99.79185075,\n",
              "       99.75063427, 99.75602165, 99.76935989, 99.79521646, 99.77045455,\n",
              "       99.8035476 , 99.77542813, 99.74877194, 99.78098405, 99.75398706,\n",
              "       99.76179768, 99.77218748, 99.793928  , 99.79768131, 99.72508901,\n",
              "       99.79027807, 99.80262076, 99.80589692, 99.73390881, 99.73828842,\n",
              "       99.78392769, 99.76790752, 99.79915569, 99.76734231, 99.74422432,\n",
              "       99.78416678, 99.78403193, 99.73321812, 99.80557295, 99.75948414,\n",
              "       99.77537278, 99.78668653, 99.77772812, 99.75345038, 99.73613249,\n",
              "       99.74076944, 99.74180114, 99.80973306, 99.79754202, 99.78555261,\n",
              "       99.78335395, 99.7551061 , 99.77535723, 99.75796226, 99.76414896,\n",
              "       99.80043684, 99.74936905, 99.76440333, 99.78986196, 99.74099259,\n",
              "       99.77142925, 99.76592612, 99.76315535, 99.75836577, 99.76995851,\n",
              "       99.72749125, 99.7358958 , 99.79650783, 99.8113439 , 99.7523462 ,\n",
              "       99.7876505 , 99.76942556, 99.76480354, 99.76134516, 99.77715831,\n",
              "       99.79151748, 99.75760026, 99.74275807, 99.75210211, 99.75083993,\n",
              "       99.76788752, 99.78705106, 99.80726149, 99.74359367, 99.768744  ,\n",
              "       99.7562871 , 99.76425431, 99.73305755, 99.78381448, 99.77453886,\n",
              "       99.78774481, 99.79188796, 99.74729107, 99.73856783, 99.77499972,\n",
              "       99.75002588, 99.74153681, 99.78424528, 99.7738897 , 99.74982469,\n",
              "       99.79722482, 99.78935826, 99.75523159, 99.73806709, 99.80203545,\n",
              "       99.78606549, 99.74351976, 99.76743161, 99.72439269, 99.76700791,\n",
              "       99.76384675, 99.81152308, 99.77587334, 99.7623943 , 99.76105669,\n",
              "       99.76643887, 99.76807616, 99.74012271, 99.7650777 , 99.75132028,\n",
              "       99.78152767, 99.75432186, 99.77426994, 99.78253153, 99.76997554,\n",
              "       99.77469266, 99.78947912, 99.74097651, 99.79482713, 99.79846223,\n",
              "       99.79206095, 99.79069835, 99.78498608, 99.77278041, 99.79954367,\n",
              "       99.76062477, 99.75046861, 99.75101203, 99.77079332, 99.77883069,\n",
              "       99.75893689, 99.76122224, 99.77594791, 99.77790844, 99.79410182,\n",
              "       99.74001228, 99.7742029 , 99.78324254, 99.79098921, 99.81019703,\n",
              "       99.77305291, 99.7708903 , 99.80904251, 99.74816187, 99.7774483 ,\n",
              "       99.77989324, 99.79076428, 99.78602966, 99.76826055, 99.72865332,\n",
              "       99.76798159, 99.73869004, 99.76189153, 99.78339434, 99.72973369,\n",
              "       99.76285164, 99.75429569, 99.74496142, 99.7498256 , 99.79212403,\n",
              "       99.75864584, 99.80552519, 99.74538886, 99.77524836, 99.74845632,\n",
              "       99.74891648, 99.77635643, 99.75300927, 99.7910046 , 99.81476431,\n",
              "       99.75947046, 99.81617535, 99.75291682, 99.76389234, 99.75551615,\n",
              "       99.81413492, 99.79787896, 99.75620752, 99.74142016, 99.74744525,\n",
              "       99.77165894, 99.80257338, 99.78631113, 99.75253851, 99.76152016,\n",
              "       99.80763519, 99.76549219, 99.7762549 , 99.75971547, 99.77971366,\n",
              "       99.74593471, 99.75254954, 99.75805905, 99.78198064, 99.7661773 ,\n",
              "       99.75186403, 99.74271465, 99.75558787, 99.77485777, 99.73603751,\n",
              "       99.76696247, 99.74864358, 99.78112873, 99.79907613, 99.81049191,\n",
              "       99.79392821, 99.79693609, 99.76995067, 99.73247184, 99.80217656,\n",
              "       99.74952907, 99.78089913, 99.74044142, 99.76572015, 99.72618241,\n",
              "       99.77420237, 99.75565596, 99.77176508, 99.76839841, 99.79054306,\n",
              "       99.75006825, 99.80636169, 99.76298676, 99.74604026, 99.74708549,\n",
              "       99.76881477, 99.76017311, 99.777438  , 99.77888716, 99.74489631,\n",
              "       99.79911237, 99.77039081, 99.77993173, 99.75026881, 99.76232008,\n",
              "       99.76936172, 99.76459102, 99.79207168, 99.76882502, 99.77274447,\n",
              "       99.74930943, 99.8103146 , 99.75453553, 99.80246286, 99.78220922,\n",
              "       99.75135211, 99.73773208, 99.78710618, 99.76078234, 99.7726649 ,\n",
              "       99.80527447, 99.81560209, 99.77494596, 99.73233482, 99.7409113 ,\n",
              "       99.78122392, 99.80054309, 99.79950095, 99.72614894, 99.8099023 ,\n",
              "       99.7888148 , 99.80163651, 99.74214389, 99.79681209, 99.78169198,\n",
              "       99.76630212, 99.79546688, 99.75675324, 99.78313282, 99.77528044,\n",
              "       99.76592903, 99.72793162, 99.77128612, 99.78399078, 99.77050456,\n",
              "       99.78726062, 99.76249792, 99.73514598, 99.76621871, 99.73797236,\n",
              "       99.78541733, 99.79251353, 99.76346685, 99.77132381, 99.76587947,\n",
              "       99.79192411, 99.7639263 , 99.77437032, 99.79386508, 99.75702069,\n",
              "       99.76555355, 99.75901871, 99.80182507, 99.8058189 , 99.7536527 ,\n",
              "       99.77181078, 99.75811272, 99.77415466, 99.74375541, 99.75610619,\n",
              "       99.77033724, 99.74851719, 99.79848351, 99.78538393, 99.76326621,\n",
              "       99.76932163, 99.74961203, 99.76073972, 99.79244428, 99.77949252])"
            ]
          },
          "metadata": {},
          "execution_count": 16
        }
      ]
    },
    {
      "cell_type": "code",
      "source": [
        "outliers_means = outlier_quantiles(means)\n",
        "outliers_means"
      ],
      "metadata": {
        "colab": {
          "base_uri": "https://localhost:8080/"
        },
        "id": "niWZYYTFvTB_",
        "outputId": "b2437752-3fd0-4de7-cb8d-424d90945768"
      },
      "execution_count": 17,
      "outputs": [
        {
          "output_type": "execute_result",
          "data": {
            "text/plain": [
              "(99.7112113869642, 99.82902554901052)"
            ]
          },
          "metadata": {},
          "execution_count": 17
        }
      ]
    },
    {
      "cell_type": "code",
      "source": [
        "for i in range(len(data_frame['y'])):\n",
        "  if means[i] < outliers_means[0] or means[i] > outliers_means[1]:\n",
        "    print(f\"La media[{i}] = {means[i]} es influyente\")"
      ],
      "metadata": {
        "colab": {
          "base_uri": "https://localhost:8080/"
        },
        "id": "clfzEq9MyHBe",
        "outputId": "ac4c20d0-3c95-4006-f54d-cfd41c8b18a7"
      },
      "execution_count": 18,
      "outputs": [
        {
          "output_type": "stream",
          "name": "stdout",
          "text": [
            "La media[50] = 99.89465814060797 es influyente\n",
            "La media[70] = 99.36913261508244 es influyente\n"
          ]
        }
      ]
    },
    {
      "cell_type": "code",
      "source": [
        "medians = medians_array(data_frame, 'y')\n",
        "medians"
      ],
      "metadata": {
        "id": "07juk4ThEdgr",
        "colab": {
          "base_uri": "https://localhost:8080/"
        },
        "outputId": "ce07a470-18e8-4511-d904-64b1de436c59"
      },
      "execution_count": 19,
      "outputs": [
        {
          "output_type": "execute_result",
          "data": {
            "text/plain": [
              "array([99.27493627, 99.27493627, 99.25178788, 99.27493627, 99.27493627,\n",
              "       99.27493627, 99.27493627, 99.25178788, 99.25178788, 99.27493627,\n",
              "       99.25178788, 99.25178788, 99.25178788, 99.25178788, 99.25178788,\n",
              "       99.27493627, 99.25178788, 99.25178788, 99.27493627, 99.27493627,\n",
              "       99.25178788, 99.27493627, 99.25178788, 99.27493627, 99.25178788,\n",
              "       99.25178788, 99.27493627, 99.27493627, 99.27493627, 99.27493627,\n",
              "       99.25178788, 99.27493627, 99.27493627, 99.25178788, 99.25178788,\n",
              "       99.27493627, 99.25178788, 99.27493627, 99.27493627, 99.25178788,\n",
              "       99.27493627, 99.25178788, 99.27493627, 99.27493627, 99.27493627,\n",
              "       99.25178788, 99.27493627, 99.27493627, 99.27493627, 99.25178788,\n",
              "       99.27493627, 99.25178788, 99.27493627, 99.27493627, 99.27493627,\n",
              "       99.25178788, 99.25178788, 99.27493627, 99.27493627, 99.25178788,\n",
              "       99.27493627, 99.27493627, 99.25178788, 99.25178788, 99.25178788,\n",
              "       99.27493627, 99.25178788, 99.27493627, 99.27493627, 99.25178788,\n",
              "       99.25178788, 99.25178788, 99.27493627, 99.25178788, 99.25178788,\n",
              "       99.27493627, 99.27493627, 99.25178788, 99.27493627, 99.27493627,\n",
              "       99.25178788, 99.25178788, 99.27493627, 99.27493627, 99.25178788,\n",
              "       99.27493627, 99.27493627, 99.27493627, 99.25178788, 99.25178788,\n",
              "       99.27493627, 99.27493627, 99.25178788, 99.25178788, 99.25178788,\n",
              "       99.25178788, 99.27493627, 99.25178788, 99.25178788, 99.27493627,\n",
              "       99.27493627, 99.27493627, 99.27493627, 99.27493627, 99.25178788,\n",
              "       99.25178788, 99.25178788, 99.27493627, 99.25178788, 99.27493627,\n",
              "       99.25178788, 99.27493627, 99.25178788, 99.27493627, 99.25178788,\n",
              "       99.25178788, 99.25178788, 99.27493627, 99.25178788, 99.27493627,\n",
              "       99.27493627, 99.27493627, 99.25178788, 99.25178788, 99.27493627,\n",
              "       99.27493627, 99.27493627, 99.25178788, 99.27493627, 99.25178788,\n",
              "       99.27493627, 99.25178788, 99.27493627, 99.25178788, 99.27493627,\n",
              "       99.25178788, 99.27493627, 99.27493627, 99.25178788, 99.25178788,\n",
              "       99.27493627, 99.25178788, 99.27493627, 99.27493627, 99.25178788,\n",
              "       99.27493627, 99.25178788, 99.25178788, 99.25178788, 99.25178788,\n",
              "       99.27493627, 99.27493627, 99.27493627, 99.25178788, 99.25178788,\n",
              "       99.27493627, 99.27493627, 99.25178788, 99.25178788, 99.27493627,\n",
              "       99.25178788, 99.27493627, 99.25178788, 99.25178788, 99.25178788,\n",
              "       99.27493627, 99.25178788, 99.25178788, 99.27493627, 99.27493627,\n",
              "       99.27493627, 99.27493627, 99.27493627, 99.25178788, 99.25178788,\n",
              "       99.27493627, 99.25178788, 99.27493627, 99.25178788, 99.27493627,\n",
              "       99.27493627, 99.27493627, 99.25178788, 99.25178788, 99.27493627,\n",
              "       99.25178788, 99.25178788, 99.25178788, 99.27493627, 99.25178788,\n",
              "       99.27493627, 99.25178788, 99.27493627, 99.27493627, 99.27493627,\n",
              "       99.27493627, 99.27493627, 99.25178788, 99.27493627, 99.25178788,\n",
              "       99.25178788, 99.27493627, 99.27493627, 99.27493627, 99.27493627,\n",
              "       99.27493627, 99.25178788, 99.27493627, 99.25178788, 99.25178788,\n",
              "       99.27493627, 99.27493627, 99.27493627, 99.27493627, 99.25178788,\n",
              "       99.27493627, 99.25178788, 99.27493627, 99.25178788, 99.27493627,\n",
              "       99.27493627, 99.25178788, 99.25178788, 99.25178788, 99.25178788,\n",
              "       99.25178788, 99.25178788, 99.25178788, 99.25178788, 99.25178788,\n",
              "       99.25178788, 99.25178788, 99.27493627, 99.27493627, 99.25178788,\n",
              "       99.27493627, 99.27493627, 99.25178788, 99.27493627, 99.25178788,\n",
              "       99.25178788, 99.27493627, 99.27493627, 99.25178788, 99.27493627,\n",
              "       99.27493627, 99.25178788, 99.25178788, 99.25178788, 99.27493627,\n",
              "       99.25178788, 99.25178788, 99.25178788, 99.25178788, 99.25178788,\n",
              "       99.25178788, 99.27493627, 99.25178788, 99.25178788, 99.27493627,\n",
              "       99.27493627, 99.25178788, 99.27493627, 99.25178788, 99.27493627,\n",
              "       99.27493627, 99.27493627, 99.27493627, 99.25178788, 99.25178788,\n",
              "       99.25178788, 99.25178788, 99.25178788, 99.27493627, 99.25178788,\n",
              "       99.25178788, 99.27493627, 99.27493627, 99.25178788, 99.27493627,\n",
              "       99.27493627, 99.27493627, 99.25178788, 99.25178788, 99.27493627,\n",
              "       99.27493627, 99.25178788, 99.27493627, 99.25178788, 99.25178788,\n",
              "       99.27493627, 99.27493627, 99.25178788, 99.27493627, 99.27493627,\n",
              "       99.25178788, 99.27493627, 99.27493627, 99.25178788, 99.25178788,\n",
              "       99.27493627, 99.27493627, 99.25178788, 99.25178788, 99.25178788,\n",
              "       99.25178788, 99.25178788, 99.27493627, 99.25178788, 99.27493627,\n",
              "       99.27493627, 99.27493627, 99.27493627, 99.27493627, 99.27493627,\n",
              "       99.27493627, 99.25178788, 99.25178788, 99.25178788, 99.27493627,\n",
              "       99.25178788, 99.25178788, 99.27493627, 99.27493627, 99.25178788,\n",
              "       99.25178788, 99.27493627, 99.25178788, 99.25178788, 99.25178788,\n",
              "       99.27493627, 99.25178788, 99.25178788, 99.27493627, 99.27493627,\n",
              "       99.25178788, 99.27493627, 99.25178788, 99.27493627, 99.27493627,\n",
              "       99.25178788, 99.25178788, 99.25178788, 99.27493627, 99.25178788,\n",
              "       99.25178788, 99.25178788, 99.25178788, 99.25178788, 99.25178788,\n",
              "       99.27493627, 99.25178788, 99.27493627, 99.25178788, 99.27493627,\n",
              "       99.25178788, 99.25178788, 99.25178788, 99.27493627, 99.25178788,\n",
              "       99.25178788, 99.27493627, 99.27493627, 99.25178788, 99.25178788,\n",
              "       99.25178788, 99.25178788, 99.25178788, 99.27493627, 99.27493627,\n",
              "       99.27493627, 99.25178788, 99.25178788, 99.27493627, 99.25178788,\n",
              "       99.25178788, 99.27493627, 99.27493627, 99.27493627, 99.27493627,\n",
              "       99.25178788, 99.25178788, 99.27493627, 99.27493627, 99.25178788,\n",
              "       99.27493627, 99.27493627, 99.25178788, 99.27493627, 99.25178788,\n",
              "       99.25178788, 99.27493627, 99.25178788, 99.27493627, 99.25178788,\n",
              "       99.27493627, 99.27493627, 99.27493627, 99.25178788, 99.25178788,\n",
              "       99.25178788, 99.25178788, 99.27493627, 99.25178788, 99.27493627,\n",
              "       99.27493627, 99.27493627, 99.25178788, 99.25178788, 99.27493627,\n",
              "       99.25178788, 99.27493627, 99.25178788, 99.27493627, 99.27493627,\n",
              "       99.27493627, 99.25178788, 99.25178788, 99.27493627, 99.25178788,\n",
              "       99.27493627, 99.25178788, 99.25178788, 99.25178788, 99.27493627,\n",
              "       99.25178788, 99.27493627, 99.27493627, 99.25178788, 99.25178788,\n",
              "       99.25178788, 99.25178788, 99.25178788, 99.27493627, 99.27493627,\n",
              "       99.27493627, 99.27493627, 99.27493627, 99.25178788, 99.25178788,\n",
              "       99.25178788, 99.25178788, 99.27493627, 99.27493627, 99.25178788,\n",
              "       99.25178788, 99.27493627, 99.25178788, 99.27493627, 99.27493627,\n",
              "       99.27493627, 99.25178788, 99.25178788, 99.27493627, 99.25178788,\n",
              "       99.27493627, 99.27493627, 99.25178788, 99.27493627, 99.27493627,\n",
              "       99.27493627, 99.25178788, 99.25178788, 99.27493627, 99.25178788,\n",
              "       99.27493627, 99.27493627, 99.27493627, 99.27493627, 99.25178788,\n",
              "       99.27493627, 99.25178788, 99.27493627, 99.25178788, 99.25178788,\n",
              "       99.25178788, 99.27493627, 99.25178788, 99.27493627, 99.25178788,\n",
              "       99.27493627, 99.27493627, 99.27493627, 99.25178788, 99.27493627,\n",
              "       99.25178788, 99.25178788, 99.27493627, 99.27493627, 99.25178788,\n",
              "       99.25178788, 99.27493627, 99.25178788, 99.27493627, 99.25178788,\n",
              "       99.25178788, 99.27493627, 99.27493627, 99.27493627, 99.27493627,\n",
              "       99.27493627, 99.25178788, 99.25178788, 99.25178788, 99.25178788,\n",
              "       99.25178788, 99.25178788, 99.27493627, 99.27493627, 99.25178788,\n",
              "       99.25178788, 99.27493627, 99.25178788, 99.27493627, 99.27493627,\n",
              "       99.25178788, 99.27493627, 99.27493627, 99.27493627, 99.27493627,\n",
              "       99.25178788, 99.27493627, 99.27493627, 99.25178788, 99.27493627,\n",
              "       99.25178788, 99.25178788, 99.25178788, 99.27493627, 99.27493627,\n",
              "       99.27493627, 99.27493627, 99.27493627, 99.27493627, 99.27493627,\n",
              "       99.27493627, 99.25178788, 99.27493627, 99.27493627, 99.27493627,\n",
              "       99.25178788, 99.25178788, 99.25178788, 99.25178788, 99.25178788,\n",
              "       99.25178788, 99.25178788, 99.27493627, 99.27493627, 99.27493627,\n",
              "       99.25178788, 99.25178788, 99.27493627, 99.25178788, 99.25178788,\n",
              "       99.27493627, 99.27493627, 99.27493627, 99.25178788, 99.25178788,\n",
              "       99.27493627, 99.25178788, 99.27493627, 99.27493627, 99.27493627,\n",
              "       99.27493627, 99.27493627, 99.27493627, 99.27493627, 99.25178788,\n",
              "       99.25178788, 99.27493627, 99.25178788, 99.27493627, 99.27493627,\n",
              "       99.27493627, 99.25178788, 99.27493627, 99.27493627, 99.25178788,\n",
              "       99.25178788, 99.27493627, 99.25178788, 99.27493627, 99.27493627,\n",
              "       99.25178788, 99.25178788, 99.25178788, 99.27493627, 99.27493627,\n",
              "       99.25178788, 99.25178788, 99.27493627, 99.27493627, 99.27493627,\n",
              "       99.27493627, 99.27493627, 99.27493627, 99.27493627, 99.25178788,\n",
              "       99.27493627, 99.25178788, 99.27493627, 99.25178788, 99.27493627,\n",
              "       99.25178788, 99.27493627, 99.27493627, 99.25178788, 99.27493627,\n",
              "       99.27493627, 99.27493627, 99.27493627, 99.25178788, 99.27493627,\n",
              "       99.27493627, 99.25178788, 99.27493627, 99.27493627, 99.27493627,\n",
              "       99.25178788, 99.27493627, 99.27493627, 99.25178788, 99.25178788,\n",
              "       99.25178788, 99.25178788, 99.25178788, 99.27493627, 99.25178788,\n",
              "       99.27493627, 99.27493627, 99.25178788, 99.25178788, 99.25178788,\n",
              "       99.25178788, 99.27493627, 99.25178788, 99.25178788, 99.25178788,\n",
              "       99.25178788, 99.27493627, 99.27493627, 99.25178788, 99.27493627,\n",
              "       99.27493627, 99.27493627, 99.27493627, 99.25178788, 99.27493627,\n",
              "       99.27493627, 99.25178788, 99.25178788, 99.27493627, 99.25178788,\n",
              "       99.25178788, 99.27493627, 99.27493627, 99.25178788, 99.25178788,\n",
              "       99.27493627, 99.27493627, 99.25178788, 99.27493627, 99.27493627,\n",
              "       99.25178788, 99.25178788, 99.27493627, 99.27493627, 99.25178788,\n",
              "       99.25178788, 99.27493627, 99.25178788, 99.25178788, 99.25178788,\n",
              "       99.25178788, 99.27493627, 99.27493627, 99.25178788, 99.25178788,\n",
              "       99.27493627, 99.25178788, 99.25178788, 99.25178788, 99.27493627,\n",
              "       99.27493627, 99.25178788, 99.25178788, 99.27493627, 99.27493627,\n",
              "       99.25178788, 99.25178788, 99.25178788, 99.27493627, 99.27493627,\n",
              "       99.27493627, 99.27493627, 99.25178788, 99.27493627, 99.25178788,\n",
              "       99.25178788, 99.27493627, 99.27493627, 99.27493627, 99.25178788,\n",
              "       99.27493627, 99.27493627, 99.27493627, 99.25178788, 99.25178788,\n",
              "       99.27493627, 99.25178788, 99.27493627, 99.25178788, 99.25178788,\n",
              "       99.27493627, 99.27493627, 99.25178788, 99.27493627, 99.25178788,\n",
              "       99.27493627, 99.27493627, 99.27493627, 99.25178788, 99.25178788,\n",
              "       99.25178788, 99.25178788, 99.27493627, 99.27493627, 99.27493627,\n",
              "       99.27493627, 99.25178788, 99.27493627, 99.25178788, 99.25178788,\n",
              "       99.27493627, 99.25178788, 99.25178788, 99.27493627, 99.25178788,\n",
              "       99.27493627, 99.25178788, 99.25178788, 99.25178788, 99.25178788,\n",
              "       99.25178788, 99.25178788, 99.27493627, 99.27493627, 99.25178788,\n",
              "       99.27493627, 99.25178788, 99.25178788, 99.25178788, 99.27493627,\n",
              "       99.27493627, 99.25178788, 99.25178788, 99.25178788, 99.25178788,\n",
              "       99.25178788, 99.27493627, 99.27493627, 99.25178788, 99.25178788,\n",
              "       99.25178788, 99.25178788, 99.25178788, 99.27493627, 99.27493627,\n",
              "       99.27493627, 99.27493627, 99.25178788, 99.25178788, 99.27493627,\n",
              "       99.25178788, 99.25178788, 99.27493627, 99.27493627, 99.25178788,\n",
              "       99.27493627, 99.27493627, 99.25178788, 99.25178788, 99.27493627,\n",
              "       99.27493627, 99.25178788, 99.25178788, 99.25178788, 99.25178788,\n",
              "       99.25178788, 99.27493627, 99.27493627, 99.25178788, 99.25178788,\n",
              "       99.25178788, 99.25178788, 99.25178788, 99.25178788, 99.25178788,\n",
              "       99.27493627, 99.25178788, 99.27493627, 99.27493627, 99.25178788,\n",
              "       99.27493627, 99.27493627, 99.25178788, 99.27493627, 99.27493627,\n",
              "       99.27493627, 99.27493627, 99.27493627, 99.27493627, 99.27493627,\n",
              "       99.25178788, 99.25178788, 99.25178788, 99.27493627, 99.27493627,\n",
              "       99.25178788, 99.25178788, 99.27493627, 99.27493627, 99.27493627,\n",
              "       99.25178788, 99.27493627, 99.27493627, 99.27493627, 99.27493627,\n",
              "       99.27493627, 99.27493627, 99.27493627, 99.25178788, 99.27493627,\n",
              "       99.27493627, 99.27493627, 99.27493627, 99.25178788, 99.25178788,\n",
              "       99.25178788, 99.25178788, 99.25178788, 99.27493627, 99.25178788,\n",
              "       99.25178788, 99.25178788, 99.25178788, 99.25178788, 99.27493627,\n",
              "       99.25178788, 99.27493627, 99.25178788, 99.27493627, 99.25178788,\n",
              "       99.25178788, 99.27493627, 99.25178788, 99.27493627, 99.27493627,\n",
              "       99.25178788, 99.27493627, 99.25178788, 99.25178788, 99.25178788,\n",
              "       99.27493627, 99.27493627, 99.25178788, 99.25178788, 99.25178788,\n",
              "       99.27493627, 99.27493627, 99.27493627, 99.25178788, 99.25178788,\n",
              "       99.27493627, 99.25178788, 99.27493627, 99.25178788, 99.27493627,\n",
              "       99.25178788, 99.25178788, 99.25178788, 99.27493627, 99.25178788,\n",
              "       99.25178788, 99.25178788, 99.25178788, 99.27493627, 99.25178788,\n",
              "       99.25178788, 99.25178788, 99.27493627, 99.27493627, 99.27493627,\n",
              "       99.27493627, 99.27493627, 99.25178788, 99.25178788, 99.27493627,\n",
              "       99.25178788, 99.27493627, 99.25178788, 99.25178788, 99.25178788,\n",
              "       99.27493627, 99.25178788, 99.27493627, 99.25178788, 99.27493627,\n",
              "       99.25178788, 99.27493627, 99.25178788, 99.25178788, 99.25178788,\n",
              "       99.25178788, 99.25178788, 99.27493627, 99.27493627, 99.25178788,\n",
              "       99.27493627, 99.27493627, 99.27493627, 99.25178788, 99.25178788,\n",
              "       99.25178788, 99.25178788, 99.27493627, 99.25178788, 99.27493627,\n",
              "       99.25178788, 99.27493627, 99.25178788, 99.27493627, 99.27493627,\n",
              "       99.25178788, 99.25178788, 99.27493627, 99.25178788, 99.27493627,\n",
              "       99.27493627, 99.27493627, 99.27493627, 99.25178788, 99.25178788,\n",
              "       99.27493627, 99.27493627, 99.27493627, 99.25178788, 99.27493627,\n",
              "       99.27493627, 99.27493627, 99.25178788, 99.27493627, 99.27493627,\n",
              "       99.25178788, 99.27493627, 99.25178788, 99.27493627, 99.27493627,\n",
              "       99.25178788, 99.25178788, 99.27493627, 99.27493627, 99.27493627,\n",
              "       99.27493627, 99.25178788, 99.25178788, 99.25178788, 99.25178788,\n",
              "       99.27493627, 99.27493627, 99.25178788, 99.27493627, 99.25178788,\n",
              "       99.27493627, 99.25178788, 99.27493627, 99.27493627, 99.25178788,\n",
              "       99.25178788, 99.25178788, 99.27493627, 99.27493627, 99.25178788,\n",
              "       99.27493627, 99.25178788, 99.27493627, 99.25178788, 99.25178788,\n",
              "       99.27493627, 99.25178788, 99.27493627, 99.27493627, 99.25178788,\n",
              "       99.25178788, 99.25178788, 99.25178788, 99.27493627, 99.27493627])"
            ]
          },
          "metadata": {},
          "execution_count": 19
        }
      ]
    },
    {
      "cell_type": "code",
      "source": [
        "outliers_medians = outlier_quantiles(medians)\n",
        "outliers_medians"
      ],
      "metadata": {
        "colab": {
          "base_uri": "https://localhost:8080/"
        },
        "id": "YnFdnEsDJlsb",
        "outputId": "152f5b85-b8b9-4c83-b95a-a4ce1a2e3465"
      },
      "execution_count": 20,
      "outputs": [
        {
          "output_type": "execute_result",
          "data": {
            "text/plain": [
              "(99.2170652935074, 99.30965884970652)"
            ]
          },
          "metadata": {},
          "execution_count": 20
        }
      ]
    },
    {
      "cell_type": "code",
      "source": [
        "for i in range(len(data_frame['y'])):\n",
        "  if medians[i] < outliers_medians[0] or medians[i] > outliers_medians[1]:\n",
        "    print(f\"La mediana[{i}] = {medians[i]} es influyente\")"
      ],
      "metadata": {
        "id": "cKsxKeT1Jk8-"
      },
      "execution_count": 21,
      "outputs": []
    },
    {
      "cell_type": "markdown",
      "source": [
        "### 6. Utiliza MinMaxScaler para realizar un escalado del dataframe creado en el ejercicio 1. Muestra los resultados y comenta que ha sucedido."
      ],
      "metadata": {
        "id": "ht8f7BymsM0l"
      }
    },
    {
      "cell_type": "code",
      "source": [
        "scaler = MinMaxScaler()"
      ],
      "metadata": {
        "id": "uZl61pu1sQ7g"
      },
      "execution_count": 22,
      "outputs": []
    },
    {
      "cell_type": "markdown",
      "source": [
        "La funcion fit calcula el maximo y el minimo que se utilizara para despues escalar los datos entre 0 y 1"
      ],
      "metadata": {
        "id": "D_OEmMQnIJok"
      }
    },
    {
      "cell_type": "code",
      "source": [
        "scaler.fit(data_frame)"
      ],
      "metadata": {
        "colab": {
          "base_uri": "https://localhost:8080/"
        },
        "id": "WkHlC8k4L5ke",
        "outputId": "8d500cd7-26ee-4fff-8e76-c1e9e05e7666"
      },
      "execution_count": 23,
      "outputs": [
        {
          "output_type": "execute_result",
          "data": {
            "text/plain": [
              "MinMaxScaler()"
            ]
          },
          "metadata": {},
          "execution_count": 23
        }
      ]
    },
    {
      "cell_type": "markdown",
      "source": [
        "Te muestra los datos mas grandes del data frame."
      ],
      "metadata": {
        "id": "SJk_xX-HeFvF"
      }
    },
    {
      "cell_type": "code",
      "source": [
        "scaler.data_max_"
      ],
      "metadata": {
        "colab": {
          "base_uri": "https://localhost:8080/"
        },
        "id": "MDUuQXJZMLlS",
        "outputId": "fa760812-1a4d-4418-e0b7-efba17ddc6a6"
      },
      "execution_count": 24,
      "outputs": [
        {
          "output_type": "execute_result",
          "data": {
            "text/plain": [
              "array([   49.19226682,   500.        , 39015.02858848])"
            ]
          },
          "metadata": {},
          "execution_count": 24
        }
      ]
    },
    {
      "cell_type": "markdown",
      "source": [
        "Te muestra los datos mas pequeños del data frame."
      ],
      "metadata": {
        "id": "Q16hjkN4eK0O"
      }
    },
    {
      "cell_type": "code",
      "source": [
        "scaler.data_min_"
      ],
      "metadata": {
        "colab": {
          "base_uri": "https://localhost:8080/"
        },
        "id": "r7aaPGhAMWFD",
        "outputId": "92ab9f82-4c81-4ce7-fa6c-2a6b4514f6e3"
      },
      "execution_count": 25,
      "outputs": [
        {
          "output_type": "execute_result",
          "data": {
            "text/plain": [
              "array([   20.9979936,   -25.       , 10489.8749305])"
            ]
          },
          "metadata": {},
          "execution_count": 25
        }
      ]
    },
    {
      "cell_type": "markdown",
      "source": [
        "Escala los datos deacuerdo al rango que se haya calculado en este caso entre 0 y 1, guarda los datos escalados en conjuntos agrupados por filas."
      ],
      "metadata": {
        "id": "QxJbd3s9eZMk"
      }
    },
    {
      "cell_type": "code",
      "source": [
        "data_transform = scaler.transform(data_frame)\n",
        "data_transform"
      ],
      "metadata": {
        "colab": {
          "base_uri": "https://localhost:8080/"
        },
        "id": "i8Yi4OggMdDt",
        "outputId": "60107115-33f9-4b68-a00b-9fa0a6ae5ede"
      },
      "execution_count": 26,
      "outputs": [
        {
          "output_type": "execute_result",
          "data": {
            "text/plain": [
              "array([[0.47996163, 0.22370008, 0.48239755],\n",
              "       [0.23735505, 0.23029718, 0.53353776],\n",
              "       [0.29905027, 0.24923648, 0.27296718],\n",
              "       ...,\n",
              "       [0.204177  , 0.25482762, 0.15541019],\n",
              "       [0.34369732, 0.19449837, 0.8695294 ],\n",
              "       [0.32383718, 0.21914373, 0.1410285 ]])"
            ]
          },
          "metadata": {},
          "execution_count": 26
        }
      ]
    },
    {
      "cell_type": "code",
      "source": [
        "data_transform.max()"
      ],
      "metadata": {
        "colab": {
          "base_uri": "https://localhost:8080/"
        },
        "id": "j1Db-rj-ft6W",
        "outputId": "eab1565b-267a-48ed-9eff-d37e113788bc"
      },
      "execution_count": 27,
      "outputs": [
        {
          "output_type": "execute_result",
          "data": {
            "text/plain": [
              "1.0"
            ]
          },
          "metadata": {},
          "execution_count": 27
        }
      ]
    },
    {
      "cell_type": "code",
      "source": [
        "data_transform.min()"
      ],
      "metadata": {
        "colab": {
          "base_uri": "https://localhost:8080/"
        },
        "id": "v5urqJBaf6-H",
        "outputId": "bdcecfaf-af83-47b4-ef49-f7d3bee056ea"
      },
      "execution_count": 28,
      "outputs": [
        {
          "output_type": "execute_result",
          "data": {
            "text/plain": [
              "0.0"
            ]
          },
          "metadata": {},
          "execution_count": 28
        }
      ]
    },
    {
      "cell_type": "markdown",
      "source": [
        "###7. (ampliación) Busca un dataframe de las siguientes urls que contengan al menos dos atributos numéricos reales en distintas escalas.\n",
        "- https://archive.ics.uci.edu/ml/datasets.php\n",
        "-  https://www.kaggle.com/datasets\n",
        "## Una vez encontrado, realiza las siguientes cuestiones.\n",
        "- Importa el dataset como un dataframe de pandas\n",
        "- Selecciona los dos atributos numéricos\n",
        "- Calcula la media y la varianza de esos dos datos numéricos\n",
        "- Realiza un estudio para determinar si contiene outliers o no (en el caso que no encuentres outliers, introduce uno deliberadamente)\n",
        "- Usa el método jackknife para detectar si hay observaciones influyentes para la media en alguno de los atributos.\n",
        "- Escala los atributos usando MinMaxScaler"
      ],
      "metadata": {
        "id": "CV7SZNV5sViS"
      }
    },
    {
      "cell_type": "markdown",
      "source": [
        "#### Importa el dataset como dataframe de pandas."
      ],
      "metadata": {
        "id": "qR8XBo8zqb0-"
      }
    },
    {
      "cell_type": "markdown",
      "source": [
        "https://www.kaggle.com/datasets/akshaydattatraykhare/diabetes-dataset"
      ],
      "metadata": {
        "id": "Vfyuacankrhe"
      }
    },
    {
      "cell_type": "code",
      "source": [
        "diabetes = pd.read_csv('diabetes.csv')\n",
        "diabetes"
      ],
      "metadata": {
        "id": "JXp8P-uisk-A",
        "colab": {
          "base_uri": "https://localhost:8080/",
          "height": 424
        },
        "outputId": "88762245-6414-43aa-e051-542544a87ef8"
      },
      "execution_count": 29,
      "outputs": [
        {
          "output_type": "execute_result",
          "data": {
            "text/plain": [
              "     Pregnancies  Glucose  BloodPressure  SkinThickness  Insulin   BMI  \\\n",
              "0              6      148             72             35        0  33.6   \n",
              "1              1       85             66             29        0  26.6   \n",
              "2              8      183             64              0        0  23.3   \n",
              "3              1       89             66             23       94  28.1   \n",
              "4              0      137             40             35      168  43.1   \n",
              "..           ...      ...            ...            ...      ...   ...   \n",
              "763           10      101             76             48      180  32.9   \n",
              "764            2      122             70             27        0  36.8   \n",
              "765            5      121             72             23      112  26.2   \n",
              "766            1      126             60              0        0  30.1   \n",
              "767            1       93             70             31        0  30.4   \n",
              "\n",
              "     DiabetesPedigreeFunction  Age  Outcome  \n",
              "0                       0.627   50        1  \n",
              "1                       0.351   31        0  \n",
              "2                       0.672   32        1  \n",
              "3                       0.167   21        0  \n",
              "4                       2.288   33        1  \n",
              "..                        ...  ...      ...  \n",
              "763                     0.171   63        0  \n",
              "764                     0.340   27        0  \n",
              "765                     0.245   30        0  \n",
              "766                     0.349   47        1  \n",
              "767                     0.315   23        0  \n",
              "\n",
              "[768 rows x 9 columns]"
            ],
            "text/html": [
              "\n",
              "  <div id=\"df-7742f119-ce2a-4cb1-8223-315a92e74aed\">\n",
              "    <div class=\"colab-df-container\">\n",
              "      <div>\n",
              "<style scoped>\n",
              "    .dataframe tbody tr th:only-of-type {\n",
              "        vertical-align: middle;\n",
              "    }\n",
              "\n",
              "    .dataframe tbody tr th {\n",
              "        vertical-align: top;\n",
              "    }\n",
              "\n",
              "    .dataframe thead th {\n",
              "        text-align: right;\n",
              "    }\n",
              "</style>\n",
              "<table border=\"1\" class=\"dataframe\">\n",
              "  <thead>\n",
              "    <tr style=\"text-align: right;\">\n",
              "      <th></th>\n",
              "      <th>Pregnancies</th>\n",
              "      <th>Glucose</th>\n",
              "      <th>BloodPressure</th>\n",
              "      <th>SkinThickness</th>\n",
              "      <th>Insulin</th>\n",
              "      <th>BMI</th>\n",
              "      <th>DiabetesPedigreeFunction</th>\n",
              "      <th>Age</th>\n",
              "      <th>Outcome</th>\n",
              "    </tr>\n",
              "  </thead>\n",
              "  <tbody>\n",
              "    <tr>\n",
              "      <th>0</th>\n",
              "      <td>6</td>\n",
              "      <td>148</td>\n",
              "      <td>72</td>\n",
              "      <td>35</td>\n",
              "      <td>0</td>\n",
              "      <td>33.6</td>\n",
              "      <td>0.627</td>\n",
              "      <td>50</td>\n",
              "      <td>1</td>\n",
              "    </tr>\n",
              "    <tr>\n",
              "      <th>1</th>\n",
              "      <td>1</td>\n",
              "      <td>85</td>\n",
              "      <td>66</td>\n",
              "      <td>29</td>\n",
              "      <td>0</td>\n",
              "      <td>26.6</td>\n",
              "      <td>0.351</td>\n",
              "      <td>31</td>\n",
              "      <td>0</td>\n",
              "    </tr>\n",
              "    <tr>\n",
              "      <th>2</th>\n",
              "      <td>8</td>\n",
              "      <td>183</td>\n",
              "      <td>64</td>\n",
              "      <td>0</td>\n",
              "      <td>0</td>\n",
              "      <td>23.3</td>\n",
              "      <td>0.672</td>\n",
              "      <td>32</td>\n",
              "      <td>1</td>\n",
              "    </tr>\n",
              "    <tr>\n",
              "      <th>3</th>\n",
              "      <td>1</td>\n",
              "      <td>89</td>\n",
              "      <td>66</td>\n",
              "      <td>23</td>\n",
              "      <td>94</td>\n",
              "      <td>28.1</td>\n",
              "      <td>0.167</td>\n",
              "      <td>21</td>\n",
              "      <td>0</td>\n",
              "    </tr>\n",
              "    <tr>\n",
              "      <th>4</th>\n",
              "      <td>0</td>\n",
              "      <td>137</td>\n",
              "      <td>40</td>\n",
              "      <td>35</td>\n",
              "      <td>168</td>\n",
              "      <td>43.1</td>\n",
              "      <td>2.288</td>\n",
              "      <td>33</td>\n",
              "      <td>1</td>\n",
              "    </tr>\n",
              "    <tr>\n",
              "      <th>...</th>\n",
              "      <td>...</td>\n",
              "      <td>...</td>\n",
              "      <td>...</td>\n",
              "      <td>...</td>\n",
              "      <td>...</td>\n",
              "      <td>...</td>\n",
              "      <td>...</td>\n",
              "      <td>...</td>\n",
              "      <td>...</td>\n",
              "    </tr>\n",
              "    <tr>\n",
              "      <th>763</th>\n",
              "      <td>10</td>\n",
              "      <td>101</td>\n",
              "      <td>76</td>\n",
              "      <td>48</td>\n",
              "      <td>180</td>\n",
              "      <td>32.9</td>\n",
              "      <td>0.171</td>\n",
              "      <td>63</td>\n",
              "      <td>0</td>\n",
              "    </tr>\n",
              "    <tr>\n",
              "      <th>764</th>\n",
              "      <td>2</td>\n",
              "      <td>122</td>\n",
              "      <td>70</td>\n",
              "      <td>27</td>\n",
              "      <td>0</td>\n",
              "      <td>36.8</td>\n",
              "      <td>0.340</td>\n",
              "      <td>27</td>\n",
              "      <td>0</td>\n",
              "    </tr>\n",
              "    <tr>\n",
              "      <th>765</th>\n",
              "      <td>5</td>\n",
              "      <td>121</td>\n",
              "      <td>72</td>\n",
              "      <td>23</td>\n",
              "      <td>112</td>\n",
              "      <td>26.2</td>\n",
              "      <td>0.245</td>\n",
              "      <td>30</td>\n",
              "      <td>0</td>\n",
              "    </tr>\n",
              "    <tr>\n",
              "      <th>766</th>\n",
              "      <td>1</td>\n",
              "      <td>126</td>\n",
              "      <td>60</td>\n",
              "      <td>0</td>\n",
              "      <td>0</td>\n",
              "      <td>30.1</td>\n",
              "      <td>0.349</td>\n",
              "      <td>47</td>\n",
              "      <td>1</td>\n",
              "    </tr>\n",
              "    <tr>\n",
              "      <th>767</th>\n",
              "      <td>1</td>\n",
              "      <td>93</td>\n",
              "      <td>70</td>\n",
              "      <td>31</td>\n",
              "      <td>0</td>\n",
              "      <td>30.4</td>\n",
              "      <td>0.315</td>\n",
              "      <td>23</td>\n",
              "      <td>0</td>\n",
              "    </tr>\n",
              "  </tbody>\n",
              "</table>\n",
              "<p>768 rows × 9 columns</p>\n",
              "</div>\n",
              "      <button class=\"colab-df-convert\" onclick=\"convertToInteractive('df-7742f119-ce2a-4cb1-8223-315a92e74aed')\"\n",
              "              title=\"Convert this dataframe to an interactive table.\"\n",
              "              style=\"display:none;\">\n",
              "        \n",
              "  <svg xmlns=\"http://www.w3.org/2000/svg\" height=\"24px\"viewBox=\"0 0 24 24\"\n",
              "       width=\"24px\">\n",
              "    <path d=\"M0 0h24v24H0V0z\" fill=\"none\"/>\n",
              "    <path d=\"M18.56 5.44l.94 2.06.94-2.06 2.06-.94-2.06-.94-.94-2.06-.94 2.06-2.06.94zm-11 1L8.5 8.5l.94-2.06 2.06-.94-2.06-.94L8.5 2.5l-.94 2.06-2.06.94zm10 10l.94 2.06.94-2.06 2.06-.94-2.06-.94-.94-2.06-.94 2.06-2.06.94z\"/><path d=\"M17.41 7.96l-1.37-1.37c-.4-.4-.92-.59-1.43-.59-.52 0-1.04.2-1.43.59L10.3 9.45l-7.72 7.72c-.78.78-.78 2.05 0 2.83L4 21.41c.39.39.9.59 1.41.59.51 0 1.02-.2 1.41-.59l7.78-7.78 2.81-2.81c.8-.78.8-2.07 0-2.86zM5.41 20L4 18.59l7.72-7.72 1.47 1.35L5.41 20z\"/>\n",
              "  </svg>\n",
              "      </button>\n",
              "      \n",
              "  <style>\n",
              "    .colab-df-container {\n",
              "      display:flex;\n",
              "      flex-wrap:wrap;\n",
              "      gap: 12px;\n",
              "    }\n",
              "\n",
              "    .colab-df-convert {\n",
              "      background-color: #E8F0FE;\n",
              "      border: none;\n",
              "      border-radius: 50%;\n",
              "      cursor: pointer;\n",
              "      display: none;\n",
              "      fill: #1967D2;\n",
              "      height: 32px;\n",
              "      padding: 0 0 0 0;\n",
              "      width: 32px;\n",
              "    }\n",
              "\n",
              "    .colab-df-convert:hover {\n",
              "      background-color: #E2EBFA;\n",
              "      box-shadow: 0px 1px 2px rgba(60, 64, 67, 0.3), 0px 1px 3px 1px rgba(60, 64, 67, 0.15);\n",
              "      fill: #174EA6;\n",
              "    }\n",
              "\n",
              "    [theme=dark] .colab-df-convert {\n",
              "      background-color: #3B4455;\n",
              "      fill: #D2E3FC;\n",
              "    }\n",
              "\n",
              "    [theme=dark] .colab-df-convert:hover {\n",
              "      background-color: #434B5C;\n",
              "      box-shadow: 0px 1px 3px 1px rgba(0, 0, 0, 0.15);\n",
              "      filter: drop-shadow(0px 1px 2px rgba(0, 0, 0, 0.3));\n",
              "      fill: #FFFFFF;\n",
              "    }\n",
              "  </style>\n",
              "\n",
              "      <script>\n",
              "        const buttonEl =\n",
              "          document.querySelector('#df-7742f119-ce2a-4cb1-8223-315a92e74aed button.colab-df-convert');\n",
              "        buttonEl.style.display =\n",
              "          google.colab.kernel.accessAllowed ? 'block' : 'none';\n",
              "\n",
              "        async function convertToInteractive(key) {\n",
              "          const element = document.querySelector('#df-7742f119-ce2a-4cb1-8223-315a92e74aed');\n",
              "          const dataTable =\n",
              "            await google.colab.kernel.invokeFunction('convertToInteractive',\n",
              "                                                     [key], {});\n",
              "          if (!dataTable) return;\n",
              "\n",
              "          const docLinkHtml = 'Like what you see? Visit the ' +\n",
              "            '<a target=\"_blank\" href=https://colab.research.google.com/notebooks/data_table.ipynb>data table notebook</a>'\n",
              "            + ' to learn more about interactive tables.';\n",
              "          element.innerHTML = '';\n",
              "          dataTable['output_type'] = 'display_data';\n",
              "          await google.colab.output.renderOutput(dataTable, element);\n",
              "          const docLink = document.createElement('div');\n",
              "          docLink.innerHTML = docLinkHtml;\n",
              "          element.appendChild(docLink);\n",
              "        }\n",
              "      </script>\n",
              "    </div>\n",
              "  </div>\n",
              "  "
            ]
          },
          "metadata": {},
          "execution_count": 29
        }
      ]
    },
    {
      "cell_type": "markdown",
      "source": [
        "#### Selecciona los dos atributos numéricos"
      ],
      "metadata": {
        "id": "Y3cOcntFqn4Z"
      }
    },
    {
      "cell_type": "code",
      "source": [
        "plt.hist(diabetes['Glucose'])"
      ],
      "metadata": {
        "colab": {
          "base_uri": "https://localhost:8080/",
          "height": 334
        },
        "id": "4KrOEkl_oq14",
        "outputId": "91d1eb04-adc0-43d9-92e4-db25b86ba527"
      },
      "execution_count": 30,
      "outputs": [
        {
          "output_type": "execute_result",
          "data": {
            "text/plain": [
              "(array([  5.,   0.,   4.,  32., 156., 211., 163.,  95.,  56.,  46.]),\n",
              " array([  0. ,  19.9,  39.8,  59.7,  79.6,  99.5, 119.4, 139.3, 159.2,\n",
              "        179.1, 199. ]),\n",
              " <a list of 10 Patch objects>)"
            ]
          },
          "metadata": {},
          "execution_count": 30
        },
        {
          "output_type": "display_data",
          "data": {
            "text/plain": [
              "<Figure size 432x288 with 1 Axes>"
            ],
            "image/png": "[encoded data removed]"
          },
          "metadata": {
            "needs_background": "light"
          }
        }
      ]
    },
    {
      "cell_type": "code",
      "source": [
        "plt.hist(diabetes['BMI'])"
      ],
      "metadata": {
        "colab": {
          "base_uri": "https://localhost:8080/",
          "height": 334
        },
        "id": "WtIbXq5do1dk",
        "outputId": "085fc38b-730f-4074-cd45-0fe32c28ec50"
      },
      "execution_count": 31,
      "outputs": [
        {
          "output_type": "execute_result",
          "data": {
            "text/plain": [
              "(array([ 11.,   0.,  15., 156., 268., 224.,  78.,  12.,   3.,   1.]),\n",
              " array([ 0.  ,  6.71, 13.42, 20.13, 26.84, 33.55, 40.26, 46.97, 53.68,\n",
              "        60.39, 67.1 ]),\n",
              " <a list of 10 Patch objects>)"
            ]
          },
          "metadata": {},
          "execution_count": 31
        },
        {
          "output_type": "display_data",
          "data": {
            "text/plain": [
              "<Figure size 432x288 with 1 Axes>"
            ],
            "image/png": "[encoded data removed]"
          },
          "metadata": {
            "needs_background": "light"
          }
        }
      ]
    },
    {
      "cell_type": "markdown",
      "source": [
        "#### Calcula la media y la varianza de esos dos datos numéricos"
      ],
      "metadata": {
        "id": "2saUeak_qxiz"
      }
    },
    {
      "cell_type": "code",
      "source": [
        "print(np.mean(diabetes['Glucose']))\n",
        "print(np.var(diabetes['Glucose']))\n",
        "print(np.mean(diabetes['BMI']))\n",
        "print(np.var(diabetes['BMI']))"
      ],
      "metadata": {
        "colab": {
          "base_uri": "https://localhost:8080/"
        },
        "id": "vtFIk7m4pMq4",
        "outputId": "5405af5a-3b8e-43df-cabf-5bb906ff0a73"
      },
      "execution_count": 32,
      "outputs": [
        {
          "output_type": "stream",
          "name": "stdout",
          "text": [
            "120.89453125\n",
            "1020.9172617594401\n",
            "31.992578124999998\n",
            "62.079046478271486\n"
          ]
        }
      ]
    },
    {
      "cell_type": "markdown",
      "source": [
        "#### Realiza un estudio para determinar si contiene outliers o no (en el caso que no encuentres outliers, introduce uno deliberadamente)\n"
      ],
      "metadata": {
        "id": "Yb5Wm8nTq24D"
      }
    },
    {
      "cell_type": "code",
      "source": [
        "# Outliers de los datos Glucose\n",
        "# Metodo construccion de bandas\n",
        "outliers_glucose_n = outlier_normal_dist(diabetes, 'Glucose')\n",
        "# Metodo quartiles\n",
        "outliers_glucose_q = outlier_quantiles(diabetes, 'Glucose')\n",
        "\n",
        "print(outliers_glucose_n, outliers_glucose_q)"
      ],
      "metadata": {
        "colab": {
          "base_uri": "https://localhost:8080/"
        },
        "id": "BSuzT4FKpwvh",
        "outputId": "1836715a-aacb-4307-a538-8fcff3fc7d74"
      },
      "execution_count": 33,
      "outputs": [
        {
          "output_type": "stream",
          "name": "stdout",
          "text": [
            "(-11.7677, 253.5568) (37.125, 202.125)\n"
          ]
        }
      ]
    },
    {
      "cell_type": "code",
      "source": [
        "# Outliers de los datos BMI\n",
        "# Metodo construccion de bandas\n",
        "outliers_bmi_n = outlier_normal_dist(diabetes, 'BMI')\n",
        "# Metodo quartiles\n",
        "outliers_bmi_q = outlier_quantiles(diabetes, 'BMI')\n",
        "\n",
        "print(outliers_bmi_n, outliers_bmi_q)"
      ],
      "metadata": {
        "colab": {
          "base_uri": "https://localhost:8080/"
        },
        "id": "YaXb1hS-sQTu",
        "outputId": "8d650797-167e-44ca-cc65-c8def41245c0"
      },
      "execution_count": 34,
      "outputs": [
        {
          "output_type": "stream",
          "name": "stdout",
          "text": [
            "(-0.7207, 64.7059) (13.35, 50.550000000000004)\n"
          ]
        }
      ]
    },
    {
      "cell_type": "code",
      "source": [
        "# Metodo de contruccion de bandas con el dato Glucose\n",
        "for i in range(len(diabetes['Glucose'])):\n",
        "  if diabetes['Glucose'][i] < outliers_glucose_n[0] or diabetes['Glucose'][i] > outliers_glucose_n[1]:\n",
        "    print(f\"El dato[{i}] = {diabetes['Glucose'][i]} es un outlier\")"
      ],
      "metadata": {
        "id": "pCXVXK3-s9ca"
      },
      "execution_count": 35,
      "outputs": []
    },
    {
      "cell_type": "code",
      "source": [
        "# Metodo de los Quartiles con el dato Glucose\n",
        "for i in range(len(diabetes['Glucose'])):\n",
        "  if diabetes['Glucose'][i] < outliers_glucose_q[0] or diabetes['Glucose'][i] > outliers_glucose_q[1]:\n",
        "    print(f\"El dato[{i}] = {diabetes['Glucose'][i]} es un outlier\")"
      ],
      "metadata": {
        "colab": {
          "base_uri": "https://localhost:8080/"
        },
        "id": "QaG83UA8tamU",
        "outputId": "317317cf-478b-4bb2-e352-a9d0fcaa0252"
      },
      "execution_count": 36,
      "outputs": [
        {
          "output_type": "stream",
          "name": "stdout",
          "text": [
            "El dato[75] = 0 es un outlier\n",
            "El dato[182] = 0 es un outlier\n",
            "El dato[342] = 0 es un outlier\n",
            "El dato[349] = 0 es un outlier\n",
            "El dato[502] = 0 es un outlier\n"
          ]
        }
      ]
    },
    {
      "cell_type": "code",
      "source": [
        "# Metodo de contruccion de bandas con el dato BMI\n",
        "for i in range(len(diabetes['BMI'])):\n",
        "  if diabetes['BMI'][i] < outliers_bmi_n[0] or diabetes['BMI'][i] > outliers_bmi_n[1]:\n",
        "    print(f\"El dato[{i}] = {diabetes['BMI'][i]} es un outlier\")"
      ],
      "metadata": {
        "colab": {
          "base_uri": "https://localhost:8080/"
        },
        "id": "b8-uWc4ItrgG",
        "outputId": "898fa1a7-f397-402e-f3fb-1dc69222a723"
      },
      "execution_count": 38,
      "outputs": [
        {
          "output_type": "stream",
          "name": "stdout",
          "text": [
            "El dato[177] = 67.1 es un outlier\n"
          ]
        }
      ]
    },
    {
      "cell_type": "code",
      "source": [
        "# Metodo de los Quartiles con el dato BMI\n",
        "for i in range(len(diabetes['BMI'])):\n",
        "  if diabetes['BMI'][i] < outliers_bmi_q[0] or diabetes['BMI'][i] > outliers_bmi_q[1]:\n",
        "    print(f\"El dato[{i}] = {diabetes['BMI'][i]} es un outlier\")"
      ],
      "metadata": {
        "colab": {
          "base_uri": "https://localhost:8080/"
        },
        "id": "1Zw5-_fjtq6F",
        "outputId": "6a2d810e-eb34-4f4f-e8e1-1681cea73756"
      },
      "execution_count": 39,
      "outputs": [
        {
          "output_type": "stream",
          "name": "stdout",
          "text": [
            "El dato[9] = 0.0 es un outlier\n",
            "El dato[49] = 0.0 es un outlier\n",
            "El dato[60] = 0.0 es un outlier\n",
            "El dato[81] = 0.0 es un outlier\n",
            "El dato[120] = 53.2 es un outlier\n",
            "El dato[125] = 55.0 es un outlier\n",
            "El dato[145] = 0.0 es un outlier\n",
            "El dato[177] = 67.1 es un outlier\n",
            "El dato[193] = 52.3 es un outlier\n",
            "El dato[247] = 52.3 es un outlier\n",
            "El dato[303] = 52.9 es un outlier\n",
            "El dato[371] = 0.0 es un outlier\n",
            "El dato[426] = 0.0 es un outlier\n",
            "El dato[445] = 59.4 es un outlier\n",
            "El dato[494] = 0.0 es un outlier\n",
            "El dato[522] = 0.0 es un outlier\n",
            "El dato[673] = 57.3 es un outlier\n",
            "El dato[684] = 0.0 es un outlier\n",
            "El dato[706] = 0.0 es un outlier\n"
          ]
        }
      ]
    },
    {
      "cell_type": "markdown",
      "source": [
        "#### Usa el método jackknife para detectar si hay observaciones influyentes para la media en alguno de los atributos.\n"
      ],
      "metadata": {
        "id": "qBH0XT_WvErx"
      }
    },
    {
      "cell_type": "code",
      "source": [
        "glucose_means = means_array(diabetes, 'Glucose')\n",
        "glucose_means"
      ],
      "metadata": {
        "id": "OK0KvACxu6ud",
        "colab": {
          "base_uri": "https://localhost:8080/"
        },
        "outputId": "4090401a-2283-4dac-c10f-d249467061a6"
      },
      "execution_count": 40,
      "outputs": [
        {
          "output_type": "execute_result",
          "data": {
            "text/plain": [
              "array([120.85919166, 120.94132986, 120.81355932, 120.93611473,\n",
              "       120.87353325, 120.90091265, 120.95045632, 120.90221643,\n",
              "       120.79530639, 120.88917862, 120.90873533, 120.83311604,\n",
              "       120.87092568, 120.80573664, 120.8357236 , 120.92177314,\n",
              "       120.89830508, 120.91264668, 120.9178618 , 120.90221643,\n",
              "       120.88787484, 120.92307692, 120.79661017, 120.8970013 ,\n",
              "       120.86571056, 120.88917862, 120.86049544, 120.92568449,\n",
              "       120.863103  , 120.89960887, 120.91003911, 120.84615385,\n",
              "       120.93741851, 120.93220339, 120.89308996, 120.9178618 ,\n",
              "       120.87222947, 120.91916558, 120.93481095, 120.90743155,\n",
              "       120.81747066, 120.87874837, 120.91395046, 120.82920469,\n",
              "       120.84485007, 120.81747066, 120.86179922, 120.95958279,\n",
              "       120.9178618 , 120.91525424, 120.9178618 , 120.92046936,\n",
              "       120.93741851, 120.82268579, 120.85658409, 120.95697523,\n",
              "       120.8083442 , 120.92177314, 120.86179922, 120.91525424,\n",
              "       120.94263364, 120.87874837, 120.99478488, 120.86831812,\n",
              "       120.90352021, 120.92307692, 120.91003911, 120.91003911,\n",
              "       120.92829205, 120.86179922, 120.92177314, 120.87092568,\n",
              "       120.88787484, 120.88396349, 120.94915254, 121.05215124,\n",
              "       120.97131682, 120.92829205, 120.88135593, 120.90612777,\n",
              "       120.90482399, 120.95567145, 120.94393742, 120.92046936,\n",
              "       120.87353325, 120.90873533, 120.91395046, 120.92177314,\n",
              "       120.87483703, 120.91264668, 120.94784876, 120.89178618,\n",
              "       120.94654498, 120.87744459, 120.86701434, 120.86440678,\n",
              "       120.93220339, 120.95958279, 120.93089961, 120.89308996,\n",
              "       120.83963494, 120.85528031, 120.88917862, 120.94654498,\n",
              "       120.94132986, 120.88787484, 120.92698827, 120.86440678,\n",
              "       120.94393742, 120.92829205, 120.82920469, 120.85006519,\n",
              "       120.93611473, 120.95306389, 120.84354628, 120.86179922,\n",
              "       120.8904824 , 120.95045632, 120.92568449, 120.92307692,\n",
              "       120.84093872, 120.90743155, 120.91264668, 120.88005215,\n",
              "       120.90482399, 120.93741851, 120.89569752, 120.89830508,\n",
              "       120.89960887, 120.91525424, 120.82659713, 120.89308996,\n",
              "       120.83050847, 120.94263364, 120.92698827, 120.88917862,\n",
              "       120.92177314, 120.93089961, 120.88396349, 120.91525424,\n",
              "       120.88526728, 120.91395046, 120.91134289, 120.91134289,\n",
              "       120.85136897, 120.91916558, 120.97783572, 120.91395046,\n",
              "       120.86049544, 120.93481095, 120.87483703, 120.90352021,\n",
              "       120.84876141, 120.85267275, 120.80704042, 120.85397653,\n",
              "       120.92307692, 120.91003911, 120.93741851, 120.83963494,\n",
              "       120.85528031, 120.91916558, 120.90352021, 120.92177314,\n",
              "       120.88135593, 120.91655802, 120.85919166, 120.89569752,\n",
              "       120.90873533, 120.90743155, 120.91916558, 120.87744459,\n",
              "       120.93872229, 120.94915254, 120.95436767, 120.81877445,\n",
              "       120.94132986, 120.88396349, 120.86571056, 120.88265971,\n",
              "       120.93872229, 120.8970013 , 121.05215124, 120.95697523,\n",
              "       120.86831812, 120.79921773, 120.81616688, 120.88526728,\n",
              "       120.91003911, 120.87092568, 120.90743155, 120.89178618,\n",
              "       120.84485007, 120.87614081, 120.94132986, 120.84615385,\n",
              "       120.91525424, 120.91264668, 120.91003911, 120.85919166,\n",
              "       120.90482399, 120.87222947, 120.91134289, 120.92307692,\n",
              "       120.9178618 , 120.90743155, 120.79661017, 120.84093872,\n",
              "       120.92698827, 120.81225554, 120.94654498, 120.86049544,\n",
              "       120.81877445, 120.8696219 , 120.90612777, 120.85528031,\n",
              "       120.91003911, 120.88917862, 120.94132986, 120.90612777,\n",
              "       120.82138201, 120.84615385, 120.8970013 , 120.86701434,\n",
              "       120.92177314, 120.93872229, 120.92046936, 120.84093872,\n",
              "       120.79530639, 120.89960887, 120.86701434, 120.87744459,\n",
              "       120.94915254, 120.89308996, 120.95567145, 120.82920469,\n",
              "       120.81616688, 120.81877445, 120.83833116, 120.91655802,\n",
              "       120.93350717, 120.93350717, 120.87092568, 120.8970013 ,\n",
              "       120.86179922, 120.81225554, 120.89308996, 120.83702738,\n",
              "       120.8904824 , 120.90743155, 120.91395046, 120.88396349,\n",
              "       120.93481095, 120.94002608, 120.93220339, 120.90482399,\n",
              "       120.90743155, 120.90352021, 120.80052151, 120.85006519,\n",
              "       120.80312907, 120.86831812, 120.92829205, 120.86701434,\n",
              "       120.89178618, 120.92698827, 120.87222947, 120.88526728,\n",
              "       120.91916558, 120.86179922, 120.92046936, 120.91134289,\n",
              "       120.89308996, 120.95958279, 120.91395046, 120.92177314,\n",
              "       120.91395046, 120.91655802, 120.90352021, 120.91134289,\n",
              "       120.86179922, 120.88396349, 120.87874837, 120.8422425 ,\n",
              "       120.91134289, 120.87483703, 120.85006519, 120.8970013 ,\n",
              "       120.92698827, 120.91134289, 120.95045632, 120.91264668,\n",
              "       120.88526728, 120.88526728, 120.8422425 , 120.85528031,\n",
              "       120.86179922, 120.88787484, 120.92177314, 120.90612777,\n",
              "       120.83441982, 120.86440678, 120.9517601 , 120.90221643,\n",
              "       120.85658409, 120.89569752, 120.8422425 , 120.87353325,\n",
              "       120.88526728, 120.8904824 , 120.94784876, 120.91395046,\n",
              "       120.85006519, 120.90482399, 120.91003911, 120.90612777,\n",
              "       120.92307692, 120.8148631 , 120.90221643, 120.79921773,\n",
              "       120.88396349, 120.90612777, 120.8904824 , 120.85397653,\n",
              "       120.90612777, 120.84745763, 120.89308996, 120.81877445,\n",
              "       120.91916558, 120.91525424, 120.89830508, 120.93872229,\n",
              "       120.81747066, 120.91395046, 120.92829205, 120.83702738,\n",
              "       120.89960887, 120.90221643, 120.85397653, 120.82007823,\n",
              "       120.88265971, 120.92829205, 121.05215124, 120.89308996,\n",
              "       120.92829205, 120.88787484, 120.87092568, 120.90091265,\n",
              "       120.92307692, 121.05215124, 120.93220339, 120.87353325,\n",
              "       120.9726206 , 120.93481095, 120.93481095, 120.83702738,\n",
              "       120.88917862, 120.88396349, 120.93741851, 120.79661017,\n",
              "       120.80573664, 120.84615385, 120.9178618 , 120.86179922,\n",
              "       120.86049544, 120.92307692, 120.8904824 , 120.92046936,\n",
              "       120.94654498, 120.87874837, 120.82659713, 120.89830508,\n",
              "       120.94263364, 120.91525424, 120.89308996, 120.8696219 ,\n",
              "       120.9243807 , 120.93872229, 120.84876141, 120.93089961,\n",
              "       120.91264668, 120.91525424, 120.91003911, 120.93481095,\n",
              "       120.88917862, 120.8970013 , 120.90091265, 120.91525424,\n",
              "       120.86440678, 120.92177314, 120.92177314, 120.8357236 ,\n",
              "       120.88135593, 120.90091265, 120.84615385, 120.88657106,\n",
              "       120.92698827, 120.88135593, 120.9452412 , 120.80052151,\n",
              "       120.92829205, 120.87353325, 120.87483703, 120.95827901,\n",
              "       120.83311604, 120.89178618, 120.90221643, 120.92046936,\n",
              "       120.79530639, 120.82790091, 120.91916558, 120.90612777,\n",
              "       120.86571056, 120.86571056, 120.87222947, 120.82659713,\n",
              "       120.92568449, 120.86440678, 120.94393742, 120.88396349,\n",
              "       120.8970013 , 120.92959583, 120.91916558, 120.90221643,\n",
              "       120.85528031, 120.81225554, 120.92959583, 120.81616688,\n",
              "       120.87614081, 120.92829205, 120.92307692, 120.93611473,\n",
              "       120.94784876, 120.87092568, 120.93481095, 120.86831812,\n",
              "       120.8696219 , 120.86049544, 120.92568449, 120.91264668,\n",
              "       120.80573664, 120.94393742, 120.89960887, 120.91134289,\n",
              "       120.89960887, 120.81747066, 120.92177314, 120.92829205,\n",
              "       120.91655802, 120.89569752, 120.9452412 , 120.87744459,\n",
              "       120.93350717, 120.8970013 , 120.92177314, 120.82398957,\n",
              "       120.87614081, 120.94002608, 120.85919166, 120.87744459,\n",
              "       120.89569752, 120.95958279, 120.95567145, 120.93741851,\n",
              "       120.90221643, 120.8904824 , 120.95567145, 120.92568449,\n",
              "       120.89569752, 120.85136897, 120.86440678, 120.87353325,\n",
              "       120.8970013 , 120.87483703, 120.90352021, 120.87353325,\n",
              "       120.91525424, 120.90352021, 120.88787484, 120.88005215,\n",
              "       120.84615385, 120.89178618, 120.94132986, 120.94263364,\n",
              "       120.863103  , 120.87614081, 120.87092568, 120.82659713,\n",
              "       120.92307692, 120.79921773, 120.94393742, 120.93611473,\n",
              "       120.92307692, 120.88917862, 120.94784876, 120.8357236 ,\n",
              "       120.90873533, 120.94654498, 120.79791395, 120.85136897,\n",
              "       120.89960887, 120.94263364, 121.05215124, 120.92959583,\n",
              "       120.92698827, 120.95436767, 120.81747066, 120.88265971,\n",
              "       120.94263364, 120.89569752, 120.94263364, 120.87092568,\n",
              "       120.93350717, 120.93350717, 120.92307692, 120.83963494,\n",
              "       120.863103  , 120.88917862, 120.95306389, 120.88396349,\n",
              "       120.96349413, 120.8904824 , 120.90352021, 120.88265971,\n",
              "       120.88917862, 120.93872229, 120.92568449, 120.90091265,\n",
              "       120.89960887, 120.90743155, 120.89308996, 120.91264668,\n",
              "       120.94002608, 120.93350717, 120.9517601 , 120.88005215,\n",
              "       120.91525424, 120.97783572, 120.88657106, 120.88396349,\n",
              "       120.92177314, 120.88526728, 120.93481095, 120.94263364,\n",
              "       120.93741851, 120.80964798, 120.8083442 , 120.88135593,\n",
              "       120.83833116, 120.80573664, 120.90091265, 120.94263364,\n",
              "       120.90352021, 120.93741851, 120.94263364, 120.8904824 ,\n",
              "       120.92568449, 120.90873533, 120.9178618 , 120.94132986,\n",
              "       120.88917862, 120.79400261, 120.93872229, 120.92307692,\n",
              "       120.93350717, 120.92829205, 120.92307692, 120.93220339,\n",
              "       120.85136897, 120.89439374, 120.95045632, 120.88265971,\n",
              "       120.90743155, 120.9243807 , 120.86571056, 120.8970013 ,\n",
              "       120.91134289, 120.89830508, 120.87874837, 120.79530639,\n",
              "       120.85528031, 120.91003911, 120.89439374, 120.92177314,\n",
              "       120.8904824 , 120.93089961, 120.86571056, 120.9178618 ,\n",
              "       120.82268579, 120.95697523, 120.90743155, 120.90612777,\n",
              "       120.88005215, 120.9452412 , 120.89178618, 120.80704042,\n",
              "       120.96479791, 120.93611473, 120.82659713, 120.91003911,\n",
              "       120.91134289, 120.92698827, 120.8904824 , 120.85658409,\n",
              "       120.81355932, 120.8904824 , 120.81616688, 120.93220339,\n",
              "       120.85397653, 120.90743155, 120.91395046, 120.82529335,\n",
              "       120.83311604, 120.91525424, 120.87222947, 120.91395046,\n",
              "       120.89960887, 120.96349413, 120.90612777, 120.8970013 ,\n",
              "       120.90612777, 120.93220339, 120.81355932, 120.92959583,\n",
              "       120.91134289, 120.93481095, 120.88917862, 120.88005215,\n",
              "       120.88526728, 120.92959583, 120.90352021, 120.91916558,\n",
              "       120.90743155, 120.88526728, 120.93220339, 120.91655802,\n",
              "       120.91655802, 120.92959583, 120.92568449, 120.92177314,\n",
              "       120.91916558, 120.88526728, 120.86049544, 120.93481095,\n",
              "       120.9178618 , 120.84745763, 120.83441982, 120.81877445,\n",
              "       120.87483703, 120.91264668, 120.93350717, 120.89960887,\n",
              "       120.89178618, 120.89569752, 120.91395046, 120.85006519,\n",
              "       120.92046936, 120.89569752, 120.88657106, 120.94784876,\n",
              "       120.84093872, 120.79269883, 120.83441982, 120.863103  ,\n",
              "       120.90221643, 120.90612777, 120.863103  , 120.90743155,\n",
              "       120.9243807 , 120.85136897, 120.83702738, 120.92307692,\n",
              "       120.96349413, 120.89178618, 120.93350717, 120.79791395,\n",
              "       120.84876141, 120.93089961, 120.89439374, 120.92046936,\n",
              "       120.9791395 , 120.84093872, 120.92829205, 120.88917862,\n",
              "       120.87483703, 120.88396349, 120.88265971, 120.91264668,\n",
              "       120.8696219 , 120.86440678, 120.91264668, 120.84615385,\n",
              "       120.89439374, 120.88396349, 120.93481095, 120.86701434,\n",
              "       120.83181226, 120.92307692, 120.88657106, 120.89830508,\n",
              "       120.89308996, 120.88917862, 120.83311604, 120.88396349,\n",
              "       120.90873533, 120.94784876, 120.90221643, 120.88657106,\n",
              "       120.83833116, 120.93089961, 120.84615385, 120.88787484,\n",
              "       120.88396349, 120.87744459, 120.91916558, 120.8083442 ,\n",
              "       120.82659713, 120.92959583, 120.91134289, 120.92568449,\n",
              "       120.94393742, 120.90352021, 120.85788787, 120.89960887,\n",
              "       120.90743155, 120.90612777, 120.90091265, 120.86831812,\n",
              "       120.82398957, 120.93220339, 120.88265971, 120.89569752,\n",
              "       120.82529335, 120.91395046, 120.91525424, 120.92829205,\n",
              "       120.88787484, 120.96740548, 120.92307692, 120.91916558,\n",
              "       120.89569752, 120.91916558, 120.91003911, 120.8696219 ,\n",
              "       120.85267275, 120.92177314, 120.86049544, 120.94654498,\n",
              "       120.8083442 , 120.84093872, 120.87483703, 120.89439374,\n",
              "       120.91134289, 120.81616688, 120.85136897, 120.88526728,\n",
              "       120.87353325, 120.89178618, 120.91395046, 120.80443286,\n",
              "       120.93741851, 120.83050847, 120.93611473, 120.92046936,\n",
              "       120.89308996, 120.89439374, 120.88787484, 120.93089961])"
            ]
          },
          "metadata": {},
          "execution_count": 40
        }
      ]
    },
    {
      "cell_type": "code",
      "source": [
        "outliers_glucose_means = outlier_quantiles(glucose_means)\n",
        "outliers_glucose_means"
      ],
      "metadata": {
        "colab": {
          "base_uri": "https://localhost:8080/"
        },
        "id": "lx7jACVNv-RA",
        "outputId": "bac83d3f-c9cd-4686-db4f-4270aea9e839"
      },
      "execution_count": 41,
      "outputs": [
        {
          "output_type": "execute_result",
          "data": {
            "text/plain": [
              "(120.78862451108215, 121.00374837027378)"
            ]
          },
          "metadata": {},
          "execution_count": 41
        }
      ]
    },
    {
      "cell_type": "code",
      "source": [
        "for i in range(len(diabetes['Glucose'])):\n",
        "  if glucose_means[i] < outliers_glucose_means[0] or glucose_means[i] > outliers_glucose_means[1]:\n",
        "    print(f\"La mediana[{i}] = {glucose_means[i]} es influyente\")"
      ],
      "metadata": {
        "colab": {
          "base_uri": "https://localhost:8080/"
        },
        "id": "RmOoqTbXwU3g",
        "outputId": "3bda7fc5-8aa4-4670-f035-400d47168fd6"
      },
      "execution_count": 42,
      "outputs": [
        {
          "output_type": "stream",
          "name": "stdout",
          "text": [
            "La mediana[75] = 121.05215123859192 es influyente\n",
            "La mediana[182] = 121.05215123859192 es influyente\n",
            "La mediana[342] = 121.05215123859192 es influyente\n",
            "La mediana[349] = 121.05215123859192 es influyente\n",
            "La mediana[502] = 121.05215123859192 es influyente\n"
          ]
        }
      ]
    },
    {
      "cell_type": "code",
      "source": [
        "bmi_means = means_array(diabetes, 'BMI')\n",
        "bmi_means"
      ],
      "metadata": {
        "id": "qlYdbEltvqyk",
        "colab": {
          "base_uri": "https://localhost:8080/"
        },
        "outputId": "260b78eb-7c78-480d-9863-35fe80b2b81d"
      },
      "execution_count": 43,
      "outputs": [
        {
          "output_type": "execute_result",
          "data": {
            "text/plain": [
              "array([31.9904824 , 31.99960887, 32.00391134, 31.99765319, 31.97809648,\n",
              "       32.00091265, 31.99387223, 31.98826597, 31.99452412, 32.03428944,\n",
              "       31.98526728, 31.98474576, 31.99895698, 31.99504563, 32.00065189,\n",
              "       31.99517601, 31.97457627, 31.99569752, 31.97783572, 31.98917862,\n",
              "       31.98305085, 31.98813559, 31.98239896, 31.99647979, 31.98657106,\n",
              "       31.99374185, 31.98292047, 32.00404172, 32.0053455 , 31.98983051,\n",
              "       31.98735332, 31.99308996, 32.00195567, 32.0083442 , 31.99830508,\n",
              "       32.0029987 , 31.99100391, 31.99139505, 31.98448501, 31.98591917,\n",
              "       31.98996089, 31.98187744, 32.00469361, 31.97509778, 31.99856584,\n",
              "       31.97953064, 31.99556714, 31.99778357, 31.9833116 , 32.03428944,\n",
              "       32.00899609, 32.00273794, 32.00247718, 31.99035202, 31.98904824,\n",
              "       32.00430248, 31.9851369 , 31.97327249, 31.98148631, 31.98018253,\n",
              "       32.03428944, 31.99139505, 32.00169492, 32.0011734 , 31.99152542,\n",
              "       31.99647979, 31.99191656, 31.97861799, 32.00873533, 31.99661017,\n",
              "       31.99139505, 31.9970013 , 31.97770535, 31.98852673, 31.99256845,\n",
              "       32.00208605, 31.99178618, 31.9851369 , 31.9779661 , 32.00169492,\n",
              "       32.00508475, 32.03428944, 31.99608866, 32.00221643, 31.97066493,\n",
              "       31.99204694, 31.98657106, 31.98409387, 31.98591917, 31.99973924,\n",
              "       32.00938722, 31.99256845, 31.97340287, 32.00325945, 32.00208605,\n",
              "       31.99009126, 31.99308996, 32.00769231, 31.99687093, 31.96949153,\n",
              "       31.98344198, 32.00026076, 32.00495437, 31.99960887, 31.98265971,\n",
              "       31.99687093, 32.00508475, 31.9958279 , 31.98956975, 31.98552803,\n",
              "       31.99087353, 31.98996089, 31.99361147, 31.98996089, 31.99452412,\n",
              "       31.99361147, 31.98996089, 31.99035202, 31.99752282, 32.00404172,\n",
              "       31.96492829, 31.98970013, 31.9904824 , 31.99934811, 31.99087353,\n",
              "       31.96258149, 31.97835724, 31.99087353, 31.989309  , 31.99791395,\n",
              "       31.99556714, 31.99087353, 31.989309  , 31.98435463, 32.00677966,\n",
              "       31.99022164, 31.99413299, 31.99687093, 31.99361147, 31.98617992,\n",
              "       32.00677966, 31.98279009, 31.99191656, 31.99204694, 31.99152542,\n",
              "       32.03428944, 31.99152542, 31.99452412, 31.99035202, 31.99869622,\n",
              "       31.98552803, 32.00573664, 31.98956975, 31.98135593, 31.97183833,\n",
              "       31.96910039, 32.00221643, 32.00143416, 31.99647979, 31.9809648 ,\n",
              "       31.99556714, 31.98578879, 31.97666232, 31.99556714, 31.99308996,\n",
              "       31.99530639, 31.99191656, 31.99569752, 31.99269883, 31.99726206,\n",
              "       31.99413299, 31.98813559, 31.99661017, 31.97757497, 31.99556714,\n",
              "       31.9916558 , 31.99361147, 31.94680574, 31.9756193 , 31.9833116 ,\n",
              "       32.00404172, 31.98878748, 31.99817471, 31.99934811, 31.99830508,\n",
              "       31.9874837 , 31.99504563, 31.99256845, 31.99791395, 31.99308996,\n",
              "       32.00482399, 31.99113429, 31.9946545 , 31.96610169, 32.00247718,\n",
              "       31.98292047, 32.00260756, 32.00443286, 31.98891786, 31.99400261,\n",
              "       31.99387223, 31.98200782, 31.99869622, 32.00769231, 31.9851369 ,\n",
              "       32.00312907, 31.98539765, 31.9851369 , 31.99100391, 31.98800522,\n",
              "       31.99817471, 31.97848761, 31.98970013, 31.97874837, 31.98970013,\n",
              "       31.9797914 , 31.98761408, 31.99517601, 31.99647979, 31.98500652,\n",
              "       31.98917862, 31.99308996, 32.00143416, 31.99674055, 32.00352021,\n",
              "       31.98917862, 31.98774446, 31.98578879, 31.98644068, 31.97535854,\n",
              "       31.97692308, 31.97405476, 32.0011734 , 31.98865711, 31.99556714,\n",
              "       31.97744459, 31.9874837 , 31.9767927 , 31.99413299, 32.01029987,\n",
              "       31.99621904, 31.99113429, 32.00091265, 31.99895698, 31.98448501,\n",
              "       31.99517601, 31.99361147, 31.96610169, 31.98813559, 31.99504563,\n",
              "       31.99361147, 31.99778357, 32.00247718, 31.98761408, 31.99830508,\n",
              "       31.9904824 , 31.99504563, 31.99687093, 32.00052151, 31.99087353,\n",
              "       31.99400261, 31.99517601, 31.99243807, 31.99204694, 31.99256845,\n",
              "       31.9904824 , 31.98696219, 31.9821382 , 32.00156454, 31.99843546,\n",
              "       31.97483703, 32.00143416, 32.00430248, 31.99100391, 31.98970013,\n",
              "       31.98148631, 31.99973924, 31.99804433, 32.00182529, 32.00130378,\n",
              "       31.98487614, 31.9874837 , 31.99204694, 31.9946545 , 31.99908735,\n",
              "       32.00039113, 31.98383312, 31.97483703, 32.0071708 , 31.98722295,\n",
              "       31.98617992, 31.98657106, 31.97783572, 31.98148631, 32.00573664,\n",
              "       31.98800522, 31.99778357, 31.99426336, 31.98657106, 32.00352021,\n",
              "       31.99217731, 31.99308996, 31.98761408, 31.96531943, 32.00691004,\n",
              "       31.98252934, 32.00104302, 32.00195567, 31.99452412, 31.99139505,\n",
              "       32.00013038, 31.98292047, 31.99960887, 31.9958279 , 31.9874837 ,\n",
              "       31.98983051, 32.00912647, 31.99452412, 31.98461538, 32.00365059,\n",
              "       31.99843546, 31.99308996, 31.99856584, 31.99934811, 31.98774446,\n",
              "       32.00091265, 31.98852673, 31.98852673, 31.97496741, 31.99413299,\n",
              "       32.0041721 , 31.9916558 , 31.97783572, 32.00352021, 32.00312907,\n",
              "       31.97183833, 31.99022164, 31.99361147, 31.98970013, 31.98226858,\n",
              "       32.00052151, 32.00052151, 31.99256845, 31.98904824, 31.9863103 ,\n",
              "       31.98409387, 31.99687093, 32.00365059, 32.00586701, 31.98083442,\n",
              "       31.97926988, 31.99361147, 31.98943937, 31.9988266 , 31.97861799,\n",
              "       31.9946545 , 31.99087353, 31.98226858, 31.98826597, 31.98670143,\n",
              "       31.99361147, 31.99543677, 31.98318123, 31.98409387, 31.98878748,\n",
              "       31.98996089, 31.99830508, 32.00691004, 31.99843546, 31.99152542,\n",
              "       31.98422425, 32.03428944, 31.98761408, 31.98878748, 31.98709257,\n",
              "       31.98318123, 32.00143416, 31.98578879, 31.97131682, 31.97770535,\n",
              "       31.99413299, 32.00821382, 32.0011734 , 32.00156454, 32.00260756,\n",
              "       32.00521512, 31.99217731, 31.97783572, 31.99256845, 31.99308996,\n",
              "       31.99256845, 31.97470665, 32.00338983, 32.00547588, 31.99139505,\n",
              "       31.99817471, 32.00208605, 31.98956975, 32.00677966, 31.98878748,\n",
              "       31.99256845, 32.00273794, 31.98865711, 31.99308996, 31.99139505,\n",
              "       31.97940026, 31.99661017, 32.00573664, 32.00052151, 31.97900913,\n",
              "       31.98774446, 31.98943937, 31.97900913, 32.00013038, 31.98917862,\n",
              "       31.98774446, 31.9988266 , 31.98409387, 32.01056063, 31.99986962,\n",
              "       31.97522816, 32.00039113, 31.98135593, 31.99413299, 31.97835724,\n",
              "       31.98604954, 32.03428944, 31.98983051, 31.98135593, 31.98865711,\n",
              "       32.0053455 , 31.9946545 , 31.99517601, 32.00091265, 32.00234681,\n",
              "       31.97900913, 31.98552803, 31.99530639, 32.01056063, 31.9863103 ,\n",
              "       31.98956975, 31.99230769, 31.99100391, 31.99452412, 31.99556714,\n",
              "       31.95684485, 32.00130378, 31.98670143, 31.9904824 , 31.99452412,\n",
              "       32.00664928, 31.99661017, 31.98226858, 32.00873533, 31.98500652,\n",
              "       31.9904824 , 31.99947849, 31.99491525, 31.98526728, 32.00052151,\n",
              "       32.0071708 , 32.00586701, 31.98826597, 31.99830508, 32.0029987 ,\n",
              "       32.00586701, 31.99804433, 31.9863103 , 31.99517601, 31.97418514,\n",
              "       31.98044329, 31.99100391, 31.98370274, 31.99530639, 31.99661017,\n",
              "       31.99869622, 31.99035202, 32.00325945, 32.00052151, 31.99778357,\n",
              "       31.98800522, 31.98839635, 31.99804433, 31.98448501, 31.97666232,\n",
              "       31.9791395 , 31.98122555, 31.97366362, 32.00091265, 32.00026076,\n",
              "       31.9863103 , 31.99061278, 31.99152542, 31.99661017, 32.03428944,\n",
              "       31.99960887, 32.00039113, 31.99504563, 32.00156454, 31.99608866,\n",
              "       32.00143416, 31.98578879, 31.98344198, 31.99087353, 31.98565841,\n",
              "       31.99087353, 31.98670143, 31.9970013 , 31.9946545 , 32.00169492,\n",
              "       31.99556714, 32.00547588, 32.00273794, 31.99869622, 32.00091265,\n",
              "       31.99308996, 31.99478488, 31.98526728, 31.99152542, 32.00873533,\n",
              "       32.00169492, 31.99100391, 32.03428944, 31.98970013, 31.99308996,\n",
              "       32.00586701, 32.01056063, 32.        , 31.99413299, 32.00221643,\n",
              "       31.99543677, 31.97522816, 31.98044329, 31.99543677, 31.99087353,\n",
              "       31.99139505, 31.99569752, 32.00599739, 31.98696219, 31.98683181,\n",
              "       31.98292047, 31.99204694, 31.98878748, 31.98279009, 31.99256845,\n",
              "       31.989309  , 31.97744459, 31.99113429, 31.99152542, 31.99713168,\n",
              "       31.99856584, 31.99269883, 31.99804433, 31.99530639, 31.98617992,\n",
              "       32.00104302, 31.98461538, 31.99804433, 31.97405476, 31.99504563,\n",
              "       31.99022164, 31.98044329, 31.98526728, 31.99921773, 31.99204694,\n",
              "       32.00026076, 31.98396349, 31.99256845, 31.9934811 , 31.98956975,\n",
              "       31.99191656, 32.00482399, 31.9958279 , 31.98904824, 31.99504563,\n",
              "       31.98800522, 32.0029987 , 31.97835724, 31.99908735, 31.98904824,\n",
              "       31.97940026, 32.00169492, 31.99973924, 31.98383312, 31.99687093,\n",
              "       32.00495437, 31.98878748, 32.00260756, 31.99087353, 32.00677966,\n",
              "       31.97327249, 31.98292047, 31.98943937, 31.99713168, 31.9904824 ,\n",
              "       31.99256845, 31.97522816, 31.99804433, 31.9863103 , 32.0041721 ,\n",
              "       31.99895698, 32.00338983, 31.99804433, 31.98839635, 31.99726206,\n",
              "       31.98761408, 31.9821382 , 32.00886571, 31.98018253, 32.0029987 ,\n",
              "       31.99400261, 31.99139505, 31.98448501, 31.99191656, 31.98722295,\n",
              "       32.00065189, 31.99687093, 32.00808344, 31.99752282, 31.99204694,\n",
              "       31.98422425, 32.00273794, 31.98109518, 31.97757497, 31.99413299,\n",
              "       31.9851369 , 32.00208605, 31.99204694, 31.98917862, 32.00208605,\n",
              "       31.99856584, 31.989309  , 32.00013038, 31.99843546, 32.00052151,\n",
              "       31.99361147, 31.99674055, 31.99308996, 31.9809648 , 32.00886571,\n",
              "       31.99608866, 31.98956975, 31.9958279 , 31.99778357, 31.99830508,\n",
              "       31.98292047, 32.00378096, 31.98500652, 31.99739244, 31.99986962,\n",
              "       32.00143416, 31.99022164, 31.98983051, 31.99934811, 31.98970013,\n",
              "       31.98383312, 32.00586701, 31.98357236, 31.98344198, 31.98970013,\n",
              "       31.99817471, 31.97835724, 31.98526728, 31.98487614, 31.99035202,\n",
              "       31.98891786, 31.99191656, 31.99843546, 31.98996089, 31.99400261,\n",
              "       31.9904824 , 32.0011734 , 31.98800522, 31.95958279, 31.98787484,\n",
              "       31.99400261, 32.00195567, 31.98826597, 31.98735332, 32.00273794,\n",
              "       32.00273794, 31.9696219 , 31.97614081, 31.99217731, 32.03428944,\n",
              "       31.99100391, 32.0041721 , 31.99739244, 32.00286832, 31.97418514,\n",
              "       32.00221643, 31.9791395 , 31.9833116 , 31.98409387, 32.00365059,\n",
              "       31.9946545 , 31.99530639, 32.00169492, 31.989309  , 31.97627119,\n",
              "       31.9874837 , 31.99830508, 31.98865711, 31.98409387, 31.99726206,\n",
              "       31.98239896, 32.03428944, 31.98943937, 31.99152542, 31.98474576,\n",
              "       31.99361147, 31.99569752, 31.98057366, 31.99986962, 31.9958279 ,\n",
              "       31.99009126, 31.99022164, 32.0041721 , 31.98800522, 31.98787484,\n",
              "       31.99608866, 31.98461538, 31.99608866, 31.9833116 , 31.99152542,\n",
              "       31.98292047, 31.98722295, 31.99204694, 32.00443286, 31.99504563,\n",
              "       31.99726206, 31.99726206, 31.97627119, 31.99647979, 32.00391134,\n",
              "       31.98813559, 31.99856584, 31.99256845, 31.98657106, 31.98279009,\n",
              "       31.9791395 , 31.99413299, 31.99713168, 31.9916558 , 31.98135593,\n",
              "       31.99517601, 31.97001304, 31.97392438, 31.98683181, 32.00260756,\n",
              "       31.99361147, 31.98344198, 32.00039113, 31.97783572, 31.99204694,\n",
              "       31.98670143, 31.99256845, 31.98696219, 31.98539765, 31.98800522,\n",
              "       31.99726206, 31.97692308, 32.00495437, 31.99139505, 31.9863103 ,\n",
              "       32.00013038, 31.99504563, 31.9946545 ])"
            ]
          },
          "metadata": {},
          "execution_count": 43
        }
      ]
    },
    {
      "cell_type": "code",
      "source": [
        "outliers_bmi_means = outlier_quantiles(bmi_means)\n",
        "outliers_bmi_means"
      ],
      "metadata": {
        "colab": {
          "base_uri": "https://localhost:8080/"
        },
        "id": "dR1TtoyswFhX",
        "outputId": "46e12f47-2a80-465b-ffc4-766edef30a74"
      },
      "execution_count": 44,
      "outputs": [
        {
          "output_type": "execute_result",
          "data": {
            "text/plain": [
              "(31.968383311603645, 32.01688396349414)"
            ]
          },
          "metadata": {},
          "execution_count": 44
        }
      ]
    },
    {
      "cell_type": "code",
      "source": [
        "for i in range(len(diabetes['BMI'])):\n",
        "  if bmi_means[i] < outliers_bmi_means[0] or bmi_means[i] > outliers_bmi_means[1]:\n",
        "    print(f\"La mediana[{i}] = {bmi_means[i]} es influyente\")"
      ],
      "metadata": {
        "colab": {
          "base_uri": "https://localhost:8080/"
        },
        "id": "v-sJvVTywSjR",
        "outputId": "d7c7ceea-d664-4d65-987a-540c64a423bf"
      },
      "execution_count": 45,
      "outputs": [
        {
          "output_type": "stream",
          "name": "stdout",
          "text": [
            "La mediana[9] = 32.034289439374184 es influyente\n",
            "La mediana[49] = 32.034289439374184 es influyente\n",
            "La mediana[60] = 32.034289439374184 es influyente\n",
            "La mediana[81] = 32.034289439374184 es influyente\n",
            "La mediana[120] = 31.964928292046935 es influyente\n",
            "La mediana[125] = 31.9625814863103 es influyente\n",
            "La mediana[145] = 32.034289439374184 es influyente\n",
            "La mediana[177] = 31.946805736636243 es influyente\n",
            "La mediana[193] = 31.966101694915253 es influyente\n",
            "La mediana[247] = 31.966101694915253 es influyente\n",
            "La mediana[303] = 31.96531942633637 es influyente\n",
            "La mediana[371] = 32.034289439374184 es influyente\n",
            "La mediana[426] = 32.03428943937418 es influyente\n",
            "La mediana[445] = 31.956844850065185 es influyente\n",
            "La mediana[494] = 32.034289439374184 es influyente\n",
            "La mediana[522] = 32.034289439374184 es influyente\n",
            "La mediana[673] = 31.959582790091265 es influyente\n",
            "La mediana[684] = 32.034289439374184 es influyente\n",
            "La mediana[706] = 32.034289439374184 es influyente\n"
          ]
        }
      ]
    },
    {
      "cell_type": "markdown",
      "source": [
        "#### Escala los atributos usando MinMaxScaler"
      ],
      "metadata": {
        "id": "5DOSMsezvKco"
      }
    },
    {
      "cell_type": "code",
      "source": [
        "scaler.fit(diabetes)"
      ],
      "metadata": {
        "colab": {
          "base_uri": "https://localhost:8080/"
        },
        "id": "hpbeqHfCxc-L",
        "outputId": "98fd9964-1a74-4c60-b9e9-a2a3cecbcc8f"
      },
      "execution_count": 46,
      "outputs": [
        {
          "output_type": "execute_result",
          "data": {
            "text/plain": [
              "MinMaxScaler()"
            ]
          },
          "metadata": {},
          "execution_count": 46
        }
      ]
    },
    {
      "cell_type": "code",
      "source": [
        "scaler.data_max_"
      ],
      "metadata": {
        "colab": {
          "base_uri": "https://localhost:8080/"
        },
        "id": "tqY8QrVLxx9o",
        "outputId": "955946d4-6a58-48bb-c0d1-635ee5a31a63"
      },
      "execution_count": 47,
      "outputs": [
        {
          "output_type": "execute_result",
          "data": {
            "text/plain": [
              "array([ 17.  , 199.  , 122.  ,  99.  , 846.  ,  67.1 ,   2.42,  81.  ,\n",
              "         1.  ])"
            ]
          },
          "metadata": {},
          "execution_count": 47
        }
      ]
    },
    {
      "cell_type": "code",
      "source": [
        "scaler.data_min_"
      ],
      "metadata": {
        "colab": {
          "base_uri": "https://localhost:8080/"
        },
        "id": "182fic4Ox6Sg",
        "outputId": "45ab3409-920a-436f-ae7e-4794cc7c5b15"
      },
      "execution_count": 48,
      "outputs": [
        {
          "output_type": "execute_result",
          "data": {
            "text/plain": [
              "array([ 0.   ,  0.   ,  0.   ,  0.   ,  0.   ,  0.   ,  0.078, 21.   ,\n",
              "        0.   ])"
            ]
          },
          "metadata": {},
          "execution_count": 48
        }
      ]
    },
    {
      "cell_type": "code",
      "source": [
        "diabetes_transform = scaler.transform(diabetes)\n",
        "diabetes_transform"
      ],
      "metadata": {
        "colab": {
          "base_uri": "https://localhost:8080/"
        },
        "id": "1CLahgoQyCUZ",
        "outputId": "844f9a47-399c-4ec7-a5e2-39622308498f"
      },
      "execution_count": 49,
      "outputs": [
        {
          "output_type": "execute_result",
          "data": {
            "text/plain": [
              "array([[0.35294118, 0.74371859, 0.59016393, ..., 0.23441503, 0.48333333,\n",
              "        1.        ],\n",
              "       [0.05882353, 0.42713568, 0.54098361, ..., 0.11656704, 0.16666667,\n",
              "        0.        ],\n",
              "       [0.47058824, 0.91959799, 0.52459016, ..., 0.25362938, 0.18333333,\n",
              "        1.        ],\n",
              "       ...,\n",
              "       [0.29411765, 0.6080402 , 0.59016393, ..., 0.07130658, 0.15      ,\n",
              "        0.        ],\n",
              "       [0.05882353, 0.63316583, 0.49180328, ..., 0.11571307, 0.43333333,\n",
              "        1.        ],\n",
              "       [0.05882353, 0.46733668, 0.57377049, ..., 0.10119556, 0.03333333,\n",
              "        0.        ]])"
            ]
          },
          "metadata": {},
          "execution_count": 49
        }
      ]
    }
  ]
}